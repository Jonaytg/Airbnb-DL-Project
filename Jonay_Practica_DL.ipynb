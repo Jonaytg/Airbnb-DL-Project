{
  "cells": [
    {
      "cell_type": "markdown",
      "metadata": {
        "id": "uk3ud1H8yfkI"
      },
      "source": [
        "# PROYECTO AIRBNB DE DEEP LEARNING\n",
        "\n",
        "Abordaremos la resolución de un problema real mediante el uso de técnicas de Deep Learning. En particular, nos centraremos en predecir el precio de habitaciones en AirBnB, utilizando todas las características disponibles en el conjunto de datos.\n",
        "\n",
        "## 1. PREPROCESADO DE LOS DATOS\n",
        "* En primer lugar, se descargan y cargan los datos."
      ]
    },
    {
      "cell_type": "code",
      "execution_count": null,
      "metadata": {
        "colab": {
          "base_uri": "https://localhost:8080/"
        },
        "id": "Av5eIRL1zPUP",
        "outputId": "ded92d5c-42cc-403f-82fe-d34450900525"
      },
      "outputs": [
        {
          "name": "stdout",
          "output_type": "stream",
          "text": [
            "Drive already mounted at /content/drive; to attempt to forcibly remount, call drive.mount(\"/content/drive\", force_remount=True).\n"
          ]
        }
      ],
      "source": [
        "import cv2\n",
        "import numpy as np\n",
        "import pandas as pd\n",
        "import imageio.v3 as io\n",
        "import tensorflow as tf\n",
        "import matplotlib.pyplot as plt\n",
        "\n",
        "from google.colab import files\n",
        "from sklearn.model_selection import train_test_split\n",
        "from tensorflow.keras.utils import to_categorical\n",
        "from tqdm import tqdm\n",
        "from typing import Optional, Union\n",
        "\n",
        "from google.colab import files\n",
        "from google.colab import drive\n",
        "import numpy as np\n",
        "import pandas as pd\n",
        "\n",
        "drive.mount('/content/drive')\n",
        "airbnb_imgs = np.load('/content/drive/MyDrive/images.npy')\n",
        "airbnb_data = pd.read_csv(\"/content/drive/MyDrive/airbnb_data.csv\", sep=';')\n",
        "idxs = np.load('/content/drive/MyDrive/indices.npy')"
      ]
    },
    {
      "cell_type": "code",
      "execution_count": null,
      "metadata": {
        "id": "LkJpnpY50N_y"
      },
      "outputs": [],
      "source": [
        "##La primera vez que se ejecuta el código, se suben los datos de la siguiente forma\n",
        "#uploaded = files.upload()\n",
        "#airbnb_data = pd.read_csv(\"dataset.csv\",delimiter=';')"
      ]
    },
    {
      "cell_type": "markdown",
      "metadata": {
        "id": "zUGwCB69V3Sm"
      },
      "source": [
        "* En segundo lugar, se eliminan aquellas instancias que no tengan precio y aquellas cuyo precio se considere un outlayer.\n"
      ]
    },
    {
      "cell_type": "code",
      "execution_count": null,
      "metadata": {
        "id": "IuNON4P7Yyfq"
      },
      "outputs": [],
      "source": [
        "airbnb_data = airbnb_data.dropna(subset=['price'])\n",
        "airbnb_data['price'] = airbnb_data['price'].replace({'\\$': '', ',': ''}, regex=True).astype(float)\n",
        "airbnb_data = airbnb_data[airbnb_data['price'] < 1000]"
      ]
    },
    {
      "cell_type": "code",
      "execution_count": null,
      "metadata": {
        "id": "2vSTsZrn14t7"
      },
      "outputs": [],
      "source": [
        "## Sólo se ejecuta la primera vez\n",
        "#def download_images(paths: list,\n",
        "#                    canvas: tuple = (224, 224),\n",
        "#                    nb_channels: int = 3,\n",
        "#                    max_imgs: Optional[int] = None\n",
        "#                    ) -> tuple:\n",
        "#\n",
        "#  n_images = len(paths) if not max_imgs else max_imgs\n",
        "#  images = np.zeros((n_images, canvas[0], canvas[1], nb_channels),\n",
        "#                       dtype=np.uint8)\n",
        "#  downloaded_idxs = []\n",
        "#\n",
        "#  for i_img, url in enumerate(tqdm(paths, total=n_images)):\n",
        "#    if i_img >= n_images:\n",
        "#      break\n",
        "#    try:\n",
        "#        img = io.imread(url)\n",
        "#        img = cv2.resize(img, (canvas[0], canvas[1]))\n",
        "#        downloaded_idxs.append(i_img)\n",
        "#        images[i_img] = img\n",
        "#    except (IOError, ValueError) as e:  # Unavailable url / conversion error\n",
        "#        pass\n",
        "#  return images[downloaded_idxs], downloaded_idxs"
      ]
    },
    {
      "cell_type": "markdown",
      "metadata": {
        "id": "nnpTquAaWGAN"
      },
      "source": [
        "* Se eliminan los duplicados"
      ]
    },
    {
      "cell_type": "code",
      "execution_count": null,
      "metadata": {
        "colab": {
          "base_uri": "https://localhost:8080/"
        },
        "id": "5wrXp6NO5AOM",
        "outputId": "7c5dc089-ec13-4094-a6ca-c952e5787bc4"
      },
      "outputs": [
        {
          "data": {
            "text/plain": [
              "(3565, 72)"
            ]
          },
          "execution_count": 5,
          "metadata": {},
          "output_type": "execute_result"
        }
      ],
      "source": [
        "airbnb_data = airbnb_data.drop_duplicates(subset='id')\n",
        "airbnb_data.shape"
      ]
    },
    {
      "cell_type": "code",
      "execution_count": null,
      "metadata": {
        "id": "b_34Y-LW2AYj"
      },
      "outputs": [],
      "source": [
        "##La primera vez que se descargan las imágenes\n",
        "#images, idxs = download_images(airbnb_data['picture_url'], max_imgs=3600)\n",
        "#images = images.astype(\"float32\") / 255.\n",
        "#images.shape"
      ]
    },
    {
      "cell_type": "code",
      "execution_count": null,
      "metadata": {
        "id": "1DRkd-8dAlz6"
      },
      "outputs": [],
      "source": [
        "##La primera vez que se guardan los índices, imágenes y datos.\n",
        "#from google.colab import drive\n",
        "#drive.mount('/content/drive')\n",
        "#np.save('/content/drive/MyDrive/indices.npy', idxs)\n",
        "#np.save('/content/drive/MyDrive/images.npy', images)\n",
        "#airbnb_data.to_csv('airbnb_data.csv', sep=';', index=False)"
      ]
    },
    {
      "cell_type": "code",
      "execution_count": null,
      "metadata": {
        "id": "DPA2WhXiDbBS"
      },
      "outputs": [],
      "source": [
        "#!cp images.npy /content/drive/MyDrive/images.npy\n",
        "#!cp airbnb_data.csv /content/drive/MyDrive/airbnb_data.csv\n",
        "#!ls -lah images* airbnb*"
      ]
    },
    {
      "cell_type": "markdown",
      "metadata": {
        "id": "4I3oQTLB9WUt"
      },
      "source": [
        "* A continuación, se eliminan aquellas instancias de las cuales no se hayan podido descargar las imágenes."
      ]
    },
    {
      "cell_type": "code",
      "execution_count": null,
      "metadata": {
        "colab": {
          "base_uri": "https://localhost:8080/"
        },
        "id": "S7rvrXed9cK9",
        "outputId": "c7d2c8a4-7d26-4b6f-d027-cae041a7f135"
      },
      "outputs": [
        {
          "data": {
            "text/plain": [
              "((3096, 72), (3096, 224, 224, 3))"
            ]
          },
          "execution_count": 9,
          "metadata": {},
          "output_type": "execute_result"
        }
      ],
      "source": [
        "airbnb_data = airbnb_data.iloc[idxs]\n",
        "airbnb_data.shape, airbnb_imgs.shape"
      ]
    },
    {
      "cell_type": "markdown",
      "metadata": {
        "id": "v96RQEdFWZ6d"
      },
      "source": [
        "* Se eliminan aquellas columnas de características que consideramos irrelevantes para la predicción de la variable 'price'."
      ]
    },
    {
      "cell_type": "code",
      "execution_count": null,
      "metadata": {
        "id": "11cYomNuWf3M"
      },
      "outputs": [],
      "source": [
        "airbnb_data = airbnb_data.drop(['id', 'listing_url', 'scrape_id', 'last_scraped', 'source',\n",
        "       'picture_url', 'host_id', 'host_url', 'host_name',\n",
        "       'host_location', 'host_about',\n",
        "       'host_thumbnail_url', 'host_picture_url', 'host_neighbourhood',\n",
        "       'host_listings_count', 'host_total_listings_count',\n",
        "       'host_verifications', 'latitude', 'longitude',\n",
        "        'calendar_updated',\n",
        "       'has_availability', 'availability_30', 'availability_60',\n",
        "       'availability_90', 'availability_365', 'calendar_last_scraped', 'license',\n",
        "        'calculated_host_listings_count',\n",
        "       'calculated_host_listings_count_entire_homes',\n",
        "       'calculated_host_listings_count_private_rooms',\n",
        "       'calculated_host_listings_count_shared_rooms','neighbourhood_cleansed'], axis=1)"
      ]
    },
    {
      "cell_type": "markdown",
      "metadata": {
        "id": "dPMrmbF-NisC"
      },
      "source": [
        "* Ahora, ya podemos dividir el dataset en train, test y validation, tanto de los datos tabulares como de las imágenes."
      ]
    },
    {
      "cell_type": "code",
      "execution_count": null,
      "metadata": {
        "id": "4TR-Oafh3Mu_"
      },
      "outputs": [],
      "source": [
        "y_airbnb = airbnb_data['price']\n",
        "x_airbnb = airbnb_data.drop(['price'], axis=1)"
      ]
    },
    {
      "cell_type": "code",
      "execution_count": null,
      "metadata": {
        "colab": {
          "base_uri": "https://localhost:8080/"
        },
        "id": "nEtc5ZmP3-AD",
        "outputId": "091513b0-04e2-4bb1-fdd7-13d867776b9e"
      },
      "outputs": [
        {
          "name": "stdout",
          "output_type": "stream",
          "text": [
            "El conjunto de entrenamiento de los datos tabulares tiene dimensiones:  (1980, 39)\n",
            "El conjunto de validación de los datos tabulares tiene dimensiones:  (496, 39)\n",
            "El conjunto de test tiene dimensiones:  (620, 39)\n"
          ]
        }
      ],
      "source": [
        "from sklearn.model_selection import train_test_split\n",
        "x_train, x_test, y_train, y_test = train_test_split( x_airbnb, y_airbnb, test_size = 0.2 , shuffle=True, random_state=0 )\n",
        "x_train, x_val, y_train, y_val = train_test_split(x_train, y_train, test_size=0.2)\n",
        "\n",
        "print(\"El conjunto de entrenamiento de los datos tabulares tiene dimensiones: \", x_train.shape)\n",
        "print(\"El conjunto de validación de los datos tabulares tiene dimensiones: \",x_val.shape)\n",
        "print(\"El conjunto de test tiene dimensiones: \",x_test.shape)\n",
        "\n",
        "#x_train.to_csv('airbnb_train.csv')\n",
        "#y_test.to_csv('airbnb_test.csv')\n"
      ]
    },
    {
      "cell_type": "code",
      "execution_count": null,
      "metadata": {
        "colab": {
          "base_uri": "https://localhost:8080/"
        },
        "id": "jRw-jAKc48ww",
        "outputId": "ed6dae5d-1e70-4438-8e6a-0767bf4c2e6d"
      },
      "outputs": [
        {
          "name": "stdout",
          "output_type": "stream",
          "text": [
            "El conjunto de entrenamiento de las imágenes tiene dimensiones:  (1980, 224, 224, 3)\n",
            "El conjunto de validación de las imágenes tiene dimensiones:  (496, 224, 224, 3)\n",
            "El conjunto de test tiene dimensiones:  (620, 224, 224, 3)\n"
          ]
        }
      ],
      "source": [
        "imgs_train, imgs_test, y_train_im, y_test_im =  train_test_split( airbnb_imgs, y_airbnb, test_size = 0.2 , shuffle=True, random_state=0 )\n",
        "imgs_train, imgs_val, y_train_im, y_val_im =  train_test_split( imgs_train, y_train_im, test_size = 0.2 , shuffle=True, random_state=0 )\n",
        "\n",
        "print(\"El conjunto de entrenamiento de las imágenes tiene dimensiones: \", imgs_train.shape)\n",
        "print(\"El conjunto de validación de las imágenes tiene dimensiones: \", imgs_val.shape)\n",
        "print(\"El conjunto de test tiene dimensiones: \",imgs_test.shape)"
      ]
    },
    {
      "cell_type": "markdown",
      "metadata": {
        "id": "_Yjqz3xxMPl5"
      },
      "source": [
        "* Posteriormente, eliminamos o imputamos los valores nulos, en función de la conveniencia."
      ]
    },
    {
      "cell_type": "code",
      "execution_count": null,
      "metadata": {
        "colab": {
          "base_uri": "https://localhost:8080/"
        },
        "id": "CPByjle2QhYc",
        "outputId": "a0a152a7-8ad8-471d-9017-3f7fdaf7b600"
      },
      "outputs": [
        {
          "name": "stdout",
          "output_type": "stream",
          "text": [
            "En la columna host_since hay un 0.0% de nulos.\n",
            "En la columna host_response_time hay un 7.47% de nulos.\n",
            "En la columna host_response_rate hay un 7.47% de nulos.\n",
            "En la columna host_acceptance_rate hay un 6.46% de nulos.\n",
            "En la columna host_is_superhost hay un 1.21% de nulos.\n",
            "En la columna host_has_profile_pic hay un 0.0% de nulos.\n",
            "En la columna host_identity_verified hay un 0.0% de nulos.\n",
            "En la columna neighbourhood hay un 38.94% de nulos.\n",
            "En la columna neighbourhood_group_cleansed hay un 100.0% de nulos.\n",
            "En la columna property_type hay un 0.0% de nulos.\n",
            "En la columna room_type hay un 0.0% de nulos.\n",
            "En la columna accommodates hay un 0.0% de nulos.\n",
            "En la columna bathrooms hay un 100.0% de nulos.\n",
            "En la columna bathrooms_text hay un 0.0% de nulos.\n",
            "En la columna bedrooms hay un 100.0% de nulos.\n",
            "En la columna beds hay un 1.67% de nulos.\n",
            "En la columna amenities hay un 0.0% de nulos.\n",
            "En la columna minimum_nights hay un 0.0% de nulos.\n",
            "En la columna maximum_nights hay un 0.0% de nulos.\n",
            "En la columna minimum_minimum_nights hay un 0.0% de nulos.\n",
            "En la columna maximum_minimum_nights hay un 0.0% de nulos.\n",
            "En la columna minimum_maximum_nights hay un 0.0% de nulos.\n",
            "En la columna maximum_maximum_nights hay un 0.0% de nulos.\n",
            "En la columna minimum_nights_avg_ntm hay un 0.0% de nulos.\n",
            "En la columna maximum_nights_avg_ntm hay un 0.0% de nulos.\n",
            "En la columna number_of_reviews hay un 0.0% de nulos.\n",
            "En la columna number_of_reviews_ltm hay un 0.0% de nulos.\n",
            "En la columna number_of_reviews_l30d hay un 0.0% de nulos.\n",
            "En la columna first_review hay un 22.42% de nulos.\n",
            "En la columna last_review hay un 22.42% de nulos.\n",
            "En la columna review_scores_rating hay un 22.37% de nulos.\n",
            "En la columna review_scores_accuracy hay un 22.37% de nulos.\n",
            "En la columna review_scores_cleanliness hay un 22.37% de nulos.\n",
            "En la columna review_scores_checkin hay un 22.42% de nulos.\n",
            "En la columna review_scores_communication hay un 22.37% de nulos.\n",
            "En la columna review_scores_location hay un 22.42% de nulos.\n",
            "En la columna review_scores_value hay un 22.42% de nulos.\n",
            "En la columna instant_bookable hay un 0.0% de nulos.\n",
            "En la columna reviews_per_month hay un 22.42% de nulos.\n"
          ]
        }
      ],
      "source": [
        "airbnb_data = x_train\n",
        "total = airbnb_data.shape[0]\n",
        "\n",
        "for i in airbnb_data.columns:\n",
        "    nulos = airbnb_data[i].isnull().sum()\n",
        "    print(f'En la columna {i} hay un {(nulos*100/total).round(2)}% de nulos.')"
      ]
    },
    {
      "cell_type": "markdown",
      "metadata": {
        "id": "0fKLbtAMQsKj"
      },
      "source": [
        "Aquellas columnas con un porcentaje elevado de nulos serán eliminadas, ya que en estos casos no tiene mucho sentido imputar los datos."
      ]
    },
    {
      "cell_type": "code",
      "execution_count": null,
      "metadata": {
        "id": "07vPneQ4Q0wb"
      },
      "outputs": [],
      "source": [
        "airbnb_data = airbnb_data.drop(['neighbourhood','neighbourhood_group_cleansed','bathrooms','bedrooms', 'host_since','first_review','last_review','amenities'], axis=1)"
      ]
    },
    {
      "cell_type": "markdown",
      "metadata": {
        "id": "cLtmPaucKdWG"
      },
      "source": [
        "En cambio, en las demás se aplicará la imputación mediante la media o la moda según convenga."
      ]
    },
    {
      "cell_type": "code",
      "execution_count": null,
      "metadata": {
        "colab": {
          "base_uri": "https://localhost:8080/"
        },
        "id": "7dMJytILL44t",
        "outputId": "8d2c30f2-99df-48a1-e088-f6d562fb23d3"
      },
      "outputs": [
        {
          "name": "stderr",
          "output_type": "stream",
          "text": [
            "<ipython-input-16-82c9694207d8>:1: FutureWarning: A value is trying to be set on a copy of a DataFrame or Series through chained assignment using an inplace method.\n",
            "The behavior will change in pandas 3.0. This inplace method will never work because the intermediate object on which we are setting values always behaves as a copy.\n",
            "\n",
            "For example, when doing 'df[col].method(value, inplace=True)', try using 'df.method({col: value}, inplace=True)' or df[col] = df[col].method(value) instead, to perform the operation inplace on the original object.\n",
            "\n",
            "\n",
            "  airbnb_data['host_response_time'].fillna(airbnb_data['host_response_time'].mode()[0], inplace=True)\n",
            "<ipython-input-16-82c9694207d8>:2: FutureWarning: A value is trying to be set on a copy of a DataFrame or Series through chained assignment using an inplace method.\n",
            "The behavior will change in pandas 3.0. This inplace method will never work because the intermediate object on which we are setting values always behaves as a copy.\n",
            "\n",
            "For example, when doing 'df[col].method(value, inplace=True)', try using 'df.method({col: value}, inplace=True)' or df[col] = df[col].method(value) instead, to perform the operation inplace on the original object.\n",
            "\n",
            "\n",
            "  airbnb_data['host_response_rate'].fillna(airbnb_data['host_response_rate'].mode()[0], inplace=True)\n",
            "<ipython-input-16-82c9694207d8>:3: FutureWarning: A value is trying to be set on a copy of a DataFrame or Series through chained assignment using an inplace method.\n",
            "The behavior will change in pandas 3.0. This inplace method will never work because the intermediate object on which we are setting values always behaves as a copy.\n",
            "\n",
            "For example, when doing 'df[col].method(value, inplace=True)', try using 'df.method({col: value}, inplace=True)' or df[col] = df[col].method(value) instead, to perform the operation inplace on the original object.\n",
            "\n",
            "\n",
            "  airbnb_data['host_acceptance_rate'].fillna(airbnb_data['host_acceptance_rate'].mode()[0], inplace=True)\n",
            "<ipython-input-16-82c9694207d8>:5: FutureWarning: A value is trying to be set on a copy of a DataFrame or Series through chained assignment using an inplace method.\n",
            "The behavior will change in pandas 3.0. This inplace method will never work because the intermediate object on which we are setting values always behaves as a copy.\n",
            "\n",
            "For example, when doing 'df[col].method(value, inplace=True)', try using 'df.method({col: value}, inplace=True)' or df[col] = df[col].method(value) instead, to perform the operation inplace on the original object.\n",
            "\n",
            "\n",
            "  airbnb_data['host_is_superhost'].fillna(airbnb_data['host_is_superhost'].mode()[0], inplace=True)\n",
            "<ipython-input-16-82c9694207d8>:6: FutureWarning: A value is trying to be set on a copy of a DataFrame or Series through chained assignment using an inplace method.\n",
            "The behavior will change in pandas 3.0. This inplace method will never work because the intermediate object on which we are setting values always behaves as a copy.\n",
            "\n",
            "For example, when doing 'df[col].method(value, inplace=True)', try using 'df.method({col: value}, inplace=True)' or df[col] = df[col].method(value) instead, to perform the operation inplace on the original object.\n",
            "\n",
            "\n",
            "  airbnb_data['beds'].fillna(airbnb_data['beds'].mode()[0], inplace=True)\n",
            "<ipython-input-16-82c9694207d8>:7: FutureWarning: A value is trying to be set on a copy of a DataFrame or Series through chained assignment using an inplace method.\n",
            "The behavior will change in pandas 3.0. This inplace method will never work because the intermediate object on which we are setting values always behaves as a copy.\n",
            "\n",
            "For example, when doing 'df[col].method(value, inplace=True)', try using 'df.method({col: value}, inplace=True)' or df[col] = df[col].method(value) instead, to perform the operation inplace on the original object.\n",
            "\n",
            "\n",
            "  airbnb_data['review_scores_rating'].fillna(airbnb_data['review_scores_rating'].mean(), inplace=True)\n",
            "<ipython-input-16-82c9694207d8>:8: FutureWarning: A value is trying to be set on a copy of a DataFrame or Series through chained assignment using an inplace method.\n",
            "The behavior will change in pandas 3.0. This inplace method will never work because the intermediate object on which we are setting values always behaves as a copy.\n",
            "\n",
            "For example, when doing 'df[col].method(value, inplace=True)', try using 'df.method({col: value}, inplace=True)' or df[col] = df[col].method(value) instead, to perform the operation inplace on the original object.\n",
            "\n",
            "\n",
            "  airbnb_data['review_scores_accuracy'].fillna(airbnb_data['review_scores_accuracy'].mean(), inplace=True)\n",
            "<ipython-input-16-82c9694207d8>:9: FutureWarning: A value is trying to be set on a copy of a DataFrame or Series through chained assignment using an inplace method.\n",
            "The behavior will change in pandas 3.0. This inplace method will never work because the intermediate object on which we are setting values always behaves as a copy.\n",
            "\n",
            "For example, when doing 'df[col].method(value, inplace=True)', try using 'df.method({col: value}, inplace=True)' or df[col] = df[col].method(value) instead, to perform the operation inplace on the original object.\n",
            "\n",
            "\n",
            "  airbnb_data['review_scores_cleanliness'].fillna(airbnb_data['review_scores_cleanliness'].mean(), inplace=True)\n",
            "<ipython-input-16-82c9694207d8>:10: FutureWarning: A value is trying to be set on a copy of a DataFrame or Series through chained assignment using an inplace method.\n",
            "The behavior will change in pandas 3.0. This inplace method will never work because the intermediate object on which we are setting values always behaves as a copy.\n",
            "\n",
            "For example, when doing 'df[col].method(value, inplace=True)', try using 'df.method({col: value}, inplace=True)' or df[col] = df[col].method(value) instead, to perform the operation inplace on the original object.\n",
            "\n",
            "\n",
            "  airbnb_data['review_scores_checkin'].fillna(airbnb_data['review_scores_checkin'].mean(), inplace=True)\n",
            "<ipython-input-16-82c9694207d8>:11: FutureWarning: A value is trying to be set on a copy of a DataFrame or Series through chained assignment using an inplace method.\n",
            "The behavior will change in pandas 3.0. This inplace method will never work because the intermediate object on which we are setting values always behaves as a copy.\n",
            "\n",
            "For example, when doing 'df[col].method(value, inplace=True)', try using 'df.method({col: value}, inplace=True)' or df[col] = df[col].method(value) instead, to perform the operation inplace on the original object.\n",
            "\n",
            "\n",
            "  airbnb_data['review_scores_communication'].fillna(airbnb_data['review_scores_communication'].mean(), inplace=True)\n",
            "<ipython-input-16-82c9694207d8>:12: FutureWarning: A value is trying to be set on a copy of a DataFrame or Series through chained assignment using an inplace method.\n",
            "The behavior will change in pandas 3.0. This inplace method will never work because the intermediate object on which we are setting values always behaves as a copy.\n",
            "\n",
            "For example, when doing 'df[col].method(value, inplace=True)', try using 'df.method({col: value}, inplace=True)' or df[col] = df[col].method(value) instead, to perform the operation inplace on the original object.\n",
            "\n",
            "\n",
            "  airbnb_data['review_scores_location'].fillna(airbnb_data['review_scores_location'].mean(), inplace=True)\n",
            "<ipython-input-16-82c9694207d8>:13: FutureWarning: A value is trying to be set on a copy of a DataFrame or Series through chained assignment using an inplace method.\n",
            "The behavior will change in pandas 3.0. This inplace method will never work because the intermediate object on which we are setting values always behaves as a copy.\n",
            "\n",
            "For example, when doing 'df[col].method(value, inplace=True)', try using 'df.method({col: value}, inplace=True)' or df[col] = df[col].method(value) instead, to perform the operation inplace on the original object.\n",
            "\n",
            "\n",
            "  airbnb_data['review_scores_value'].fillna(airbnb_data['review_scores_value'].mean(), inplace=True)\n",
            "<ipython-input-16-82c9694207d8>:14: FutureWarning: A value is trying to be set on a copy of a DataFrame or Series through chained assignment using an inplace method.\n",
            "The behavior will change in pandas 3.0. This inplace method will never work because the intermediate object on which we are setting values always behaves as a copy.\n",
            "\n",
            "For example, when doing 'df[col].method(value, inplace=True)', try using 'df.method({col: value}, inplace=True)' or df[col] = df[col].method(value) instead, to perform the operation inplace on the original object.\n",
            "\n",
            "\n",
            "  airbnb_data['reviews_per_month'].fillna(airbnb_data['reviews_per_month'].mean(), inplace=True)\n"
          ]
        }
      ],
      "source": [
        "airbnb_data['host_response_time'].fillna(airbnb_data['host_response_time'].mode()[0], inplace=True)\n",
        "airbnb_data['host_response_rate'].fillna(airbnb_data['host_response_rate'].mode()[0], inplace=True)\n",
        "airbnb_data['host_acceptance_rate'].fillna(airbnb_data['host_acceptance_rate'].mode()[0], inplace=True)\n",
        "airbnb_data['host_acceptance_rate'].fillna(airbnb_data['host_acceptance_rate'].mode()[0], inplace=True)\n",
        "airbnb_data['host_is_superhost'].fillna(airbnb_data['host_is_superhost'].mode()[0], inplace=True)\n",
        "airbnb_data['beds'].fillna(airbnb_data['beds'].mode()[0], inplace=True)\n",
        "airbnb_data['review_scores_rating'].fillna(airbnb_data['review_scores_rating'].mean(), inplace=True)\n",
        "airbnb_data['review_scores_accuracy'].fillna(airbnb_data['review_scores_accuracy'].mean(), inplace=True)\n",
        "airbnb_data['review_scores_cleanliness'].fillna(airbnb_data['review_scores_cleanliness'].mean(), inplace=True)\n",
        "airbnb_data['review_scores_checkin'].fillna(airbnb_data['review_scores_checkin'].mean(), inplace=True)\n",
        "airbnb_data['review_scores_communication'].fillna(airbnb_data['review_scores_communication'].mean(), inplace=True)\n",
        "airbnb_data['review_scores_location'].fillna(airbnb_data['review_scores_location'].mean(), inplace=True)\n",
        "airbnb_data['review_scores_value'].fillna(airbnb_data['review_scores_value'].mean(), inplace=True)\n",
        "airbnb_data['reviews_per_month'].fillna(airbnb_data['reviews_per_month'].mean(), inplace=True)"
      ]
    },
    {
      "cell_type": "markdown",
      "metadata": {
        "id": "VYhBI-d7TLbx"
      },
      "source": [
        "* Codificamos aquellas columnas que lo necesiten, usando tanto Label Encoding como One-hot encoding"
      ]
    },
    {
      "cell_type": "code",
      "execution_count": null,
      "metadata": {
        "id": "ynnEGFz5TRSQ"
      },
      "outputs": [],
      "source": [
        "from sklearn.preprocessing import LabelEncoder\n",
        "le_room = LabelEncoder()\n",
        "airbnb_data.loc[:,'room_type'] = le_room.fit_transform(airbnb_data['room_type'])\n",
        "airbnb_data.loc[:,'host_response_time'] = le_room.fit_transform(airbnb_data['host_response_time'])\n"
      ]
    },
    {
      "cell_type": "code",
      "execution_count": null,
      "metadata": {
        "colab": {
          "base_uri": "https://localhost:8080/"
        },
        "id": "GTx8pO3-UUeh",
        "outputId": "5d25c9a2-aa7c-4813-d0f9-83239ed7aa4e"
      },
      "outputs": [
        {
          "name": "stderr",
          "output_type": "stream",
          "text": [
            "<ipython-input-18-006bc9b799a7>:1: FutureWarning: Downcasting behavior in `replace` is deprecated and will be removed in a future version. To retain the old behavior, explicitly call `result.infer_objects(copy=False)`. To opt-in to the future behavior, set `pd.set_option('future.no_silent_downcasting', True)`\n",
            "  airbnb_data['host_is_superhost'] = airbnb_data['host_is_superhost'].replace({'f': 0, 't': 1})\n",
            "<ipython-input-18-006bc9b799a7>:2: FutureWarning: Downcasting behavior in `replace` is deprecated and will be removed in a future version. To retain the old behavior, explicitly call `result.infer_objects(copy=False)`. To opt-in to the future behavior, set `pd.set_option('future.no_silent_downcasting', True)`\n",
            "  airbnb_data['host_has_profile_pic'] = airbnb_data['host_has_profile_pic'].replace({'f': 0, 't': 1})\n",
            "<ipython-input-18-006bc9b799a7>:3: FutureWarning: Downcasting behavior in `replace` is deprecated and will be removed in a future version. To retain the old behavior, explicitly call `result.infer_objects(copy=False)`. To opt-in to the future behavior, set `pd.set_option('future.no_silent_downcasting', True)`\n",
            "  airbnb_data['host_identity_verified'] = airbnb_data['host_identity_verified'].replace({'f': 0, 't': 1})\n",
            "<ipython-input-18-006bc9b799a7>:4: FutureWarning: Downcasting behavior in `replace` is deprecated and will be removed in a future version. To retain the old behavior, explicitly call `result.infer_objects(copy=False)`. To opt-in to the future behavior, set `pd.set_option('future.no_silent_downcasting', True)`\n",
            "  airbnb_data['instant_bookable'] = airbnb_data['instant_bookable'].replace({'f': 0, 't': 1})\n"
          ]
        }
      ],
      "source": [
        "airbnb_data['host_is_superhost'] = airbnb_data['host_is_superhost'].replace({'f': 0, 't': 1})\n",
        "airbnb_data['host_has_profile_pic'] = airbnb_data['host_has_profile_pic'].replace({'f': 0, 't': 1})\n",
        "airbnb_data['host_identity_verified'] = airbnb_data['host_identity_verified'].replace({'f': 0, 't': 1})\n",
        "airbnb_data['instant_bookable'] = airbnb_data['instant_bookable'].replace({'f': 0, 't': 1})"
      ]
    },
    {
      "cell_type": "code",
      "execution_count": null,
      "metadata": {
        "id": "PIr14BMkeEcO"
      },
      "outputs": [],
      "source": [
        "def f_property_type(property_type):\n",
        "    if \"private room\" in str(property_type).lower():\n",
        "        return \"Private room\"\n",
        "    elif \"entire\" in str(property_type).lower():\n",
        "        return \"Entire property\"\n",
        "    else:\n",
        "        return \"Others\"\n",
        "\n",
        "airbnb_data['property_type'] = airbnb_data['property_type'].apply(f_property_type)"
      ]
    },
    {
      "cell_type": "code",
      "execution_count": null,
      "metadata": {
        "id": "IycW9IbZjdzE"
      },
      "outputs": [],
      "source": [
        "airbnb_data = pd.get_dummies(airbnb_data, columns=['property_type'])\n",
        "airbnb_data = airbnb_data.drop(\"property_type_Others\",axis=1)"
      ]
    },
    {
      "cell_type": "markdown",
      "metadata": {
        "id": "Iz-9qF41lSkH"
      },
      "source": [
        "* Se cambian los tipos de los datos a los más convenientes."
      ]
    },
    {
      "cell_type": "code",
      "execution_count": null,
      "metadata": {
        "id": "IcQEoK2ok9no"
      },
      "outputs": [],
      "source": [
        "airbnb_data['host_response_time']=airbnb_data['host_response_time'].astype(int)\n",
        "airbnb_data['host_response_rate']=airbnb_data['host_response_rate'].replace({'%':''}, regex = True)\n",
        "airbnb_data['host_response_rate']=airbnb_data['host_response_rate'].astype(float)\n",
        "airbnb_data['host_response_rate']=airbnb_data['host_response_rate']/100\n",
        "airbnb_data['host_acceptance_rate']=airbnb_data['host_acceptance_rate'].replace({'%':''}, regex = True)\n",
        "airbnb_data['host_acceptance_rate']=airbnb_data['host_acceptance_rate'].astype(float)\n",
        "airbnb_data['host_acceptance_rate']=airbnb_data['host_acceptance_rate']/100\n",
        "airbnb_data['room_type']=airbnb_data['room_type'].astype(int)\n",
        "airbnb_data['instant_bookable']=airbnb_data['instant_bookable'].astype(int)"
      ]
    },
    {
      "cell_type": "markdown",
      "metadata": {
        "id": "4moxqiIwnv-3"
      },
      "source": [
        "* Creamos una columna booleana para indicar si los baños son compartidos o privados."
      ]
    },
    {
      "cell_type": "code",
      "execution_count": null,
      "metadata": {
        "id": "xSNWiyMOnZeB"
      },
      "outputs": [],
      "source": [
        "airbnb_data['Shared bathroom']=airbnb_data['bathrooms_text'].apply(lambda x: 1 if \"shared\" in str(x).lower() else 0)"
      ]
    },
    {
      "cell_type": "markdown",
      "metadata": {
        "id": "znq6EQ5zoF-e"
      },
      "source": [
        "* Limpiamos la columna de 'bathroom_text' para convertirla a float."
      ]
    },
    {
      "cell_type": "code",
      "execution_count": null,
      "metadata": {
        "id": "EnSxdhZ4oLfg"
      },
      "outputs": [],
      "source": [
        "airbnb_data['bathrooms_text']=airbnb_data['bathrooms_text'].replace({'baths':'','bath':'','shared':'','private':'','Half-':'0.5'}, regex = True)\n",
        "airbnb_data['bathrooms_text']=airbnb_data['bathrooms_text'].astype(float)"
      ]
    },
    {
      "cell_type": "code",
      "execution_count": null,
      "metadata": {
        "id": "kORhEHVGL20a"
      },
      "outputs": [],
      "source": [
        "x_train = airbnb_data"
      ]
    },
    {
      "cell_type": "markdown",
      "metadata": {
        "id": "3oLaN1jejc3M"
      },
      "source": [
        "* Llevamos a cabo las mismas transformaciones en los datos de validación y test."
      ]
    },
    {
      "cell_type": "code",
      "execution_count": null,
      "metadata": {
        "colab": {
          "base_uri": "https://localhost:8080/"
        },
        "id": "qu2O5bm0jaZn",
        "outputId": "aa260e4e-e82a-491a-8252-5f3322bc5a33"
      },
      "outputs": [
        {
          "name": "stderr",
          "output_type": "stream",
          "text": [
            "<ipython-input-25-9f8b68e71c42>:3: FutureWarning: A value is trying to be set on a copy of a DataFrame or Series through chained assignment using an inplace method.\n",
            "The behavior will change in pandas 3.0. This inplace method will never work because the intermediate object on which we are setting values always behaves as a copy.\n",
            "\n",
            "For example, when doing 'df[col].method(value, inplace=True)', try using 'df.method({col: value}, inplace=True)' or df[col] = df[col].method(value) instead, to perform the operation inplace on the original object.\n",
            "\n",
            "\n",
            "  x_val['host_response_time'].fillna(x_val['host_response_time'].mode()[0], inplace=True)\n",
            "<ipython-input-25-9f8b68e71c42>:4: FutureWarning: A value is trying to be set on a copy of a DataFrame or Series through chained assignment using an inplace method.\n",
            "The behavior will change in pandas 3.0. This inplace method will never work because the intermediate object on which we are setting values always behaves as a copy.\n",
            "\n",
            "For example, when doing 'df[col].method(value, inplace=True)', try using 'df.method({col: value}, inplace=True)' or df[col] = df[col].method(value) instead, to perform the operation inplace on the original object.\n",
            "\n",
            "\n",
            "  x_val['host_response_rate'].fillna(x_val['host_response_rate'].mode()[0], inplace=True)\n",
            "<ipython-input-25-9f8b68e71c42>:5: FutureWarning: A value is trying to be set on a copy of a DataFrame or Series through chained assignment using an inplace method.\n",
            "The behavior will change in pandas 3.0. This inplace method will never work because the intermediate object on which we are setting values always behaves as a copy.\n",
            "\n",
            "For example, when doing 'df[col].method(value, inplace=True)', try using 'df.method({col: value}, inplace=True)' or df[col] = df[col].method(value) instead, to perform the operation inplace on the original object.\n",
            "\n",
            "\n",
            "  x_val['host_acceptance_rate'].fillna(x_val['host_acceptance_rate'].mode()[0], inplace=True)\n",
            "<ipython-input-25-9f8b68e71c42>:7: FutureWarning: A value is trying to be set on a copy of a DataFrame or Series through chained assignment using an inplace method.\n",
            "The behavior will change in pandas 3.0. This inplace method will never work because the intermediate object on which we are setting values always behaves as a copy.\n",
            "\n",
            "For example, when doing 'df[col].method(value, inplace=True)', try using 'df.method({col: value}, inplace=True)' or df[col] = df[col].method(value) instead, to perform the operation inplace on the original object.\n",
            "\n",
            "\n",
            "  x_val['host_is_superhost'].fillna(x_val['host_is_superhost'].mode()[0], inplace=True)\n",
            "<ipython-input-25-9f8b68e71c42>:8: FutureWarning: A value is trying to be set on a copy of a DataFrame or Series through chained assignment using an inplace method.\n",
            "The behavior will change in pandas 3.0. This inplace method will never work because the intermediate object on which we are setting values always behaves as a copy.\n",
            "\n",
            "For example, when doing 'df[col].method(value, inplace=True)', try using 'df.method({col: value}, inplace=True)' or df[col] = df[col].method(value) instead, to perform the operation inplace on the original object.\n",
            "\n",
            "\n",
            "  x_val['beds'].fillna(x_val['beds'].mode()[0], inplace=True)\n",
            "<ipython-input-25-9f8b68e71c42>:9: FutureWarning: A value is trying to be set on a copy of a DataFrame or Series through chained assignment using an inplace method.\n",
            "The behavior will change in pandas 3.0. This inplace method will never work because the intermediate object on which we are setting values always behaves as a copy.\n",
            "\n",
            "For example, when doing 'df[col].method(value, inplace=True)', try using 'df.method({col: value}, inplace=True)' or df[col] = df[col].method(value) instead, to perform the operation inplace on the original object.\n",
            "\n",
            "\n",
            "  x_val['review_scores_rating'].fillna(x_val['review_scores_rating'].mean(), inplace=True)\n",
            "<ipython-input-25-9f8b68e71c42>:10: FutureWarning: A value is trying to be set on a copy of a DataFrame or Series through chained assignment using an inplace method.\n",
            "The behavior will change in pandas 3.0. This inplace method will never work because the intermediate object on which we are setting values always behaves as a copy.\n",
            "\n",
            "For example, when doing 'df[col].method(value, inplace=True)', try using 'df.method({col: value}, inplace=True)' or df[col] = df[col].method(value) instead, to perform the operation inplace on the original object.\n",
            "\n",
            "\n",
            "  x_val['review_scores_accuracy'].fillna(x_val['review_scores_accuracy'].mean(), inplace=True)\n",
            "<ipython-input-25-9f8b68e71c42>:11: FutureWarning: A value is trying to be set on a copy of a DataFrame or Series through chained assignment using an inplace method.\n",
            "The behavior will change in pandas 3.0. This inplace method will never work because the intermediate object on which we are setting values always behaves as a copy.\n",
            "\n",
            "For example, when doing 'df[col].method(value, inplace=True)', try using 'df.method({col: value}, inplace=True)' or df[col] = df[col].method(value) instead, to perform the operation inplace on the original object.\n",
            "\n",
            "\n",
            "  x_val['review_scores_cleanliness'].fillna(x_val['review_scores_cleanliness'].mean(), inplace=True)\n",
            "<ipython-input-25-9f8b68e71c42>:12: FutureWarning: A value is trying to be set on a copy of a DataFrame or Series through chained assignment using an inplace method.\n",
            "The behavior will change in pandas 3.0. This inplace method will never work because the intermediate object on which we are setting values always behaves as a copy.\n",
            "\n",
            "For example, when doing 'df[col].method(value, inplace=True)', try using 'df.method({col: value}, inplace=True)' or df[col] = df[col].method(value) instead, to perform the operation inplace on the original object.\n",
            "\n",
            "\n",
            "  x_val['review_scores_checkin'].fillna(x_val['review_scores_checkin'].mean(), inplace=True)\n",
            "<ipython-input-25-9f8b68e71c42>:13: FutureWarning: A value is trying to be set on a copy of a DataFrame or Series through chained assignment using an inplace method.\n",
            "The behavior will change in pandas 3.0. This inplace method will never work because the intermediate object on which we are setting values always behaves as a copy.\n",
            "\n",
            "For example, when doing 'df[col].method(value, inplace=True)', try using 'df.method({col: value}, inplace=True)' or df[col] = df[col].method(value) instead, to perform the operation inplace on the original object.\n",
            "\n",
            "\n",
            "  x_val['review_scores_communication'].fillna(x_val['review_scores_communication'].mean(), inplace=True)\n",
            "<ipython-input-25-9f8b68e71c42>:14: FutureWarning: A value is trying to be set on a copy of a DataFrame or Series through chained assignment using an inplace method.\n",
            "The behavior will change in pandas 3.0. This inplace method will never work because the intermediate object on which we are setting values always behaves as a copy.\n",
            "\n",
            "For example, when doing 'df[col].method(value, inplace=True)', try using 'df.method({col: value}, inplace=True)' or df[col] = df[col].method(value) instead, to perform the operation inplace on the original object.\n",
            "\n",
            "\n",
            "  x_val['review_scores_location'].fillna(x_val['review_scores_location'].mean(), inplace=True)\n",
            "<ipython-input-25-9f8b68e71c42>:15: FutureWarning: A value is trying to be set on a copy of a DataFrame or Series through chained assignment using an inplace method.\n",
            "The behavior will change in pandas 3.0. This inplace method will never work because the intermediate object on which we are setting values always behaves as a copy.\n",
            "\n",
            "For example, when doing 'df[col].method(value, inplace=True)', try using 'df.method({col: value}, inplace=True)' or df[col] = df[col].method(value) instead, to perform the operation inplace on the original object.\n",
            "\n",
            "\n",
            "  x_val['review_scores_value'].fillna(x_val['review_scores_value'].mean(), inplace=True)\n",
            "<ipython-input-25-9f8b68e71c42>:16: FutureWarning: A value is trying to be set on a copy of a DataFrame or Series through chained assignment using an inplace method.\n",
            "The behavior will change in pandas 3.0. This inplace method will never work because the intermediate object on which we are setting values always behaves as a copy.\n",
            "\n",
            "For example, when doing 'df[col].method(value, inplace=True)', try using 'df.method({col: value}, inplace=True)' or df[col] = df[col].method(value) instead, to perform the operation inplace on the original object.\n",
            "\n",
            "\n",
            "  x_val['reviews_per_month'].fillna(x_val['reviews_per_month'].mean(), inplace=True)\n",
            "<ipython-input-25-9f8b68e71c42>:20: FutureWarning: Downcasting behavior in `replace` is deprecated and will be removed in a future version. To retain the old behavior, explicitly call `result.infer_objects(copy=False)`. To opt-in to the future behavior, set `pd.set_option('future.no_silent_downcasting', True)`\n",
            "  x_val['host_is_superhost'] = x_val['host_is_superhost'].replace({'f': 0, 't': 1})\n",
            "<ipython-input-25-9f8b68e71c42>:21: FutureWarning: Downcasting behavior in `replace` is deprecated and will be removed in a future version. To retain the old behavior, explicitly call `result.infer_objects(copy=False)`. To opt-in to the future behavior, set `pd.set_option('future.no_silent_downcasting', True)`\n",
            "  x_val['host_has_profile_pic'] = x_val['host_has_profile_pic'].replace({'f': 0, 't': 1})\n",
            "<ipython-input-25-9f8b68e71c42>:22: FutureWarning: Downcasting behavior in `replace` is deprecated and will be removed in a future version. To retain the old behavior, explicitly call `result.infer_objects(copy=False)`. To opt-in to the future behavior, set `pd.set_option('future.no_silent_downcasting', True)`\n",
            "  x_val['host_identity_verified'] = x_val['host_identity_verified'].replace({'f': 0, 't': 1})\n",
            "<ipython-input-25-9f8b68e71c42>:23: FutureWarning: Downcasting behavior in `replace` is deprecated and will be removed in a future version. To retain the old behavior, explicitly call `result.infer_objects(copy=False)`. To opt-in to the future behavior, set `pd.set_option('future.no_silent_downcasting', True)`\n",
            "  x_val['instant_bookable'] = x_val['instant_bookable'].replace({'f': 0, 't': 1})\n"
          ]
        }
      ],
      "source": [
        "x_val = x_val.drop(['neighbourhood','neighbourhood_group_cleansed','bathrooms','bedrooms', 'host_since','first_review','last_review','amenities'], axis=1)\n",
        "\n",
        "x_val['host_response_time'].fillna(x_val['host_response_time'].mode()[0], inplace=True)\n",
        "x_val['host_response_rate'].fillna(x_val['host_response_rate'].mode()[0], inplace=True)\n",
        "x_val['host_acceptance_rate'].fillna(x_val['host_acceptance_rate'].mode()[0], inplace=True)\n",
        "x_val['host_acceptance_rate'].fillna(x_val['host_acceptance_rate'].mode()[0], inplace=True)\n",
        "x_val['host_is_superhost'].fillna(x_val['host_is_superhost'].mode()[0], inplace=True)\n",
        "x_val['beds'].fillna(x_val['beds'].mode()[0], inplace=True)\n",
        "x_val['review_scores_rating'].fillna(x_val['review_scores_rating'].mean(), inplace=True)\n",
        "x_val['review_scores_accuracy'].fillna(x_val['review_scores_accuracy'].mean(), inplace=True)\n",
        "x_val['review_scores_cleanliness'].fillna(x_val['review_scores_cleanliness'].mean(), inplace=True)\n",
        "x_val['review_scores_checkin'].fillna(x_val['review_scores_checkin'].mean(), inplace=True)\n",
        "x_val['review_scores_communication'].fillna(x_val['review_scores_communication'].mean(), inplace=True)\n",
        "x_val['review_scores_location'].fillna(x_val['review_scores_location'].mean(), inplace=True)\n",
        "x_val['review_scores_value'].fillna(x_val['review_scores_value'].mean(), inplace=True)\n",
        "x_val['reviews_per_month'].fillna(x_val['reviews_per_month'].mean(), inplace=True)\n",
        "le_room = LabelEncoder()\n",
        "x_val.loc[:,'room_type'] = le_room.fit_transform(x_val['room_type'])\n",
        "x_val.loc[:,'host_response_time'] = le_room.fit_transform(x_val['host_response_time'])\n",
        "x_val['host_is_superhost'] = x_val['host_is_superhost'].replace({'f': 0, 't': 1})\n",
        "x_val['host_has_profile_pic'] = x_val['host_has_profile_pic'].replace({'f': 0, 't': 1})\n",
        "x_val['host_identity_verified'] = x_val['host_identity_verified'].replace({'f': 0, 't': 1})\n",
        "x_val['instant_bookable'] = x_val['instant_bookable'].replace({'f': 0, 't': 1})\n",
        "\n",
        "x_val['property_type'] = x_val['property_type'].apply(f_property_type)\n",
        "\n",
        "x_val = pd.get_dummies(x_val, columns=['property_type'])\n",
        "x_val = x_val.drop(\"property_type_Others\",axis=1)\n",
        "x_val['host_response_time']=x_val['host_response_time'].astype(int)\n",
        "x_val['host_response_rate']=x_val['host_response_rate'].replace({'%':''}, regex = True)\n",
        "x_val['host_response_rate']=x_val['host_response_rate'].astype(float)\n",
        "x_val['host_response_rate']=x_val['host_response_rate']/100\n",
        "x_val['host_acceptance_rate']=x_val['host_acceptance_rate'].replace({'%':''}, regex = True)\n",
        "x_val['host_acceptance_rate']=x_val['host_acceptance_rate'].astype(float)\n",
        "x_val['host_acceptance_rate']=x_val['host_acceptance_rate']/100\n",
        "x_val['room_type']=x_val['room_type'].astype(int)\n",
        "x_val['instant_bookable']=x_val['instant_bookable'].astype(int)\n",
        "\n",
        "x_val['Shared bathroom']=x_val['bathrooms_text'].apply(lambda x: 1 if \"shared\" in str(x).lower() else 0)\n",
        "\n",
        "x_val['bathrooms_text']=x_val['bathrooms_text'].replace({'baths':'','bath':'','shared':'','private':'','Half-':'0.5'}, regex = True)\n",
        "x_val['bathrooms_text']=x_val['bathrooms_text'].astype(float)\n"
      ]
    },
    {
      "cell_type": "code",
      "execution_count": null,
      "metadata": {
        "colab": {
          "base_uri": "https://localhost:8080/"
        },
        "id": "UoIAf58-5Qsd",
        "outputId": "220fb173-585a-48cf-b484-ed00d80e53b8"
      },
      "outputs": [
        {
          "name": "stderr",
          "output_type": "stream",
          "text": [
            "<ipython-input-26-ab8213a5a893>:3: FutureWarning: A value is trying to be set on a copy of a DataFrame or Series through chained assignment using an inplace method.\n",
            "The behavior will change in pandas 3.0. This inplace method will never work because the intermediate object on which we are setting values always behaves as a copy.\n",
            "\n",
            "For example, when doing 'df[col].method(value, inplace=True)', try using 'df.method({col: value}, inplace=True)' or df[col] = df[col].method(value) instead, to perform the operation inplace on the original object.\n",
            "\n",
            "\n",
            "  x_test['host_response_time'].fillna(x_test['host_response_time'].mode()[0], inplace=True)\n",
            "<ipython-input-26-ab8213a5a893>:4: FutureWarning: A value is trying to be set on a copy of a DataFrame or Series through chained assignment using an inplace method.\n",
            "The behavior will change in pandas 3.0. This inplace method will never work because the intermediate object on which we are setting values always behaves as a copy.\n",
            "\n",
            "For example, when doing 'df[col].method(value, inplace=True)', try using 'df.method({col: value}, inplace=True)' or df[col] = df[col].method(value) instead, to perform the operation inplace on the original object.\n",
            "\n",
            "\n",
            "  x_test['host_response_rate'].fillna(x_test['host_response_rate'].mode()[0], inplace=True)\n",
            "<ipython-input-26-ab8213a5a893>:5: FutureWarning: A value is trying to be set on a copy of a DataFrame or Series through chained assignment using an inplace method.\n",
            "The behavior will change in pandas 3.0. This inplace method will never work because the intermediate object on which we are setting values always behaves as a copy.\n",
            "\n",
            "For example, when doing 'df[col].method(value, inplace=True)', try using 'df.method({col: value}, inplace=True)' or df[col] = df[col].method(value) instead, to perform the operation inplace on the original object.\n",
            "\n",
            "\n",
            "  x_test['host_acceptance_rate'].fillna(x_test['host_acceptance_rate'].mode()[0], inplace=True)\n",
            "<ipython-input-26-ab8213a5a893>:7: FutureWarning: A value is trying to be set on a copy of a DataFrame or Series through chained assignment using an inplace method.\n",
            "The behavior will change in pandas 3.0. This inplace method will never work because the intermediate object on which we are setting values always behaves as a copy.\n",
            "\n",
            "For example, when doing 'df[col].method(value, inplace=True)', try using 'df.method({col: value}, inplace=True)' or df[col] = df[col].method(value) instead, to perform the operation inplace on the original object.\n",
            "\n",
            "\n",
            "  x_test['host_is_superhost'].fillna(x_test['host_is_superhost'].mode()[0], inplace=True)\n",
            "<ipython-input-26-ab8213a5a893>:8: FutureWarning: A value is trying to be set on a copy of a DataFrame or Series through chained assignment using an inplace method.\n",
            "The behavior will change in pandas 3.0. This inplace method will never work because the intermediate object on which we are setting values always behaves as a copy.\n",
            "\n",
            "For example, when doing 'df[col].method(value, inplace=True)', try using 'df.method({col: value}, inplace=True)' or df[col] = df[col].method(value) instead, to perform the operation inplace on the original object.\n",
            "\n",
            "\n",
            "  x_test['beds'].fillna(x_test['beds'].mode()[0], inplace=True)\n",
            "<ipython-input-26-ab8213a5a893>:9: FutureWarning: A value is trying to be set on a copy of a DataFrame or Series through chained assignment using an inplace method.\n",
            "The behavior will change in pandas 3.0. This inplace method will never work because the intermediate object on which we are setting values always behaves as a copy.\n",
            "\n",
            "For example, when doing 'df[col].method(value, inplace=True)', try using 'df.method({col: value}, inplace=True)' or df[col] = df[col].method(value) instead, to perform the operation inplace on the original object.\n",
            "\n",
            "\n",
            "  x_test['review_scores_rating'].fillna(x_test['review_scores_rating'].mean(), inplace=True)\n",
            "<ipython-input-26-ab8213a5a893>:10: FutureWarning: A value is trying to be set on a copy of a DataFrame or Series through chained assignment using an inplace method.\n",
            "The behavior will change in pandas 3.0. This inplace method will never work because the intermediate object on which we are setting values always behaves as a copy.\n",
            "\n",
            "For example, when doing 'df[col].method(value, inplace=True)', try using 'df.method({col: value}, inplace=True)' or df[col] = df[col].method(value) instead, to perform the operation inplace on the original object.\n",
            "\n",
            "\n",
            "  x_test['review_scores_accuracy'].fillna(x_test['review_scores_accuracy'].mean(), inplace=True)\n",
            "<ipython-input-26-ab8213a5a893>:11: FutureWarning: A value is trying to be set on a copy of a DataFrame or Series through chained assignment using an inplace method.\n",
            "The behavior will change in pandas 3.0. This inplace method will never work because the intermediate object on which we are setting values always behaves as a copy.\n",
            "\n",
            "For example, when doing 'df[col].method(value, inplace=True)', try using 'df.method({col: value}, inplace=True)' or df[col] = df[col].method(value) instead, to perform the operation inplace on the original object.\n",
            "\n",
            "\n",
            "  x_test['review_scores_cleanliness'].fillna(x_test['review_scores_cleanliness'].mean(), inplace=True)\n",
            "<ipython-input-26-ab8213a5a893>:12: FutureWarning: A value is trying to be set on a copy of a DataFrame or Series through chained assignment using an inplace method.\n",
            "The behavior will change in pandas 3.0. This inplace method will never work because the intermediate object on which we are setting values always behaves as a copy.\n",
            "\n",
            "For example, when doing 'df[col].method(value, inplace=True)', try using 'df.method({col: value}, inplace=True)' or df[col] = df[col].method(value) instead, to perform the operation inplace on the original object.\n",
            "\n",
            "\n",
            "  x_test['review_scores_checkin'].fillna(x_test['review_scores_checkin'].mean(), inplace=True)\n",
            "<ipython-input-26-ab8213a5a893>:13: FutureWarning: A value is trying to be set on a copy of a DataFrame or Series through chained assignment using an inplace method.\n",
            "The behavior will change in pandas 3.0. This inplace method will never work because the intermediate object on which we are setting values always behaves as a copy.\n",
            "\n",
            "For example, when doing 'df[col].method(value, inplace=True)', try using 'df.method({col: value}, inplace=True)' or df[col] = df[col].method(value) instead, to perform the operation inplace on the original object.\n",
            "\n",
            "\n",
            "  x_test['review_scores_communication'].fillna(x_test['review_scores_communication'].mean(), inplace=True)\n",
            "<ipython-input-26-ab8213a5a893>:14: FutureWarning: A value is trying to be set on a copy of a DataFrame or Series through chained assignment using an inplace method.\n",
            "The behavior will change in pandas 3.0. This inplace method will never work because the intermediate object on which we are setting values always behaves as a copy.\n",
            "\n",
            "For example, when doing 'df[col].method(value, inplace=True)', try using 'df.method({col: value}, inplace=True)' or df[col] = df[col].method(value) instead, to perform the operation inplace on the original object.\n",
            "\n",
            "\n",
            "  x_test['review_scores_location'].fillna(x_test['review_scores_location'].mean(), inplace=True)\n",
            "<ipython-input-26-ab8213a5a893>:15: FutureWarning: A value is trying to be set on a copy of a DataFrame or Series through chained assignment using an inplace method.\n",
            "The behavior will change in pandas 3.0. This inplace method will never work because the intermediate object on which we are setting values always behaves as a copy.\n",
            "\n",
            "For example, when doing 'df[col].method(value, inplace=True)', try using 'df.method({col: value}, inplace=True)' or df[col] = df[col].method(value) instead, to perform the operation inplace on the original object.\n",
            "\n",
            "\n",
            "  x_test['review_scores_value'].fillna(x_test['review_scores_value'].mean(), inplace=True)\n",
            "<ipython-input-26-ab8213a5a893>:16: FutureWarning: A value is trying to be set on a copy of a DataFrame or Series through chained assignment using an inplace method.\n",
            "The behavior will change in pandas 3.0. This inplace method will never work because the intermediate object on which we are setting values always behaves as a copy.\n",
            "\n",
            "For example, when doing 'df[col].method(value, inplace=True)', try using 'df.method({col: value}, inplace=True)' or df[col] = df[col].method(value) instead, to perform the operation inplace on the original object.\n",
            "\n",
            "\n",
            "  x_test['reviews_per_month'].fillna(x_test['reviews_per_month'].mean(), inplace=True)\n",
            "<ipython-input-26-ab8213a5a893>:20: FutureWarning: Downcasting behavior in `replace` is deprecated and will be removed in a future version. To retain the old behavior, explicitly call `result.infer_objects(copy=False)`. To opt-in to the future behavior, set `pd.set_option('future.no_silent_downcasting', True)`\n",
            "  x_test['host_is_superhost'] = x_test['host_is_superhost'].replace({'f': 0, 't': 1})\n",
            "<ipython-input-26-ab8213a5a893>:21: FutureWarning: Downcasting behavior in `replace` is deprecated and will be removed in a future version. To retain the old behavior, explicitly call `result.infer_objects(copy=False)`. To opt-in to the future behavior, set `pd.set_option('future.no_silent_downcasting', True)`\n",
            "  x_test['host_has_profile_pic'] = x_test['host_has_profile_pic'].replace({'f': 0, 't': 1})\n",
            "<ipython-input-26-ab8213a5a893>:22: FutureWarning: Downcasting behavior in `replace` is deprecated and will be removed in a future version. To retain the old behavior, explicitly call `result.infer_objects(copy=False)`. To opt-in to the future behavior, set `pd.set_option('future.no_silent_downcasting', True)`\n",
            "  x_test['host_identity_verified'] = x_test['host_identity_verified'].replace({'f': 0, 't': 1})\n",
            "<ipython-input-26-ab8213a5a893>:23: FutureWarning: Downcasting behavior in `replace` is deprecated and will be removed in a future version. To retain the old behavior, explicitly call `result.infer_objects(copy=False)`. To opt-in to the future behavior, set `pd.set_option('future.no_silent_downcasting', True)`\n",
            "  x_test['instant_bookable'] = x_test['instant_bookable'].replace({'f': 0, 't': 1})\n"
          ]
        }
      ],
      "source": [
        "x_test = x_test.drop(['neighbourhood','neighbourhood_group_cleansed','bathrooms','bedrooms', 'host_since','first_review','last_review','amenities'], axis=1)\n",
        "\n",
        "x_test['host_response_time'].fillna(x_test['host_response_time'].mode()[0], inplace=True)\n",
        "x_test['host_response_rate'].fillna(x_test['host_response_rate'].mode()[0], inplace=True)\n",
        "x_test['host_acceptance_rate'].fillna(x_test['host_acceptance_rate'].mode()[0], inplace=True)\n",
        "x_test['host_acceptance_rate'].fillna(x_test['host_acceptance_rate'].mode()[0], inplace=True)\n",
        "x_test['host_is_superhost'].fillna(x_test['host_is_superhost'].mode()[0], inplace=True)\n",
        "x_test['beds'].fillna(x_test['beds'].mode()[0], inplace=True)\n",
        "x_test['review_scores_rating'].fillna(x_test['review_scores_rating'].mean(), inplace=True)\n",
        "x_test['review_scores_accuracy'].fillna(x_test['review_scores_accuracy'].mean(), inplace=True)\n",
        "x_test['review_scores_cleanliness'].fillna(x_test['review_scores_cleanliness'].mean(), inplace=True)\n",
        "x_test['review_scores_checkin'].fillna(x_test['review_scores_checkin'].mean(), inplace=True)\n",
        "x_test['review_scores_communication'].fillna(x_test['review_scores_communication'].mean(), inplace=True)\n",
        "x_test['review_scores_location'].fillna(x_test['review_scores_location'].mean(), inplace=True)\n",
        "x_test['review_scores_value'].fillna(x_test['review_scores_value'].mean(), inplace=True)\n",
        "x_test['reviews_per_month'].fillna(x_test['reviews_per_month'].mean(), inplace=True)\n",
        "le_room = LabelEncoder()\n",
        "x_test.loc[:,'room_type'] = le_room.fit_transform(x_test['room_type'])\n",
        "x_test.loc[:,'host_response_time'] = le_room.fit_transform(x_test['host_response_time'])\n",
        "x_test['host_is_superhost'] = x_test['host_is_superhost'].replace({'f': 0, 't': 1})\n",
        "x_test['host_has_profile_pic'] = x_test['host_has_profile_pic'].replace({'f': 0, 't': 1})\n",
        "x_test['host_identity_verified'] = x_test['host_identity_verified'].replace({'f': 0, 't': 1})\n",
        "x_test['instant_bookable'] = x_test['instant_bookable'].replace({'f': 0, 't': 1})\n",
        "\n",
        "x_test['property_type'] = x_test['property_type'].apply(f_property_type)\n",
        "\n",
        "x_test = pd.get_dummies(x_test, columns=['property_type'])\n",
        "x_test = x_test.drop(\"property_type_Others\",axis=1)\n",
        "x_test['host_response_time']=x_test['host_response_time'].astype(int)\n",
        "x_test['host_response_rate']=x_test['host_response_rate'].replace({'%':''}, regex = True)\n",
        "x_test['host_response_rate']=x_test['host_response_rate'].astype(float)\n",
        "x_test['host_response_rate']=x_test['host_response_rate']/100\n",
        "x_test['host_acceptance_rate']=x_test['host_acceptance_rate'].replace({'%':''}, regex = True)\n",
        "x_test['host_acceptance_rate']=x_test['host_acceptance_rate'].astype(float)\n",
        "x_test['host_acceptance_rate']=x_test['host_acceptance_rate']/100\n",
        "x_test['room_type']=x_test['room_type'].astype(int)\n",
        "x_test['instant_bookable']=x_test['instant_bookable'].astype(int)\n",
        "\n",
        "x_test['Shared bathroom']=x_test['bathrooms_text'].apply(lambda x: 1 if \"shared\" in str(x).lower() else 0)\n",
        "\n",
        "x_test['bathrooms_text']=x_test['bathrooms_text'].replace({'baths':'','bath':'','shared':'','private':'','Half-':'0.5'}, regex = True)\n",
        "x_test['bathrooms_text']=x_test['bathrooms_text'].astype(float)\n"
      ]
    },
    {
      "cell_type": "markdown",
      "metadata": {
        "id": "ahZnVgvAmWvJ"
      },
      "source": [
        "* También vamos a crear un segundo dataset con menos variables para crear otro modelo posteriormente."
      ]
    },
    {
      "cell_type": "code",
      "execution_count": null,
      "metadata": {
        "id": "fT4oASqQmVVh"
      },
      "outputs": [],
      "source": [
        "x_train2 = x_train.drop(['host_response_time', 'host_response_rate', 'host_acceptance_rate',\n",
        "       'host_is_superhost', 'host_has_profile_pic', 'host_identity_verified','accommodates','minimum_nights',\n",
        "       'maximum_nights', 'minimum_minimum_nights', 'maximum_minimum_nights',\n",
        "       'minimum_maximum_nights', 'maximum_maximum_nights',\n",
        "       'minimum_nights_avg_ntm', 'maximum_nights_avg_ntm', 'number_of_reviews',\n",
        "       'number_of_reviews_ltm', 'number_of_reviews_l30d'], axis=1)\n",
        "\n",
        "x_val2 = x_val.drop(['host_response_time', 'host_response_rate', 'host_acceptance_rate',\n",
        "       'host_is_superhost', 'host_has_profile_pic', 'host_identity_verified','accommodates','minimum_nights',\n",
        "       'maximum_nights', 'minimum_minimum_nights', 'maximum_minimum_nights',\n",
        "       'minimum_maximum_nights', 'maximum_maximum_nights',\n",
        "       'minimum_nights_avg_ntm', 'maximum_nights_avg_ntm', 'number_of_reviews',\n",
        "       'number_of_reviews_ltm', 'number_of_reviews_l30d'],axis=1)\n",
        "\n",
        "x_test2 = x_test.drop(['host_response_time', 'host_response_rate', 'host_acceptance_rate',\n",
        "       'host_is_superhost', 'host_has_profile_pic', 'host_identity_verified','accommodates','minimum_nights',\n",
        "       'maximum_nights', 'minimum_minimum_nights', 'maximum_minimum_nights',\n",
        "       'minimum_maximum_nights', 'maximum_maximum_nights',\n",
        "       'minimum_nights_avg_ntm', 'maximum_nights_avg_ntm', 'number_of_reviews',\n",
        "       'number_of_reviews_ltm', 'number_of_reviews_l30d'],axis=1)\n"
      ]
    },
    {
      "cell_type": "code",
      "execution_count": null,
      "metadata": {
        "colab": {
          "base_uri": "https://localhost:8080/"
        },
        "id": "ROSAioiglZJ1",
        "outputId": "5bc0398e-0c16-430c-eb1f-b1082ba6e19b"
      },
      "outputs": [
        {
          "data": {
            "text/plain": [
              "Index(['host_response_time', 'host_response_rate', 'host_acceptance_rate',\n",
              "       'host_is_superhost', 'host_has_profile_pic', 'host_identity_verified',\n",
              "       'room_type', 'accommodates', 'bathrooms_text', 'beds', 'minimum_nights',\n",
              "       'maximum_nights', 'minimum_minimum_nights', 'maximum_minimum_nights',\n",
              "       'minimum_maximum_nights', 'maximum_maximum_nights',\n",
              "       'minimum_nights_avg_ntm', 'maximum_nights_avg_ntm', 'number_of_reviews',\n",
              "       'number_of_reviews_ltm', 'number_of_reviews_l30d',\n",
              "       'review_scores_rating', 'review_scores_accuracy',\n",
              "       'review_scores_cleanliness', 'review_scores_checkin',\n",
              "       'review_scores_communication', 'review_scores_location',\n",
              "       'review_scores_value', 'instant_bookable', 'reviews_per_month',\n",
              "       'property_type_Entire property', 'property_type_Private room',\n",
              "       'Shared bathroom'],\n",
              "      dtype='object')"
            ]
          },
          "execution_count": 28,
          "metadata": {},
          "output_type": "execute_result"
        }
      ],
      "source": [
        "x_val.columns"
      ]
    },
    {
      "cell_type": "code",
      "execution_count": null,
      "metadata": {
        "colab": {
          "base_uri": "https://localhost:8080/"
        },
        "id": "JZtKMjmplcIM",
        "outputId": "47885413-f651-47a7-ae7a-fce63a8e5e58"
      },
      "outputs": [
        {
          "data": {
            "text/plain": [
              "Index(['host_response_time', 'host_response_rate', 'host_acceptance_rate',\n",
              "       'host_is_superhost', 'host_has_profile_pic', 'host_identity_verified',\n",
              "       'room_type', 'accommodates', 'bathrooms_text', 'beds', 'minimum_nights',\n",
              "       'maximum_nights', 'minimum_minimum_nights', 'maximum_minimum_nights',\n",
              "       'minimum_maximum_nights', 'maximum_maximum_nights',\n",
              "       'minimum_nights_avg_ntm', 'maximum_nights_avg_ntm', 'number_of_reviews',\n",
              "       'number_of_reviews_ltm', 'number_of_reviews_l30d',\n",
              "       'review_scores_rating', 'review_scores_accuracy',\n",
              "       'review_scores_cleanliness', 'review_scores_checkin',\n",
              "       'review_scores_communication', 'review_scores_location',\n",
              "       'review_scores_value', 'instant_bookable', 'reviews_per_month',\n",
              "       'property_type_Entire property', 'property_type_Private room',\n",
              "       'Shared bathroom'],\n",
              "      dtype='object')"
            ]
          },
          "execution_count": 29,
          "metadata": {},
          "output_type": "execute_result"
        }
      ],
      "source": [
        "x_train.columns"
      ]
    },
    {
      "cell_type": "markdown",
      "metadata": {
        "id": "CeMHecrkXkzI"
      },
      "source": [
        "* Normalizamos los datos"
      ]
    },
    {
      "cell_type": "code",
      "execution_count": null,
      "metadata": {
        "id": "tJ3lkUfLF2bk"
      },
      "outputs": [],
      "source": [
        "from sklearn.preprocessing import StandardScaler\n",
        "\n",
        "scaler = StandardScaler()\n",
        "x_train = scaler.fit_transform(x_train)\n",
        "x_val = scaler.transform(x_val)\n",
        "x_test = scaler.transform(x_test)\n",
        "\n",
        "scaler2 = StandardScaler()\n",
        "x_train2 = scaler2.fit_transform(x_train2)\n",
        "x_val2 = scaler2.transform(x_val2)\n",
        "x_test2 = scaler2.transform(x_test2)"
      ]
    },
    {
      "cell_type": "markdown",
      "metadata": {
        "id": "EqNMgP0WQtyd"
      },
      "source": [
        "# 2. MODELO DE DEEP LEARNING PARA DATOS TABULARES (1D)"
      ]
    },
    {
      "cell_type": "markdown",
      "metadata": {
        "id": "Uon_6i2Rt09B"
      },
      "source": [
        "* Empezamos con un modelo sencillo de varias capas densas."
      ]
    },
    {
      "cell_type": "code",
      "execution_count": null,
      "metadata": {
        "colab": {
          "base_uri": "https://localhost:8080/"
        },
        "id": "QlhWDsJrQkNG",
        "outputId": "9ff3b097-cfa2-4b0a-b9b5-2e897dbe00b9"
      },
      "outputs": [
        {
          "name": "stderr",
          "output_type": "stream",
          "text": [
            "/usr/local/lib/python3.10/dist-packages/keras/src/layers/core/dense.py:87: UserWarning: Do not pass an `input_shape`/`input_dim` argument to a layer. When using Sequential models, prefer using an `Input(shape)` object as the first layer in the model instead.\n",
            "  super().__init__(activity_regularizer=activity_regularizer, **kwargs)\n"
          ]
        },
        {
          "name": "stdout",
          "output_type": "stream",
          "text": [
            "Epoch 1/200\n",
            "\u001b[1m16/16\u001b[0m \u001b[32m━━━━━━━━━━━━━━━━━━━━\u001b[0m\u001b[37m\u001b[0m \u001b[1m2s\u001b[0m 14ms/step - loss: 44779.9648 - mse: 44779.9648 - val_loss: 51680.9258 - val_mse: 51680.9258\n",
            "Epoch 2/200\n",
            "\u001b[1m16/16\u001b[0m \u001b[32m━━━━━━━━━━━━━━━━━━━━\u001b[0m\u001b[37m\u001b[0m \u001b[1m0s\u001b[0m 5ms/step - loss: 43631.2148 - mse: 43631.2148 - val_loss: 49722.6758 - val_mse: 49722.6758\n",
            "Epoch 3/200\n",
            "\u001b[1m16/16\u001b[0m \u001b[32m━━━━━━━━━━━━━━━━━━━━\u001b[0m\u001b[37m\u001b[0m \u001b[1m0s\u001b[0m 5ms/step - loss: 41174.6992 - mse: 41174.6992 - val_loss: 45253.9062 - val_mse: 45253.9062\n",
            "Epoch 4/200\n",
            "\u001b[1m16/16\u001b[0m \u001b[32m━━━━━━━━━━━━━━━━━━━━\u001b[0m\u001b[37m\u001b[0m \u001b[1m0s\u001b[0m 5ms/step - loss: 35780.7422 - mse: 35780.7422 - val_loss: 36182.9453 - val_mse: 36182.9453\n",
            "Epoch 5/200\n",
            "\u001b[1m16/16\u001b[0m \u001b[32m━━━━━━━━━━━━━━━━━━━━\u001b[0m\u001b[37m\u001b[0m \u001b[1m0s\u001b[0m 4ms/step - loss: 25980.9043 - mse: 25980.9043 - val_loss: 23589.3750 - val_mse: 23589.3750\n",
            "Epoch 6/200\n",
            "\u001b[1m16/16\u001b[0m \u001b[32m━━━━━━━━━━━━━━━━━━━━\u001b[0m\u001b[37m\u001b[0m \u001b[1m0s\u001b[0m 4ms/step - loss: 15332.0137 - mse: 15332.0137 - val_loss: 17219.4531 - val_mse: 17219.4531\n",
            "Epoch 7/200\n",
            "\u001b[1m16/16\u001b[0m \u001b[32m━━━━━━━━━━━━━━━━━━━━\u001b[0m\u001b[37m\u001b[0m \u001b[1m0s\u001b[0m 4ms/step - loss: 11750.3086 - mse: 11750.3086 - val_loss: 15950.1572 - val_mse: 15950.1572\n",
            "Epoch 8/200\n",
            "\u001b[1m16/16\u001b[0m \u001b[32m━━━━━━━━━━━━━━━━━━━━\u001b[0m\u001b[37m\u001b[0m \u001b[1m0s\u001b[0m 4ms/step - loss: 10671.6514 - mse: 10671.6514 - val_loss: 15550.9277 - val_mse: 15550.9277\n",
            "Epoch 9/200\n",
            "\u001b[1m16/16\u001b[0m \u001b[32m━━━━━━━━━━━━━━━━━━━━\u001b[0m\u001b[37m\u001b[0m \u001b[1m0s\u001b[0m 4ms/step - loss: 10313.5986 - mse: 10313.5986 - val_loss: 15285.7441 - val_mse: 15285.7441\n",
            "Epoch 10/200\n",
            "\u001b[1m16/16\u001b[0m \u001b[32m━━━━━━━━━━━━━━━━━━━━\u001b[0m\u001b[37m\u001b[0m \u001b[1m0s\u001b[0m 4ms/step - loss: 10093.5928 - mse: 10093.5928 - val_loss: 15146.2520 - val_mse: 15146.2520\n",
            "Epoch 11/200\n",
            "\u001b[1m16/16\u001b[0m \u001b[32m━━━━━━━━━━━━━━━━━━━━\u001b[0m\u001b[37m\u001b[0m \u001b[1m0s\u001b[0m 8ms/step - loss: 9933.7432 - mse: 9933.7432 - val_loss: 15035.5381 - val_mse: 15035.5381\n",
            "Epoch 12/200\n",
            "\u001b[1m16/16\u001b[0m \u001b[32m━━━━━━━━━━━━━━━━━━━━\u001b[0m\u001b[37m\u001b[0m \u001b[1m0s\u001b[0m 5ms/step - loss: 9806.7158 - mse: 9806.7158 - val_loss: 14929.8955 - val_mse: 14929.8955\n",
            "Epoch 13/200\n",
            "\u001b[1m16/16\u001b[0m \u001b[32m━━━━━━━━━━━━━━━━━━━━\u001b[0m\u001b[37m\u001b[0m \u001b[1m0s\u001b[0m 7ms/step - loss: 9698.7334 - mse: 9698.7334 - val_loss: 14840.9404 - val_mse: 14840.9404\n",
            "Epoch 14/200\n",
            "\u001b[1m16/16\u001b[0m \u001b[32m━━━━━━━━━━━━━━━━━━━━\u001b[0m\u001b[37m\u001b[0m \u001b[1m0s\u001b[0m 7ms/step - loss: 9604.4639 - mse: 9604.4639 - val_loss: 14764.0713 - val_mse: 14764.0713\n",
            "Epoch 15/200\n",
            "\u001b[1m16/16\u001b[0m \u001b[32m━━━━━━━━━━━━━━━━━━━━\u001b[0m\u001b[37m\u001b[0m \u001b[1m0s\u001b[0m 6ms/step - loss: 9521.0195 - mse: 9521.0195 - val_loss: 14699.3389 - val_mse: 14699.3389\n",
            "Epoch 16/200\n",
            "\u001b[1m16/16\u001b[0m \u001b[32m━━━━━━━━━━━━━━━━━━━━\u001b[0m\u001b[37m\u001b[0m \u001b[1m0s\u001b[0m 6ms/step - loss: 9444.8418 - mse: 9444.8418 - val_loss: 14643.1250 - val_mse: 14643.1250\n",
            "Epoch 17/200\n",
            "\u001b[1m16/16\u001b[0m \u001b[32m━━━━━━━━━━━━━━━━━━━━\u001b[0m\u001b[37m\u001b[0m \u001b[1m0s\u001b[0m 6ms/step - loss: 9374.7461 - mse: 9374.7461 - val_loss: 14594.5059 - val_mse: 14594.5059\n",
            "Epoch 18/200\n",
            "\u001b[1m16/16\u001b[0m \u001b[32m━━━━━━━━━━━━━━━━━━━━\u001b[0m\u001b[37m\u001b[0m \u001b[1m0s\u001b[0m 6ms/step - loss: 9309.8740 - mse: 9309.8740 - val_loss: 14553.7080 - val_mse: 14553.7080\n",
            "Epoch 19/200\n",
            "\u001b[1m16/16\u001b[0m \u001b[32m━━━━━━━━━━━━━━━━━━━━\u001b[0m\u001b[37m\u001b[0m \u001b[1m0s\u001b[0m 7ms/step - loss: 9248.7314 - mse: 9248.7314 - val_loss: 14516.0459 - val_mse: 14516.0459\n",
            "Epoch 20/200\n",
            "\u001b[1m16/16\u001b[0m \u001b[32m━━━━━━━━━━━━━━━━━━━━\u001b[0m\u001b[37m\u001b[0m \u001b[1m0s\u001b[0m 5ms/step - loss: 9191.4854 - mse: 9191.4854 - val_loss: 14482.8115 - val_mse: 14482.8115\n",
            "Epoch 21/200\n",
            "\u001b[1m16/16\u001b[0m \u001b[32m━━━━━━━━━━━━━━━━━━━━\u001b[0m\u001b[37m\u001b[0m \u001b[1m0s\u001b[0m 6ms/step - loss: 9136.1084 - mse: 9136.1084 - val_loss: 14452.5430 - val_mse: 14452.5430\n",
            "Epoch 22/200\n",
            "\u001b[1m16/16\u001b[0m \u001b[32m━━━━━━━━━━━━━━━━━━━━\u001b[0m\u001b[37m\u001b[0m \u001b[1m0s\u001b[0m 5ms/step - loss: 9083.2607 - mse: 9083.2607 - val_loss: 14426.2441 - val_mse: 14426.2441\n",
            "Epoch 23/200\n",
            "\u001b[1m16/16\u001b[0m \u001b[32m━━━━━━━━━━━━━━━━━━━━\u001b[0m\u001b[37m\u001b[0m \u001b[1m0s\u001b[0m 7ms/step - loss: 9032.6738 - mse: 9032.6738 - val_loss: 14399.1250 - val_mse: 14399.1250\n",
            "Epoch 24/200\n",
            "\u001b[1m16/16\u001b[0m \u001b[32m━━━━━━━━━━━━━━━━━━━━\u001b[0m\u001b[37m\u001b[0m \u001b[1m0s\u001b[0m 6ms/step - loss: 8985.1016 - mse: 8985.1016 - val_loss: 14372.0283 - val_mse: 14372.0283\n",
            "Epoch 25/200\n",
            "\u001b[1m16/16\u001b[0m \u001b[32m━━━━━━━━━━━━━━━━━━━━\u001b[0m\u001b[37m\u001b[0m \u001b[1m0s\u001b[0m 6ms/step - loss: 8939.2324 - mse: 8939.2324 - val_loss: 14349.7275 - val_mse: 14349.7275\n",
            "Epoch 26/200\n",
            "\u001b[1m16/16\u001b[0m \u001b[32m━━━━━━━━━━━━━━━━━━━━\u001b[0m\u001b[37m\u001b[0m \u001b[1m0s\u001b[0m 6ms/step - loss: 8894.1543 - mse: 8894.1543 - val_loss: 14328.5918 - val_mse: 14328.5918\n",
            "Epoch 27/200\n",
            "\u001b[1m16/16\u001b[0m \u001b[32m━━━━━━━━━━━━━━━━━━━━\u001b[0m\u001b[37m\u001b[0m \u001b[1m0s\u001b[0m 6ms/step - loss: 8850.6172 - mse: 8850.6172 - val_loss: 14310.9229 - val_mse: 14310.9229\n",
            "Epoch 28/200\n",
            "\u001b[1m16/16\u001b[0m \u001b[32m━━━━━━━━━━━━━━━━━━━━\u001b[0m\u001b[37m\u001b[0m \u001b[1m0s\u001b[0m 6ms/step - loss: 8807.1797 - mse: 8807.1797 - val_loss: 14288.4365 - val_mse: 14288.4365\n",
            "Epoch 29/200\n",
            "\u001b[1m16/16\u001b[0m \u001b[32m━━━━━━━━━━━━━━━━━━━━\u001b[0m\u001b[37m\u001b[0m \u001b[1m0s\u001b[0m 7ms/step - loss: 8765.9658 - mse: 8765.9658 - val_loss: 14277.2568 - val_mse: 14277.2568\n",
            "Epoch 30/200\n",
            "\u001b[1m16/16\u001b[0m \u001b[32m━━━━━━━━━━━━━━━━━━━━\u001b[0m\u001b[37m\u001b[0m \u001b[1m0s\u001b[0m 7ms/step - loss: 8722.6768 - mse: 8722.6768 - val_loss: 14257.8076 - val_mse: 14257.8076\n",
            "Epoch 31/200\n",
            "\u001b[1m16/16\u001b[0m \u001b[32m━━━━━━━━━━━━━━━━━━━━\u001b[0m\u001b[37m\u001b[0m \u001b[1m0s\u001b[0m 4ms/step - loss: 8682.1963 - mse: 8682.1963 - val_loss: 14234.4727 - val_mse: 14234.4727\n",
            "Epoch 32/200\n",
            "\u001b[1m16/16\u001b[0m \u001b[32m━━━━━━━━━━━━━━━━━━━━\u001b[0m\u001b[37m\u001b[0m \u001b[1m0s\u001b[0m 6ms/step - loss: 8642.9492 - mse: 8642.9492 - val_loss: 14224.5967 - val_mse: 14224.5967\n",
            "Epoch 33/200\n",
            "\u001b[1m16/16\u001b[0m \u001b[32m━━━━━━━━━━━━━━━━━━━━\u001b[0m\u001b[37m\u001b[0m \u001b[1m0s\u001b[0m 5ms/step - loss: 8602.0713 - mse: 8602.0713 - val_loss: 14208.2617 - val_mse: 14208.2617\n",
            "Epoch 34/200\n",
            "\u001b[1m16/16\u001b[0m \u001b[32m━━━━━━━━━━━━━━━━━━━━\u001b[0m\u001b[37m\u001b[0m \u001b[1m0s\u001b[0m 6ms/step - loss: 8561.2471 - mse: 8561.2471 - val_loss: 14189.4082 - val_mse: 14189.4082\n",
            "Epoch 35/200\n",
            "\u001b[1m16/16\u001b[0m \u001b[32m━━━━━━━━━━━━━━━━━━━━\u001b[0m\u001b[37m\u001b[0m \u001b[1m0s\u001b[0m 4ms/step - loss: 8520.6562 - mse: 8520.6562 - val_loss: 14175.4092 - val_mse: 14175.4092\n",
            "Epoch 36/200\n",
            "\u001b[1m16/16\u001b[0m \u001b[32m━━━━━━━━━━━━━━━━━━━━\u001b[0m\u001b[37m\u001b[0m \u001b[1m0s\u001b[0m 3ms/step - loss: 8479.6885 - mse: 8479.6885 - val_loss: 14153.8809 - val_mse: 14153.8809\n",
            "Epoch 37/200\n",
            "\u001b[1m16/16\u001b[0m \u001b[32m━━━━━━━━━━━━━━━━━━━━\u001b[0m\u001b[37m\u001b[0m \u001b[1m0s\u001b[0m 5ms/step - loss: 8439.7607 - mse: 8439.7607 - val_loss: 14142.0088 - val_mse: 14142.0088\n",
            "Epoch 38/200\n",
            "\u001b[1m16/16\u001b[0m \u001b[32m━━━━━━━━━━━━━━━━━━━━\u001b[0m\u001b[37m\u001b[0m \u001b[1m0s\u001b[0m 5ms/step - loss: 8394.5986 - mse: 8394.5986 - val_loss: 14131.7441 - val_mse: 14131.7441\n",
            "Epoch 39/200\n",
            "\u001b[1m16/16\u001b[0m \u001b[32m━━━━━━━━━━━━━━━━━━━━\u001b[0m\u001b[37m\u001b[0m \u001b[1m0s\u001b[0m 5ms/step - loss: 8348.2861 - mse: 8348.2861 - val_loss: 14110.1475 - val_mse: 14110.1475\n",
            "Epoch 40/200\n",
            "\u001b[1m16/16\u001b[0m \u001b[32m━━━━━━━━━━━━━━━━━━━━\u001b[0m\u001b[37m\u001b[0m \u001b[1m0s\u001b[0m 5ms/step - loss: 8300.7314 - mse: 8300.7314 - val_loss: 14092.1738 - val_mse: 14092.1738\n",
            "Epoch 41/200\n",
            "\u001b[1m16/16\u001b[0m \u001b[32m━━━━━━━━━━━━━━━━━━━━\u001b[0m\u001b[37m\u001b[0m \u001b[1m0s\u001b[0m 5ms/step - loss: 8251.5605 - mse: 8251.5605 - val_loss: 14079.3193 - val_mse: 14079.3193\n",
            "Epoch 42/200\n",
            "\u001b[1m16/16\u001b[0m \u001b[32m━━━━━━━━━━━━━━━━━━━━\u001b[0m\u001b[37m\u001b[0m \u001b[1m0s\u001b[0m 4ms/step - loss: 8201.8857 - mse: 8201.8857 - val_loss: 14060.8379 - val_mse: 14060.8379\n",
            "Epoch 43/200\n",
            "\u001b[1m16/16\u001b[0m \u001b[32m━━━━━━━━━━━━━━━━━━━━\u001b[0m\u001b[37m\u001b[0m \u001b[1m0s\u001b[0m 4ms/step - loss: 8148.8350 - mse: 8148.8350 - val_loss: 14043.9512 - val_mse: 14043.9512\n",
            "Epoch 44/200\n",
            "\u001b[1m16/16\u001b[0m \u001b[32m━━━━━━━━━━━━━━━━━━━━\u001b[0m\u001b[37m\u001b[0m \u001b[1m0s\u001b[0m 4ms/step - loss: 8095.8228 - mse: 8095.8228 - val_loss: 14024.0000 - val_mse: 14024.0000\n",
            "Epoch 45/200\n",
            "\u001b[1m16/16\u001b[0m \u001b[32m━━━━━━━━━━━━━━━━━━━━\u001b[0m\u001b[37m\u001b[0m \u001b[1m0s\u001b[0m 4ms/step - loss: 8043.1992 - mse: 8043.1992 - val_loss: 14028.9561 - val_mse: 14028.9561\n",
            "Epoch 46/200\n",
            "\u001b[1m16/16\u001b[0m \u001b[32m━━━━━━━━━━━━━━━━━━━━\u001b[0m\u001b[37m\u001b[0m \u001b[1m0s\u001b[0m 4ms/step - loss: 7985.5635 - mse: 7985.5635 - val_loss: 13998.0332 - val_mse: 13998.0332\n",
            "Epoch 47/200\n",
            "\u001b[1m16/16\u001b[0m \u001b[32m━━━━━━━━━━━━━━━━━━━━\u001b[0m\u001b[37m\u001b[0m \u001b[1m0s\u001b[0m 5ms/step - loss: 7925.6035 - mse: 7925.6035 - val_loss: 13988.8418 - val_mse: 13988.8418\n",
            "Epoch 48/200\n",
            "\u001b[1m16/16\u001b[0m \u001b[32m━━━━━━━━━━━━━━━━━━━━\u001b[0m\u001b[37m\u001b[0m \u001b[1m0s\u001b[0m 5ms/step - loss: 7868.8867 - mse: 7868.8867 - val_loss: 13992.1074 - val_mse: 13992.1074\n",
            "Epoch 49/200\n",
            "\u001b[1m16/16\u001b[0m \u001b[32m━━━━━━━━━━━━━━━━━━━━\u001b[0m\u001b[37m\u001b[0m \u001b[1m0s\u001b[0m 4ms/step - loss: 7802.0864 - mse: 7802.0864 - val_loss: 13969.4756 - val_mse: 13969.4756\n",
            "Epoch 50/200\n",
            "\u001b[1m16/16\u001b[0m \u001b[32m━━━━━━━━━━━━━━━━━━━━\u001b[0m\u001b[37m\u001b[0m \u001b[1m0s\u001b[0m 5ms/step - loss: 7745.3516 - mse: 7745.3516 - val_loss: 13965.9590 - val_mse: 13965.9590\n",
            "Epoch 51/200\n",
            "\u001b[1m16/16\u001b[0m \u001b[32m━━━━━━━━━━━━━━━━━━━━\u001b[0m\u001b[37m\u001b[0m \u001b[1m0s\u001b[0m 5ms/step - loss: 7685.6729 - mse: 7685.6729 - val_loss: 13948.2393 - val_mse: 13948.2393\n",
            "Epoch 52/200\n",
            "\u001b[1m16/16\u001b[0m \u001b[32m━━━━━━━━━━━━━━━━━━━━\u001b[0m\u001b[37m\u001b[0m \u001b[1m0s\u001b[0m 4ms/step - loss: 7627.3916 - mse: 7627.3916 - val_loss: 13934.8750 - val_mse: 13934.8750\n",
            "Epoch 53/200\n",
            "\u001b[1m16/16\u001b[0m \u001b[32m━━━━━━━━━━━━━━━━━━━━\u001b[0m\u001b[37m\u001b[0m \u001b[1m0s\u001b[0m 5ms/step - loss: 7568.2900 - mse: 7568.2900 - val_loss: 13931.8291 - val_mse: 13931.8291\n",
            "Epoch 54/200\n",
            "\u001b[1m16/16\u001b[0m \u001b[32m━━━━━━━━━━━━━━━━━━━━\u001b[0m\u001b[37m\u001b[0m \u001b[1m0s\u001b[0m 4ms/step - loss: 7502.1240 - mse: 7502.1240 - val_loss: 13921.8066 - val_mse: 13921.8066\n",
            "Epoch 55/200\n",
            "\u001b[1m16/16\u001b[0m \u001b[32m━━━━━━━━━━━━━━━━━━━━\u001b[0m\u001b[37m\u001b[0m \u001b[1m0s\u001b[0m 5ms/step - loss: 7444.1606 - mse: 7444.1606 - val_loss: 13912.9375 - val_mse: 13912.9375\n",
            "Epoch 56/200\n",
            "\u001b[1m16/16\u001b[0m \u001b[32m━━━━━━━━━━━━━━━━━━━━\u001b[0m\u001b[37m\u001b[0m \u001b[1m0s\u001b[0m 4ms/step - loss: 7393.5303 - mse: 7393.5303 - val_loss: 13908.5420 - val_mse: 13908.5420\n",
            "Epoch 57/200\n",
            "\u001b[1m16/16\u001b[0m \u001b[32m━━━━━━━━━━━━━━━━━━━━\u001b[0m\u001b[37m\u001b[0m \u001b[1m0s\u001b[0m 4ms/step - loss: 7329.8794 - mse: 7329.8794 - val_loss: 13898.3633 - val_mse: 13898.3633\n",
            "Epoch 58/200\n",
            "\u001b[1m16/16\u001b[0m \u001b[32m━━━━━━━━━━━━━━━━━━━━\u001b[0m\u001b[37m\u001b[0m \u001b[1m0s\u001b[0m 4ms/step - loss: 7278.5869 - mse: 7278.5869 - val_loss: 13891.6152 - val_mse: 13891.6152\n",
            "Epoch 59/200\n",
            "\u001b[1m16/16\u001b[0m \u001b[32m━━━━━━━━━━━━━━━━━━━━\u001b[0m\u001b[37m\u001b[0m \u001b[1m0s\u001b[0m 5ms/step - loss: 7210.3721 - mse: 7210.3721 - val_loss: 13877.4492 - val_mse: 13877.4492\n",
            "Epoch 60/200\n",
            "\u001b[1m16/16\u001b[0m \u001b[32m━━━━━━━━━━━━━━━━━━━━\u001b[0m\u001b[37m\u001b[0m \u001b[1m0s\u001b[0m 3ms/step - loss: 7165.0747 - mse: 7165.0747 - val_loss: 13880.4971 - val_mse: 13880.4971\n",
            "Epoch 61/200\n",
            "\u001b[1m16/16\u001b[0m \u001b[32m━━━━━━━━━━━━━━━━━━━━\u001b[0m\u001b[37m\u001b[0m \u001b[1m0s\u001b[0m 4ms/step - loss: 7107.4556 - mse: 7107.4556 - val_loss: 13860.7227 - val_mse: 13860.7227\n",
            "Epoch 62/200\n",
            "\u001b[1m16/16\u001b[0m \u001b[32m━━━━━━━━━━━━━━━━━━━━\u001b[0m\u001b[37m\u001b[0m \u001b[1m0s\u001b[0m 4ms/step - loss: 7062.9580 - mse: 7062.9580 - val_loss: 13857.7666 - val_mse: 13857.7666\n",
            "Epoch 63/200\n",
            "\u001b[1m16/16\u001b[0m \u001b[32m━━━━━━━━━━━━━━━━━━━━\u001b[0m\u001b[37m\u001b[0m \u001b[1m0s\u001b[0m 4ms/step - loss: 7014.1641 - mse: 7014.1641 - val_loss: 13868.6523 - val_mse: 13868.6523\n",
            "Epoch 64/200\n",
            "\u001b[1m16/16\u001b[0m \u001b[32m━━━━━━━━━━━━━━━━━━━━\u001b[0m\u001b[37m\u001b[0m \u001b[1m0s\u001b[0m 5ms/step - loss: 6956.1948 - mse: 6956.1948 - val_loss: 13851.8809 - val_mse: 13851.8809\n",
            "Epoch 65/200\n",
            "\u001b[1m16/16\u001b[0m \u001b[32m━━━━━━━━━━━━━━━━━━━━\u001b[0m\u001b[37m\u001b[0m \u001b[1m0s\u001b[0m 5ms/step - loss: 6912.0049 - mse: 6912.0049 - val_loss: 13855.6875 - val_mse: 13855.6875\n",
            "Epoch 66/200\n",
            "\u001b[1m16/16\u001b[0m \u001b[32m━━━━━━━━━━━━━━━━━━━━\u001b[0m\u001b[37m\u001b[0m \u001b[1m0s\u001b[0m 5ms/step - loss: 6856.3755 - mse: 6856.3755 - val_loss: 13846.9355 - val_mse: 13846.9355\n",
            "Epoch 67/200\n",
            "\u001b[1m16/16\u001b[0m \u001b[32m━━━━━━━━━━━━━━━━━━━━\u001b[0m\u001b[37m\u001b[0m \u001b[1m0s\u001b[0m 4ms/step - loss: 6830.5098 - mse: 6830.5098 - val_loss: 13841.1416 - val_mse: 13841.1416\n",
            "Epoch 68/200\n",
            "\u001b[1m16/16\u001b[0m \u001b[32m━━━━━━━━━━━━━━━━━━━━\u001b[0m\u001b[37m\u001b[0m \u001b[1m0s\u001b[0m 5ms/step - loss: 6762.1987 - mse: 6762.1987 - val_loss: 13830.8203 - val_mse: 13830.8203\n",
            "Epoch 69/200\n",
            "\u001b[1m16/16\u001b[0m \u001b[32m━━━━━━━━━━━━━━━━━━━━\u001b[0m\u001b[37m\u001b[0m \u001b[1m0s\u001b[0m 5ms/step - loss: 6744.6519 - mse: 6744.6519 - val_loss: 13819.7510 - val_mse: 13819.7510\n",
            "Epoch 70/200\n",
            "\u001b[1m16/16\u001b[0m \u001b[32m━━━━━━━━━━━━━━━━━━━━\u001b[0m\u001b[37m\u001b[0m \u001b[1m0s\u001b[0m 5ms/step - loss: 6669.0879 - mse: 6669.0879 - val_loss: 13808.8936 - val_mse: 13808.8936\n",
            "Epoch 71/200\n",
            "\u001b[1m16/16\u001b[0m \u001b[32m━━━━━━━━━━━━━━━━━━━━\u001b[0m\u001b[37m\u001b[0m \u001b[1m0s\u001b[0m 4ms/step - loss: 6675.1025 - mse: 6675.1025 - val_loss: 13797.5205 - val_mse: 13797.5205\n",
            "Epoch 72/200\n",
            "\u001b[1m16/16\u001b[0m \u001b[32m━━━━━━━━━━━━━━━━━━━━\u001b[0m\u001b[37m\u001b[0m \u001b[1m0s\u001b[0m 4ms/step - loss: 6591.2114 - mse: 6591.2114 - val_loss: 13796.0439 - val_mse: 13796.0439\n",
            "Epoch 73/200\n",
            "\u001b[1m16/16\u001b[0m \u001b[32m━━━━━━━━━━━━━━━━━━━━\u001b[0m\u001b[37m\u001b[0m \u001b[1m0s\u001b[0m 6ms/step - loss: 6586.1494 - mse: 6586.1494 - val_loss: 13790.1934 - val_mse: 13790.1934\n",
            "Epoch 74/200\n",
            "\u001b[1m16/16\u001b[0m \u001b[32m━━━━━━━━━━━━━━━━━━━━\u001b[0m\u001b[37m\u001b[0m \u001b[1m0s\u001b[0m 5ms/step - loss: 6506.6821 - mse: 6506.6821 - val_loss: 13784.5693 - val_mse: 13784.5693\n",
            "Epoch 75/200\n",
            "\u001b[1m16/16\u001b[0m \u001b[32m━━━━━━━━━━━━━━━━━━━━\u001b[0m\u001b[37m\u001b[0m \u001b[1m0s\u001b[0m 4ms/step - loss: 6490.4546 - mse: 6490.4546 - val_loss: 13780.0107 - val_mse: 13780.0107\n",
            "Epoch 76/200\n",
            "\u001b[1m16/16\u001b[0m \u001b[32m━━━━━━━━━━━━━━━━━━━━\u001b[0m\u001b[37m\u001b[0m \u001b[1m0s\u001b[0m 5ms/step - loss: 6425.9604 - mse: 6425.9604 - val_loss: 13784.9355 - val_mse: 13784.9355\n",
            "Epoch 77/200\n",
            "\u001b[1m16/16\u001b[0m \u001b[32m━━━━━━━━━━━━━━━━━━━━\u001b[0m\u001b[37m\u001b[0m \u001b[1m0s\u001b[0m 5ms/step - loss: 6405.9951 - mse: 6405.9951 - val_loss: 13782.2539 - val_mse: 13782.2539\n",
            "Epoch 78/200\n",
            "\u001b[1m16/16\u001b[0m \u001b[32m━━━━━━━━━━━━━━━━━━━━\u001b[0m\u001b[37m\u001b[0m \u001b[1m0s\u001b[0m 5ms/step - loss: 6353.9351 - mse: 6353.9351 - val_loss: 13783.8760 - val_mse: 13783.8760\n",
            "Epoch 79/200\n",
            "\u001b[1m16/16\u001b[0m \u001b[32m━━━━━━━━━━━━━━━━━━━━\u001b[0m\u001b[37m\u001b[0m \u001b[1m0s\u001b[0m 4ms/step - loss: 6341.4292 - mse: 6341.4292 - val_loss: 13777.5459 - val_mse: 13777.5459\n",
            "Epoch 80/200\n",
            "\u001b[1m16/16\u001b[0m \u001b[32m━━━━━━━━━━━━━━━━━━━━\u001b[0m\u001b[37m\u001b[0m \u001b[1m0s\u001b[0m 4ms/step - loss: 6282.1460 - mse: 6282.1460 - val_loss: 13787.8809 - val_mse: 13787.8809\n",
            "Epoch 81/200\n",
            "\u001b[1m16/16\u001b[0m \u001b[32m━━━━━━━━━━━━━━━━━━━━\u001b[0m\u001b[37m\u001b[0m \u001b[1m0s\u001b[0m 4ms/step - loss: 6277.0972 - mse: 6277.0972 - val_loss: 13771.0117 - val_mse: 13771.0117\n",
            "Epoch 82/200\n",
            "\u001b[1m16/16\u001b[0m \u001b[32m━━━━━━━━━━━━━━━━━━━━\u001b[0m\u001b[37m\u001b[0m \u001b[1m0s\u001b[0m 6ms/step - loss: 6213.5645 - mse: 6213.5645 - val_loss: 13772.9658 - val_mse: 13772.9658\n",
            "Epoch 83/200\n",
            "\u001b[1m16/16\u001b[0m \u001b[32m━━━━━━━━━━━━━━━━━━━━\u001b[0m\u001b[37m\u001b[0m \u001b[1m0s\u001b[0m 5ms/step - loss: 6200.6104 - mse: 6200.6104 - val_loss: 13758.0479 - val_mse: 13758.0479\n",
            "Epoch 84/200\n",
            "\u001b[1m16/16\u001b[0m \u001b[32m━━━━━━━━━━━━━━━━━━━━\u001b[0m\u001b[37m\u001b[0m \u001b[1m0s\u001b[0m 5ms/step - loss: 6143.7837 - mse: 6143.7837 - val_loss: 13755.3447 - val_mse: 13755.3447\n",
            "Epoch 85/200\n",
            "\u001b[1m16/16\u001b[0m \u001b[32m━━━━━━━━━━━━━━━━━━━━\u001b[0m\u001b[37m\u001b[0m \u001b[1m0s\u001b[0m 4ms/step - loss: 6119.9932 - mse: 6119.9932 - val_loss: 13737.1152 - val_mse: 13737.1152\n",
            "Epoch 86/200\n",
            "\u001b[1m16/16\u001b[0m \u001b[32m━━━━━━━━━━━━━━━━━━━━\u001b[0m\u001b[37m\u001b[0m \u001b[1m0s\u001b[0m 4ms/step - loss: 6076.8979 - mse: 6076.8979 - val_loss: 13741.2842 - val_mse: 13741.2842\n",
            "Epoch 87/200\n",
            "\u001b[1m16/16\u001b[0m \u001b[32m━━━━━━━━━━━━━━━━━━━━\u001b[0m\u001b[37m\u001b[0m \u001b[1m0s\u001b[0m 4ms/step - loss: 6052.4214 - mse: 6052.4214 - val_loss: 13722.9111 - val_mse: 13722.9111\n",
            "Epoch 88/200\n",
            "\u001b[1m16/16\u001b[0m \u001b[32m━━━━━━━━━━━━━━━━━━━━\u001b[0m\u001b[37m\u001b[0m \u001b[1m0s\u001b[0m 5ms/step - loss: 6014.0640 - mse: 6014.0640 - val_loss: 13729.2812 - val_mse: 13729.2812\n",
            "Epoch 89/200\n",
            "\u001b[1m16/16\u001b[0m \u001b[32m━━━━━━━━━━━━━━━━━━━━\u001b[0m\u001b[37m\u001b[0m \u001b[1m0s\u001b[0m 4ms/step - loss: 5995.5718 - mse: 5995.5718 - val_loss: 13702.2666 - val_mse: 13702.2666\n",
            "Epoch 90/200\n",
            "\u001b[1m16/16\u001b[0m \u001b[32m━━━━━━━━━━━━━━━━━━━━\u001b[0m\u001b[37m\u001b[0m \u001b[1m0s\u001b[0m 4ms/step - loss: 5948.5425 - mse: 5948.5425 - val_loss: 13699.9492 - val_mse: 13699.9492\n",
            "Epoch 91/200\n",
            "\u001b[1m16/16\u001b[0m \u001b[32m━━━━━━━━━━━━━━━━━━━━\u001b[0m\u001b[37m\u001b[0m \u001b[1m0s\u001b[0m 5ms/step - loss: 5924.1641 - mse: 5924.1641 - val_loss: 13705.7930 - val_mse: 13705.7930\n",
            "Epoch 92/200\n",
            "\u001b[1m16/16\u001b[0m \u001b[32m━━━━━━━━━━━━━━━━━━━━\u001b[0m\u001b[37m\u001b[0m \u001b[1m0s\u001b[0m 4ms/step - loss: 5890.8740 - mse: 5890.8740 - val_loss: 13685.0410 - val_mse: 13685.0410\n",
            "Epoch 93/200\n",
            "\u001b[1m16/16\u001b[0m \u001b[32m━━━━━━━━━━━━━━━━━━━━\u001b[0m\u001b[37m\u001b[0m \u001b[1m0s\u001b[0m 5ms/step - loss: 5875.5234 - mse: 5875.5234 - val_loss: 13670.2705 - val_mse: 13670.2705\n",
            "Epoch 94/200\n",
            "\u001b[1m16/16\u001b[0m \u001b[32m━━━━━━━━━━━━━━━━━━━━\u001b[0m\u001b[37m\u001b[0m \u001b[1m0s\u001b[0m 5ms/step - loss: 5835.2397 - mse: 5835.2397 - val_loss: 13673.6289 - val_mse: 13673.6289\n",
            "Epoch 95/200\n",
            "\u001b[1m16/16\u001b[0m \u001b[32m━━━━━━━━━━━━━━━━━━━━\u001b[0m\u001b[37m\u001b[0m \u001b[1m0s\u001b[0m 4ms/step - loss: 5830.3721 - mse: 5830.3721 - val_loss: 13659.3662 - val_mse: 13659.3662\n",
            "Epoch 96/200\n",
            "\u001b[1m16/16\u001b[0m \u001b[32m━━━━━━━━━━━━━━━━━━━━\u001b[0m\u001b[37m\u001b[0m \u001b[1m0s\u001b[0m 4ms/step - loss: 5785.5596 - mse: 5785.5596 - val_loss: 13656.5488 - val_mse: 13656.5488\n",
            "Epoch 97/200\n",
            "\u001b[1m16/16\u001b[0m \u001b[32m━━━━━━━━━━━━━━━━━━━━\u001b[0m\u001b[37m\u001b[0m \u001b[1m0s\u001b[0m 4ms/step - loss: 5758.4028 - mse: 5758.4028 - val_loss: 13637.5596 - val_mse: 13637.5596\n",
            "Epoch 98/200\n",
            "\u001b[1m16/16\u001b[0m \u001b[32m━━━━━━━━━━━━━━━━━━━━\u001b[0m\u001b[37m\u001b[0m \u001b[1m0s\u001b[0m 4ms/step - loss: 5723.0854 - mse: 5723.0854 - val_loss: 13640.2520 - val_mse: 13640.2520\n",
            "Epoch 99/200\n",
            "\u001b[1m16/16\u001b[0m \u001b[32m━━━━━━━━━━━━━━━━━━━━\u001b[0m\u001b[37m\u001b[0m \u001b[1m0s\u001b[0m 6ms/step - loss: 5718.3667 - mse: 5718.3667 - val_loss: 13610.1494 - val_mse: 13610.1494\n",
            "Epoch 100/200\n",
            "\u001b[1m16/16\u001b[0m \u001b[32m━━━━━━━━━━━━━━━━━━━━\u001b[0m\u001b[37m\u001b[0m \u001b[1m0s\u001b[0m 4ms/step - loss: 5661.9258 - mse: 5661.9258 - val_loss: 13635.3867 - val_mse: 13635.3867\n",
            "Epoch 101/200\n",
            "\u001b[1m16/16\u001b[0m \u001b[32m━━━━━━━━━━━━━━━━━━━━\u001b[0m\u001b[37m\u001b[0m \u001b[1m0s\u001b[0m 4ms/step - loss: 5654.1924 - mse: 5654.1924 - val_loss: 13608.4521 - val_mse: 13608.4521\n",
            "Epoch 102/200\n",
            "\u001b[1m16/16\u001b[0m \u001b[32m━━━━━━━━━━━━━━━━━━━━\u001b[0m\u001b[37m\u001b[0m \u001b[1m0s\u001b[0m 4ms/step - loss: 5601.0029 - mse: 5601.0029 - val_loss: 13636.5723 - val_mse: 13636.5723\n",
            "Epoch 103/200\n",
            "\u001b[1m16/16\u001b[0m \u001b[32m━━━━━━━━━━━━━━━━━━━━\u001b[0m\u001b[37m\u001b[0m \u001b[1m0s\u001b[0m 4ms/step - loss: 5586.0068 - mse: 5586.0068 - val_loss: 13625.8848 - val_mse: 13625.8848\n",
            "Epoch 104/200\n",
            "\u001b[1m16/16\u001b[0m \u001b[32m━━━━━━━━━━━━━━━━━━━━\u001b[0m\u001b[37m\u001b[0m \u001b[1m0s\u001b[0m 4ms/step - loss: 5546.9653 - mse: 5546.9653 - val_loss: 13635.3643 - val_mse: 13635.3643\n",
            "Epoch 105/200\n",
            "\u001b[1m16/16\u001b[0m \u001b[32m━━━━━━━━━━━━━━━━━━━━\u001b[0m\u001b[37m\u001b[0m \u001b[1m0s\u001b[0m 4ms/step - loss: 5530.3218 - mse: 5530.3218 - val_loss: 13634.1943 - val_mse: 13634.1943\n",
            "Epoch 106/200\n",
            "\u001b[1m16/16\u001b[0m \u001b[32m━━━━━━━━━━━━━━━━━━━━\u001b[0m\u001b[37m\u001b[0m \u001b[1m0s\u001b[0m 5ms/step - loss: 5501.9341 - mse: 5501.9341 - val_loss: 13637.8975 - val_mse: 13637.8975\n",
            "Epoch 107/200\n",
            "\u001b[1m16/16\u001b[0m \u001b[32m━━━━━━━━━━━━━━━━━━━━\u001b[0m\u001b[37m\u001b[0m \u001b[1m0s\u001b[0m 4ms/step - loss: 5471.5962 - mse: 5471.5962 - val_loss: 13658.9092 - val_mse: 13658.9092\n",
            "Epoch 108/200\n",
            "\u001b[1m16/16\u001b[0m \u001b[32m━━━━━━━━━━━━━━━━━━━━\u001b[0m\u001b[37m\u001b[0m \u001b[1m0s\u001b[0m 4ms/step - loss: 5455.3984 - mse: 5455.3984 - val_loss: 13640.9209 - val_mse: 13640.9209\n",
            "Epoch 109/200\n",
            "\u001b[1m16/16\u001b[0m \u001b[32m━━━━━━━━━━━━━━━━━━━━\u001b[0m\u001b[37m\u001b[0m \u001b[1m0s\u001b[0m 4ms/step - loss: 5425.4888 - mse: 5425.4888 - val_loss: 13664.3066 - val_mse: 13664.3066\n",
            "Epoch 110/200\n",
            "\u001b[1m16/16\u001b[0m \u001b[32m━━━━━━━━━━━━━━━━━━━━\u001b[0m\u001b[37m\u001b[0m \u001b[1m0s\u001b[0m 5ms/step - loss: 5403.1792 - mse: 5403.1792 - val_loss: 13666.3379 - val_mse: 13666.3379\n",
            "Epoch 111/200\n",
            "\u001b[1m16/16\u001b[0m \u001b[32m━━━━━━━━━━━━━━━━━━━━\u001b[0m\u001b[37m\u001b[0m \u001b[1m0s\u001b[0m 4ms/step - loss: 5381.3726 - mse: 5381.3726 - val_loss: 13658.1230 - val_mse: 13658.1230\n",
            "Epoch 112/200\n",
            "\u001b[1m16/16\u001b[0m \u001b[32m━━━━━━━━━━━━━━━━━━━━\u001b[0m\u001b[37m\u001b[0m \u001b[1m0s\u001b[0m 4ms/step - loss: 5341.9448 - mse: 5341.9448 - val_loss: 13666.6670 - val_mse: 13666.6670\n",
            "Epoch 113/200\n",
            "\u001b[1m16/16\u001b[0m \u001b[32m━━━━━━━━━━━━━━━━━━━━\u001b[0m\u001b[37m\u001b[0m \u001b[1m0s\u001b[0m 4ms/step - loss: 5322.2295 - mse: 5322.2295 - val_loss: 13683.6777 - val_mse: 13683.6777\n",
            "Epoch 114/200\n",
            "\u001b[1m16/16\u001b[0m \u001b[32m━━━━━━━━━━━━━━━━━━━━\u001b[0m\u001b[37m\u001b[0m \u001b[1m0s\u001b[0m 5ms/step - loss: 5291.5181 - mse: 5291.5181 - val_loss: 13682.1826 - val_mse: 13682.1826\n",
            "Epoch 115/200\n",
            "\u001b[1m16/16\u001b[0m \u001b[32m━━━━━━━━━━━━━━━━━━━━\u001b[0m\u001b[37m\u001b[0m \u001b[1m0s\u001b[0m 8ms/step - loss: 5276.8608 - mse: 5276.8608 - val_loss: 13687.0098 - val_mse: 13687.0098\n",
            "Epoch 116/200\n",
            "\u001b[1m16/16\u001b[0m \u001b[32m━━━━━━━━━━━━━━━━━━━━\u001b[0m\u001b[37m\u001b[0m \u001b[1m0s\u001b[0m 5ms/step - loss: 5235.8882 - mse: 5235.8882 - val_loss: 13694.8291 - val_mse: 13694.8291\n",
            "Epoch 117/200\n",
            "\u001b[1m16/16\u001b[0m \u001b[32m━━━━━━━━━━━━━━━━━━━━\u001b[0m\u001b[37m\u001b[0m \u001b[1m0s\u001b[0m 8ms/step - loss: 5221.3369 - mse: 5221.3369 - val_loss: 13706.4629 - val_mse: 13706.4629\n",
            "Epoch 118/200\n",
            "\u001b[1m16/16\u001b[0m \u001b[32m━━━━━━━━━━━━━━━━━━━━\u001b[0m\u001b[37m\u001b[0m \u001b[1m0s\u001b[0m 5ms/step - loss: 5184.3228 - mse: 5184.3228 - val_loss: 13695.6514 - val_mse: 13695.6514\n",
            "Epoch 119/200\n",
            "\u001b[1m16/16\u001b[0m \u001b[32m━━━━━━━━━━━━━━━━━━━━\u001b[0m\u001b[37m\u001b[0m \u001b[1m0s\u001b[0m 6ms/step - loss: 5156.4355 - mse: 5156.4355 - val_loss: 13717.4639 - val_mse: 13717.4639\n",
            "Epoch 120/200\n",
            "\u001b[1m16/16\u001b[0m \u001b[32m━━━━━━━━━━━━━━━━━━━━\u001b[0m\u001b[37m\u001b[0m \u001b[1m0s\u001b[0m 7ms/step - loss: 5133.5693 - mse: 5133.5693 - val_loss: 13712.2471 - val_mse: 13712.2471\n",
            "Epoch 121/200\n",
            "\u001b[1m16/16\u001b[0m \u001b[32m━━━━━━━━━━━━━━━━━━━━\u001b[0m\u001b[37m\u001b[0m \u001b[1m0s\u001b[0m 6ms/step - loss: 5117.7334 - mse: 5117.7334 - val_loss: 13706.9258 - val_mse: 13706.9258\n",
            "Epoch 122/200\n",
            "\u001b[1m16/16\u001b[0m \u001b[32m━━━━━━━━━━━━━━━━━━━━\u001b[0m\u001b[37m\u001b[0m \u001b[1m0s\u001b[0m 6ms/step - loss: 5080.3159 - mse: 5080.3159 - val_loss: 13733.5947 - val_mse: 13733.5947\n",
            "Epoch 123/200\n",
            "\u001b[1m16/16\u001b[0m \u001b[32m━━━━━━━━━━━━━━━━━━━━\u001b[0m\u001b[37m\u001b[0m \u001b[1m0s\u001b[0m 6ms/step - loss: 5059.0239 - mse: 5059.0239 - val_loss: 13717.5137 - val_mse: 13717.5137\n",
            "Epoch 124/200\n",
            "\u001b[1m16/16\u001b[0m \u001b[32m━━━━━━━━━━━━━━━━━━━━\u001b[0m\u001b[37m\u001b[0m \u001b[1m0s\u001b[0m 6ms/step - loss: 5029.8096 - mse: 5029.8096 - val_loss: 13741.6963 - val_mse: 13741.6963\n",
            "Epoch 125/200\n",
            "\u001b[1m16/16\u001b[0m \u001b[32m━━━━━━━━━━━━━━━━━━━━\u001b[0m\u001b[37m\u001b[0m \u001b[1m0s\u001b[0m 6ms/step - loss: 5015.1812 - mse: 5015.1812 - val_loss: 13730.4258 - val_mse: 13730.4258\n",
            "Epoch 126/200\n",
            "\u001b[1m16/16\u001b[0m \u001b[32m━━━━━━━━━━━━━━━━━━━━\u001b[0m\u001b[37m\u001b[0m \u001b[1m0s\u001b[0m 6ms/step - loss: 4996.9370 - mse: 4996.9370 - val_loss: 13746.8115 - val_mse: 13746.8115\n",
            "Epoch 127/200\n",
            "\u001b[1m16/16\u001b[0m \u001b[32m━━━━━━━━━━━━━━━━━━━━\u001b[0m\u001b[37m\u001b[0m \u001b[1m0s\u001b[0m 6ms/step - loss: 4973.0767 - mse: 4973.0767 - val_loss: 13719.1172 - val_mse: 13719.1172\n",
            "Epoch 128/200\n",
            "\u001b[1m16/16\u001b[0m \u001b[32m━━━━━━━━━━━━━━━━━━━━\u001b[0m\u001b[37m\u001b[0m \u001b[1m0s\u001b[0m 8ms/step - loss: 4946.8535 - mse: 4946.8535 - val_loss: 13741.0459 - val_mse: 13741.0459\n",
            "Epoch 129/200\n",
            "\u001b[1m16/16\u001b[0m \u001b[32m━━━━━━━━━━━━━━━━━━━━\u001b[0m\u001b[37m\u001b[0m \u001b[1m0s\u001b[0m 5ms/step - loss: 4925.3101 - mse: 4925.3101 - val_loss: 13705.9961 - val_mse: 13705.9961\n",
            "Epoch 130/200\n",
            "\u001b[1m16/16\u001b[0m \u001b[32m━━━━━━━━━━━━━━━━━━━━\u001b[0m\u001b[37m\u001b[0m \u001b[1m0s\u001b[0m 6ms/step - loss: 4901.2451 - mse: 4901.2451 - val_loss: 13720.6709 - val_mse: 13720.6709\n",
            "Epoch 131/200\n",
            "\u001b[1m16/16\u001b[0m \u001b[32m━━━━━━━━━━━━━━━━━━━━\u001b[0m\u001b[37m\u001b[0m \u001b[1m0s\u001b[0m 7ms/step - loss: 4876.9526 - mse: 4876.9526 - val_loss: 13743.8496 - val_mse: 13743.8496\n",
            "Epoch 132/200\n",
            "\u001b[1m16/16\u001b[0m \u001b[32m━━━━━━━━━━━━━━━━━━━━\u001b[0m\u001b[37m\u001b[0m \u001b[1m0s\u001b[0m 6ms/step - loss: 4865.7134 - mse: 4865.7134 - val_loss: 13758.7568 - val_mse: 13758.7568\n",
            "Epoch 133/200\n",
            "\u001b[1m16/16\u001b[0m \u001b[32m━━━━━━━━━━━━━━━━━━━━\u001b[0m\u001b[37m\u001b[0m \u001b[1m0s\u001b[0m 6ms/step - loss: 4852.7896 - mse: 4852.7896 - val_loss: 13743.5117 - val_mse: 13743.5117\n",
            "Epoch 134/200\n",
            "\u001b[1m16/16\u001b[0m \u001b[32m━━━━━━━━━━━━━━━━━━━━\u001b[0m\u001b[37m\u001b[0m \u001b[1m0s\u001b[0m 7ms/step - loss: 4828.4102 - mse: 4828.4102 - val_loss: 13760.4863 - val_mse: 13760.4863\n",
            "Epoch 135/200\n",
            "\u001b[1m16/16\u001b[0m \u001b[32m━━━━━━━━━━━━━━━━━━━━\u001b[0m\u001b[37m\u001b[0m \u001b[1m0s\u001b[0m 5ms/step - loss: 4805.2295 - mse: 4805.2295 - val_loss: 13755.6445 - val_mse: 13755.6445\n",
            "Epoch 136/200\n",
            "\u001b[1m16/16\u001b[0m \u001b[32m━━━━━━━━━━━━━━━━━━━━\u001b[0m\u001b[37m\u001b[0m \u001b[1m0s\u001b[0m 4ms/step - loss: 4785.2065 - mse: 4785.2065 - val_loss: 13756.4375 - val_mse: 13756.4375\n",
            "Epoch 137/200\n",
            "\u001b[1m16/16\u001b[0m \u001b[32m━━━━━━━━━━━━━━━━━━━━\u001b[0m\u001b[37m\u001b[0m \u001b[1m0s\u001b[0m 5ms/step - loss: 4766.0146 - mse: 4766.0146 - val_loss: 13764.7666 - val_mse: 13764.7666\n",
            "Epoch 138/200\n",
            "\u001b[1m16/16\u001b[0m \u001b[32m━━━━━━━━━━━━━━━━━━━━\u001b[0m\u001b[37m\u001b[0m \u001b[1m0s\u001b[0m 5ms/step - loss: 4749.9565 - mse: 4749.9565 - val_loss: 13774.1895 - val_mse: 13774.1895\n",
            "Epoch 139/200\n",
            "\u001b[1m16/16\u001b[0m \u001b[32m━━━━━━━━━━━━━━━━━━━━\u001b[0m\u001b[37m\u001b[0m \u001b[1m0s\u001b[0m 4ms/step - loss: 4724.0908 - mse: 4724.0908 - val_loss: 13776.0088 - val_mse: 13776.0088\n",
            "Epoch 140/200\n",
            "\u001b[1m16/16\u001b[0m \u001b[32m━━━━━━━━━━━━━━━━━━━━\u001b[0m\u001b[37m\u001b[0m \u001b[1m0s\u001b[0m 4ms/step - loss: 4717.8101 - mse: 4717.8101 - val_loss: 13775.9229 - val_mse: 13775.9229\n",
            "Epoch 141/200\n",
            "\u001b[1m16/16\u001b[0m \u001b[32m━━━━━━━━━━━━━━━━━━━━\u001b[0m\u001b[37m\u001b[0m \u001b[1m0s\u001b[0m 5ms/step - loss: 4694.9800 - mse: 4694.9800 - val_loss: 13792.4082 - val_mse: 13792.4082\n",
            "Epoch 142/200\n",
            "\u001b[1m16/16\u001b[0m \u001b[32m━━━━━━━━━━━━━━━━━━━━\u001b[0m\u001b[37m\u001b[0m \u001b[1m0s\u001b[0m 4ms/step - loss: 4670.6299 - mse: 4670.6299 - val_loss: 13766.8662 - val_mse: 13766.8662\n",
            "Epoch 143/200\n",
            "\u001b[1m16/16\u001b[0m \u001b[32m━━━━━━━━━━━━━━━━━━━━\u001b[0m\u001b[37m\u001b[0m \u001b[1m0s\u001b[0m 4ms/step - loss: 4667.5625 - mse: 4667.5625 - val_loss: 13759.1064 - val_mse: 13759.1064\n",
            "Epoch 144/200\n",
            "\u001b[1m16/16\u001b[0m \u001b[32m━━━━━━━━━━━━━━━━━━━━\u001b[0m\u001b[37m\u001b[0m \u001b[1m0s\u001b[0m 5ms/step - loss: 4623.1460 - mse: 4623.1460 - val_loss: 13774.9824 - val_mse: 13774.9824\n",
            "Epoch 145/200\n",
            "\u001b[1m16/16\u001b[0m \u001b[32m━━━━━━━━━━━━━━━━━━━━\u001b[0m\u001b[37m\u001b[0m \u001b[1m0s\u001b[0m 5ms/step - loss: 4646.5942 - mse: 4646.5942 - val_loss: 13745.4023 - val_mse: 13745.4023\n",
            "Epoch 146/200\n",
            "\u001b[1m16/16\u001b[0m \u001b[32m━━━━━━━━━━━━━━━━━━━━\u001b[0m\u001b[37m\u001b[0m \u001b[1m0s\u001b[0m 4ms/step - loss: 4589.9438 - mse: 4589.9438 - val_loss: 13753.4990 - val_mse: 13753.4990\n",
            "Epoch 147/200\n",
            "\u001b[1m16/16\u001b[0m \u001b[32m━━━━━━━━━━━━━━━━━━━━\u001b[0m\u001b[37m\u001b[0m \u001b[1m0s\u001b[0m 4ms/step - loss: 4605.0054 - mse: 4605.0054 - val_loss: 13741.5742 - val_mse: 13741.5742\n",
            "Epoch 148/200\n",
            "\u001b[1m16/16\u001b[0m \u001b[32m━━━━━━━━━━━━━━━━━━━━\u001b[0m\u001b[37m\u001b[0m \u001b[1m0s\u001b[0m 6ms/step - loss: 4533.1074 - mse: 4533.1074 - val_loss: 13764.1006 - val_mse: 13764.1006\n",
            "Epoch 149/200\n",
            "\u001b[1m16/16\u001b[0m \u001b[32m━━━━━━━━━━━━━━━━━━━━\u001b[0m\u001b[37m\u001b[0m \u001b[1m0s\u001b[0m 5ms/step - loss: 4518.0693 - mse: 4518.0693 - val_loss: 13758.8467 - val_mse: 13758.8467\n",
            "Epoch 150/200\n",
            "\u001b[1m16/16\u001b[0m \u001b[32m━━━━━━━━━━━━━━━━━━━━\u001b[0m\u001b[37m\u001b[0m \u001b[1m0s\u001b[0m 4ms/step - loss: 4491.4756 - mse: 4491.4756 - val_loss: 13759.3379 - val_mse: 13759.3379\n",
            "Epoch 151/200\n",
            "\u001b[1m16/16\u001b[0m \u001b[32m━━━━━━━━━━━━━━━━━━━━\u001b[0m\u001b[37m\u001b[0m \u001b[1m0s\u001b[0m 5ms/step - loss: 4467.9150 - mse: 4467.9150 - val_loss: 13767.9248 - val_mse: 13767.9248\n",
            "Epoch 152/200\n",
            "\u001b[1m16/16\u001b[0m \u001b[32m━━━━━━━━━━━━━━━━━━━━\u001b[0m\u001b[37m\u001b[0m \u001b[1m0s\u001b[0m 5ms/step - loss: 4446.1338 - mse: 4446.1338 - val_loss: 13781.1982 - val_mse: 13781.1982\n",
            "Epoch 153/200\n",
            "\u001b[1m16/16\u001b[0m \u001b[32m━━━━━━━━━━━━━━━━━━━━\u001b[0m\u001b[37m\u001b[0m \u001b[1m0s\u001b[0m 4ms/step - loss: 4421.5083 - mse: 4421.5083 - val_loss: 13800.8350 - val_mse: 13800.8350\n",
            "Epoch 154/200\n",
            "\u001b[1m16/16\u001b[0m \u001b[32m━━━━━━━━━━━━━━━━━━━━\u001b[0m\u001b[37m\u001b[0m \u001b[1m0s\u001b[0m 5ms/step - loss: 4403.1592 - mse: 4403.1592 - val_loss: 13774.6465 - val_mse: 13774.6465\n",
            "Epoch 155/200\n",
            "\u001b[1m16/16\u001b[0m \u001b[32m━━━━━━━━━━━━━━━━━━━━\u001b[0m\u001b[37m\u001b[0m \u001b[1m0s\u001b[0m 3ms/step - loss: 4385.1504 - mse: 4385.1504 - val_loss: 13771.8125 - val_mse: 13771.8125\n",
            "Epoch 156/200\n",
            "\u001b[1m16/16\u001b[0m \u001b[32m━━━━━━━━━━━━━━━━━━━━\u001b[0m\u001b[37m\u001b[0m \u001b[1m0s\u001b[0m 5ms/step - loss: 4373.2598 - mse: 4373.2598 - val_loss: 13818.5693 - val_mse: 13818.5693\n",
            "Epoch 157/200\n",
            "\u001b[1m16/16\u001b[0m \u001b[32m━━━━━━━━━━━━━━━━━━━━\u001b[0m\u001b[37m\u001b[0m \u001b[1m0s\u001b[0m 5ms/step - loss: 4340.7988 - mse: 4340.7988 - val_loss: 13831.1797 - val_mse: 13831.1797\n",
            "Epoch 158/200\n",
            "\u001b[1m16/16\u001b[0m \u001b[32m━━━━━━━━━━━━━━━━━━━━\u001b[0m\u001b[37m\u001b[0m \u001b[1m0s\u001b[0m 4ms/step - loss: 4325.9966 - mse: 4325.9966 - val_loss: 13815.3164 - val_mse: 13815.3164\n",
            "Epoch 159/200\n",
            "\u001b[1m16/16\u001b[0m \u001b[32m━━━━━━━━━━━━━━━━━━━━\u001b[0m\u001b[37m\u001b[0m \u001b[1m0s\u001b[0m 4ms/step - loss: 4311.5298 - mse: 4311.5298 - val_loss: 13832.8018 - val_mse: 13832.8018\n",
            "Epoch 160/200\n",
            "\u001b[1m16/16\u001b[0m \u001b[32m━━━━━━━━━━━━━━━━━━━━\u001b[0m\u001b[37m\u001b[0m \u001b[1m0s\u001b[0m 5ms/step - loss: 4287.6650 - mse: 4287.6650 - val_loss: 13853.1025 - val_mse: 13853.1025\n",
            "Epoch 161/200\n",
            "\u001b[1m16/16\u001b[0m \u001b[32m━━━━━━━━━━━━━━━━━━━━\u001b[0m\u001b[37m\u001b[0m \u001b[1m0s\u001b[0m 4ms/step - loss: 4281.1831 - mse: 4281.1831 - val_loss: 13844.8291 - val_mse: 13844.8291\n",
            "Epoch 162/200\n",
            "\u001b[1m16/16\u001b[0m \u001b[32m━━━━━━━━━━━━━━━━━━━━\u001b[0m\u001b[37m\u001b[0m \u001b[1m0s\u001b[0m 5ms/step - loss: 4248.7383 - mse: 4248.7383 - val_loss: 13861.0703 - val_mse: 13861.0703\n",
            "Epoch 163/200\n",
            "\u001b[1m16/16\u001b[0m \u001b[32m━━━━━━━━━━━━━━━━━━━━\u001b[0m\u001b[37m\u001b[0m \u001b[1m0s\u001b[0m 4ms/step - loss: 4230.1514 - mse: 4230.1514 - val_loss: 13869.9209 - val_mse: 13869.9209\n",
            "Epoch 164/200\n",
            "\u001b[1m16/16\u001b[0m \u001b[32m━━━━━━━━━━━━━━━━━━━━\u001b[0m\u001b[37m\u001b[0m \u001b[1m0s\u001b[0m 4ms/step - loss: 4199.4829 - mse: 4199.4829 - val_loss: 13877.8027 - val_mse: 13877.8027\n",
            "Epoch 165/200\n",
            "\u001b[1m16/16\u001b[0m \u001b[32m━━━━━━━━━━━━━━━━━━━━\u001b[0m\u001b[37m\u001b[0m \u001b[1m0s\u001b[0m 4ms/step - loss: 4182.6069 - mse: 4182.6069 - val_loss: 13887.5791 - val_mse: 13887.5791\n",
            "Epoch 166/200\n",
            "\u001b[1m16/16\u001b[0m \u001b[32m━━━━━━━━━━━━━━━━━━━━\u001b[0m\u001b[37m\u001b[0m \u001b[1m0s\u001b[0m 4ms/step - loss: 4163.7881 - mse: 4163.7881 - val_loss: 13867.1816 - val_mse: 13867.1816\n",
            "Epoch 167/200\n",
            "\u001b[1m16/16\u001b[0m \u001b[32m━━━━━━━━━━━━━━━━━━━━\u001b[0m\u001b[37m\u001b[0m \u001b[1m0s\u001b[0m 5ms/step - loss: 4147.7031 - mse: 4147.7031 - val_loss: 13913.4346 - val_mse: 13913.4346\n",
            "Epoch 168/200\n",
            "\u001b[1m16/16\u001b[0m \u001b[32m━━━━━━━━━━━━━━━━━━━━\u001b[0m\u001b[37m\u001b[0m \u001b[1m0s\u001b[0m 5ms/step - loss: 4130.0156 - mse: 4130.0156 - val_loss: 13919.6064 - val_mse: 13919.6064\n",
            "Epoch 169/200\n",
            "\u001b[1m16/16\u001b[0m \u001b[32m━━━━━━━━━━━━━━━━━━━━\u001b[0m\u001b[37m\u001b[0m \u001b[1m0s\u001b[0m 5ms/step - loss: 4107.0166 - mse: 4107.0166 - val_loss: 13924.1367 - val_mse: 13924.1367\n",
            "Epoch 170/200\n",
            "\u001b[1m16/16\u001b[0m \u001b[32m━━━━━━━━━━━━━━━━━━━━\u001b[0m\u001b[37m\u001b[0m \u001b[1m0s\u001b[0m 5ms/step - loss: 4092.9568 - mse: 4092.9568 - val_loss: 13911.7314 - val_mse: 13911.7314\n",
            "Epoch 171/200\n",
            "\u001b[1m16/16\u001b[0m \u001b[32m━━━━━━━━━━━━━━━━━━━━\u001b[0m\u001b[37m\u001b[0m \u001b[1m0s\u001b[0m 4ms/step - loss: 4068.3486 - mse: 4068.3486 - val_loss: 13948.9473 - val_mse: 13948.9473\n",
            "Epoch 172/200\n",
            "\u001b[1m16/16\u001b[0m \u001b[32m━━━━━━━━━━━━━━━━━━━━\u001b[0m\u001b[37m\u001b[0m \u001b[1m0s\u001b[0m 4ms/step - loss: 4053.0073 - mse: 4053.0073 - val_loss: 13929.4600 - val_mse: 13929.4600\n",
            "Epoch 173/200\n",
            "\u001b[1m16/16\u001b[0m \u001b[32m━━━━━━━━━━━━━━━━━━━━\u001b[0m\u001b[37m\u001b[0m \u001b[1m0s\u001b[0m 5ms/step - loss: 4033.6868 - mse: 4033.6868 - val_loss: 13967.5967 - val_mse: 13967.5967\n",
            "Epoch 174/200\n",
            "\u001b[1m16/16\u001b[0m \u001b[32m━━━━━━━━━━━━━━━━━━━━\u001b[0m\u001b[37m\u001b[0m \u001b[1m0s\u001b[0m 5ms/step - loss: 4014.6211 - mse: 4014.6211 - val_loss: 13970.3965 - val_mse: 13970.3965\n",
            "Epoch 175/200\n",
            "\u001b[1m16/16\u001b[0m \u001b[32m━━━━━━━━━━━━━━━━━━━━\u001b[0m\u001b[37m\u001b[0m \u001b[1m0s\u001b[0m 4ms/step - loss: 3995.7468 - mse: 3995.7468 - val_loss: 13963.7441 - val_mse: 13963.7441\n",
            "Epoch 176/200\n",
            "\u001b[1m16/16\u001b[0m \u001b[32m━━━━━━━━━━━━━━━━━━━━\u001b[0m\u001b[37m\u001b[0m \u001b[1m0s\u001b[0m 4ms/step - loss: 3985.3787 - mse: 3985.3787 - val_loss: 13989.2871 - val_mse: 13989.2871\n",
            "Epoch 177/200\n",
            "\u001b[1m16/16\u001b[0m \u001b[32m━━━━━━━━━━━━━━━━━━━━\u001b[0m\u001b[37m\u001b[0m \u001b[1m0s\u001b[0m 4ms/step - loss: 3962.3274 - mse: 3962.3274 - val_loss: 14009.6992 - val_mse: 14009.6992\n",
            "Epoch 178/200\n",
            "\u001b[1m16/16\u001b[0m \u001b[32m━━━━━━━━━━━━━━━━━━━━\u001b[0m\u001b[37m\u001b[0m \u001b[1m0s\u001b[0m 4ms/step - loss: 3948.7222 - mse: 3948.7222 - val_loss: 14031.5166 - val_mse: 14031.5166\n",
            "Epoch 179/200\n",
            "\u001b[1m16/16\u001b[0m \u001b[32m━━━━━━━━━━━━━━━━━━━━\u001b[0m\u001b[37m\u001b[0m \u001b[1m0s\u001b[0m 5ms/step - loss: 3929.3201 - mse: 3929.3201 - val_loss: 14003.6914 - val_mse: 14003.6914\n",
            "Epoch 180/200\n",
            "\u001b[1m16/16\u001b[0m \u001b[32m━━━━━━━━━━━━━━━━━━━━\u001b[0m\u001b[37m\u001b[0m \u001b[1m0s\u001b[0m 5ms/step - loss: 3913.0916 - mse: 3913.0916 - val_loss: 14027.4346 - val_mse: 14027.4346\n",
            "Epoch 181/200\n",
            "\u001b[1m16/16\u001b[0m \u001b[32m━━━━━━━━━━━━━━━━━━━━\u001b[0m\u001b[37m\u001b[0m \u001b[1m0s\u001b[0m 4ms/step - loss: 3903.3677 - mse: 3903.3677 - val_loss: 14028.2617 - val_mse: 14028.2617\n",
            "Epoch 182/200\n",
            "\u001b[1m16/16\u001b[0m \u001b[32m━━━━━━━━━━━━━━━━━━━━\u001b[0m\u001b[37m\u001b[0m \u001b[1m0s\u001b[0m 4ms/step - loss: 3878.2341 - mse: 3878.2341 - val_loss: 14027.4414 - val_mse: 14027.4414\n",
            "Epoch 183/200\n",
            "\u001b[1m16/16\u001b[0m \u001b[32m━━━━━━━━━━━━━━━━━━━━\u001b[0m\u001b[37m\u001b[0m \u001b[1m0s\u001b[0m 4ms/step - loss: 3917.9077 - mse: 3917.9077 - val_loss: 14026.2598 - val_mse: 14026.2598\n",
            "Epoch 184/200\n",
            "\u001b[1m16/16\u001b[0m \u001b[32m━━━━━━━━━━━━━━━━━━━━\u001b[0m\u001b[37m\u001b[0m \u001b[1m0s\u001b[0m 5ms/step - loss: 3869.1218 - mse: 3869.1218 - val_loss: 14010.3291 - val_mse: 14010.3291\n",
            "Epoch 185/200\n",
            "\u001b[1m16/16\u001b[0m \u001b[32m━━━━━━━━━━━━━━━━━━━━\u001b[0m\u001b[37m\u001b[0m \u001b[1m0s\u001b[0m 4ms/step - loss: 4011.6411 - mse: 4011.6411 - val_loss: 14041.5752 - val_mse: 14041.5752\n",
            "Epoch 186/200\n",
            "\u001b[1m16/16\u001b[0m \u001b[32m━━━━━━━━━━━━━━━━━━━━\u001b[0m\u001b[37m\u001b[0m \u001b[1m0s\u001b[0m 4ms/step - loss: 3817.7102 - mse: 3817.7102 - val_loss: 14041.8330 - val_mse: 14041.8330\n",
            "Epoch 187/200\n",
            "\u001b[1m16/16\u001b[0m \u001b[32m━━━━━━━━━━━━━━━━━━━━\u001b[0m\u001b[37m\u001b[0m \u001b[1m0s\u001b[0m 4ms/step - loss: 3773.6646 - mse: 3773.6646 - val_loss: 14057.1992 - val_mse: 14057.1992\n",
            "Epoch 188/200\n",
            "\u001b[1m16/16\u001b[0m \u001b[32m━━━━━━━━━━━━━━━━━━━━\u001b[0m\u001b[37m\u001b[0m \u001b[1m0s\u001b[0m 4ms/step - loss: 3777.4697 - mse: 3777.4697 - val_loss: 14093.6367 - val_mse: 14093.6367\n",
            "Epoch 189/200\n",
            "\u001b[1m16/16\u001b[0m \u001b[32m━━━━━━━━━━━━━━━━━━━━\u001b[0m\u001b[37m\u001b[0m \u001b[1m0s\u001b[0m 5ms/step - loss: 3736.0625 - mse: 3736.0625 - val_loss: 14096.9941 - val_mse: 14096.9941\n",
            "Epoch 190/200\n",
            "\u001b[1m16/16\u001b[0m \u001b[32m━━━━━━━━━━━━━━━━━━━━\u001b[0m\u001b[37m\u001b[0m \u001b[1m0s\u001b[0m 4ms/step - loss: 3717.6941 - mse: 3717.6941 - val_loss: 14111.3340 - val_mse: 14111.3340\n",
            "Epoch 191/200\n",
            "\u001b[1m16/16\u001b[0m \u001b[32m━━━━━━━━━━━━━━━━━━━━\u001b[0m\u001b[37m\u001b[0m \u001b[1m0s\u001b[0m 4ms/step - loss: 3698.7812 - mse: 3698.7812 - val_loss: 14118.9336 - val_mse: 14118.9336\n",
            "Epoch 192/200\n",
            "\u001b[1m16/16\u001b[0m \u001b[32m━━━━━━━━━━━━━━━━━━━━\u001b[0m\u001b[37m\u001b[0m \u001b[1m0s\u001b[0m 4ms/step - loss: 3698.8733 - mse: 3698.8733 - val_loss: 14145.5098 - val_mse: 14145.5098\n",
            "Epoch 193/200\n",
            "\u001b[1m16/16\u001b[0m \u001b[32m━━━━━━━━━━━━━━━━━━━━\u001b[0m\u001b[37m\u001b[0m \u001b[1m0s\u001b[0m 4ms/step - loss: 3658.6511 - mse: 3658.6511 - val_loss: 14144.1689 - val_mse: 14144.1689\n",
            "Epoch 194/200\n",
            "\u001b[1m16/16\u001b[0m \u001b[32m━━━━━━━━━━━━━━━━━━━━\u001b[0m\u001b[37m\u001b[0m \u001b[1m0s\u001b[0m 5ms/step - loss: 3653.5029 - mse: 3653.5029 - val_loss: 14169.8506 - val_mse: 14169.8506\n",
            "Epoch 195/200\n",
            "\u001b[1m16/16\u001b[0m \u001b[32m━━━━━━━━━━━━━━━━━━━━\u001b[0m\u001b[37m\u001b[0m \u001b[1m0s\u001b[0m 4ms/step - loss: 3633.4697 - mse: 3633.4697 - val_loss: 14188.4600 - val_mse: 14188.4600\n",
            "Epoch 196/200\n",
            "\u001b[1m16/16\u001b[0m \u001b[32m━━━━━━━━━━━━━━━━━━━━\u001b[0m\u001b[37m\u001b[0m \u001b[1m0s\u001b[0m 4ms/step - loss: 3617.8091 - mse: 3617.8091 - val_loss: 14189.4902 - val_mse: 14189.4902\n",
            "Epoch 197/200\n",
            "\u001b[1m16/16\u001b[0m \u001b[32m━━━━━━━━━━━━━━━━━━━━\u001b[0m\u001b[37m\u001b[0m \u001b[1m0s\u001b[0m 4ms/step - loss: 3607.3140 - mse: 3607.3140 - val_loss: 14211.3486 - val_mse: 14211.3486\n",
            "Epoch 198/200\n",
            "\u001b[1m16/16\u001b[0m \u001b[32m━━━━━━━━━━━━━━━━━━━━\u001b[0m\u001b[37m\u001b[0m \u001b[1m0s\u001b[0m 4ms/step - loss: 3582.1931 - mse: 3582.1931 - val_loss: 14233.9473 - val_mse: 14233.9473\n",
            "Epoch 199/200\n",
            "\u001b[1m16/16\u001b[0m \u001b[32m━━━━━━━━━━━━━━━━━━━━\u001b[0m\u001b[37m\u001b[0m \u001b[1m0s\u001b[0m 4ms/step - loss: 3577.9968 - mse: 3577.9968 - val_loss: 14272.3145 - val_mse: 14272.3145\n",
            "Epoch 200/200\n",
            "\u001b[1m16/16\u001b[0m \u001b[32m━━━━━━━━━━━━━━━━━━━━\u001b[0m\u001b[37m\u001b[0m \u001b[1m0s\u001b[0m 5ms/step - loss: 3556.4949 - mse: 3556.4949 - val_loss: 14285.9502 - val_mse: 14285.9502\n"
          ]
        }
      ],
      "source": [
        "import tensorflow as tf\n",
        "from sklearn.metrics import classification_report\n",
        "from tensorflow.keras.models import Sequential\n",
        "from tensorflow.keras.layers import Dense\n",
        "from tensorflow.keras.optimizers import SGD\n",
        "from tensorflow.keras.optimizers import Adam\n",
        "import matplotlib.pyplot as plt\n",
        "\n",
        "np.random.seed(11)\n",
        "tf.random.set_seed(11)\n",
        "\n",
        "# Hiper-parámetros de nuestra red\n",
        "lr = 0.001\n",
        "n_epochs = 200\n",
        "batch_size = 128\n",
        "\n",
        "# Implementamos la red empleando Keras\n",
        "model = Sequential()\n",
        "model.add(Dense(64, input_shape=(x_train.shape[1],), activation=\"relu\"))\n",
        "model.add(Dense(32, activation=\"relu\"))\n",
        "model.add(Dense(16, activation=\"relu\"))\n",
        "model.add(Dense(8, activation=\"relu\"))\n",
        "model.add(Dense(1, activation=\"linear\"))\n",
        "\n",
        "\n",
        "# Compilamos y entrenamos el modelo SGD\n",
        "model.compile(loss=\"mean_squared_error\", optimizer=Adam(learning_rate=lr), metrics=[\"mse\"])\n",
        "H = model.fit(x_train, y_train, validation_data=(x_val, y_val), epochs=n_epochs, batch_size=batch_size)\n"
      ]
    },
    {
      "cell_type": "markdown",
      "metadata": {
        "id": "Misx5DaycQHl"
      },
      "source": [
        "* Evaluamos el modelo con métricas de regresión"
      ]
    },
    {
      "cell_type": "code",
      "execution_count": null,
      "metadata": {
        "colab": {
          "base_uri": "https://localhost:8080/"
        },
        "id": "GiQzFOrl-zD3",
        "outputId": "235f710b-9c78-4ab9-c3af-51031fab5c89"
      },
      "outputs": [
        {
          "name": "stdout",
          "output_type": "stream",
          "text": [
            "\u001b[1m5/5\u001b[0m \u001b[32m━━━━━━━━━━━━━━━━━━━━\u001b[0m\u001b[37m\u001b[0m \u001b[1m0s\u001b[0m 19ms/step\n",
            "Mean Squared Error: 12510.807866984134\n",
            "Mean Absolute Error: 68.13065834737593\n"
          ]
        }
      ],
      "source": [
        "from sklearn.metrics import mean_squared_error, mean_absolute_error\n",
        "from keras.layers import Dropout\n",
        "\n",
        "predictions = model.predict(x_test, batch_size=batch_size)\n",
        "\n",
        "mse = mean_squared_error(y_test, predictions)\n",
        "mae = mean_absolute_error(y_test, predictions)\n",
        "print(f\"Mean Squared Error: {mse}\")\n",
        "print(f\"Mean Absolute Error: {mae}\")"
      ]
    },
    {
      "cell_type": "markdown",
      "metadata": {
        "id": "WYfl8BmJcS17"
      },
      "source": [
        "* Dibujamos el MSE durante el entrenamiento"
      ]
    },
    {
      "cell_type": "code",
      "execution_count": null,
      "metadata": {
        "colab": {
          "base_uri": "https://localhost:8080/",
          "height": 477
        },
        "id": "jBdhis7PcUe7",
        "outputId": "c9cb6a96-ac20-4729-c9bf-6603b71151b1"
      },
      "outputs": [
        {
          "data": {
            "image/png": "[encoded data removed]",
            "text/plain": [
              "<Figure size 640x480 with 1 Axes>"
            ]
          },
          "metadata": {},
          "output_type": "display_data"
        }
      ],
      "source": [
        "plt.style.use(\"ggplot\")\n",
        "plt.figure()\n",
        "plt.plot(np.arange(0, n_epochs), H.history[\"mse\"], label=\"train_mse\")\n",
        "plt.plot(np.arange(0, n_epochs), H.history[\"val_mse\"], label=\"val_mse\")\n",
        "plt.title(\"Training and Validation MSE\")\n",
        "plt.xlabel(\"Epoch\")\n",
        "plt.ylabel(\"MSE\")\n",
        "plt.legend()\n",
        "plt.show()"
      ]
    },
    {
      "cell_type": "markdown",
      "metadata": {
        "id": "TRrJOtPVuGET"
      },
      "source": [
        "* Probamos un segundo modelo con menos características en el dataset para evitar el overfitting y con más redes neuronales, dropout y learning decay."
      ]
    },
    {
      "cell_type": "code",
      "execution_count": null,
      "metadata": {
        "colab": {
          "base_uri": "https://localhost:8080/"
        },
        "id": "CWsUShmR2EZ1",
        "outputId": "c996bc8b-7d93-4d95-fda0-e1b23739c9e3"
      },
      "outputs": [
        {
          "name": "stdout",
          "output_type": "stream",
          "text": [
            "Epoch 1/125\n"
          ]
        },
        {
          "name": "stderr",
          "output_type": "stream",
          "text": [
            "/usr/local/lib/python3.10/dist-packages/keras/src/optimizers/base_optimizer.py:33: UserWarning: Argument `decay` is no longer supported and will be ignored.\n",
            "  warnings.warn(\n",
            "/usr/local/lib/python3.10/dist-packages/keras/src/layers/core/dense.py:87: UserWarning: Do not pass an `input_shape`/`input_dim` argument to a layer. When using Sequential models, prefer using an `Input(shape)` object as the first layer in the model instead.\n",
            "  super().__init__(activity_regularizer=activity_regularizer, **kwargs)\n"
          ]
        },
        {
          "name": "stdout",
          "output_type": "stream",
          "text": [
            "\u001b[1m16/16\u001b[0m \u001b[32m━━━━━━━━━━━━━━━━━━━━\u001b[0m\u001b[37m\u001b[0m \u001b[1m2s\u001b[0m 23ms/step - loss: 45043.8828 - mse: 45043.8828 - val_loss: 52158.4844 - val_mse: 52158.4844\n",
            "Epoch 2/125\n",
            "\u001b[1m16/16\u001b[0m \u001b[32m━━━━━━━━━━━━━━━━━━━━\u001b[0m\u001b[37m\u001b[0m \u001b[1m0s\u001b[0m 7ms/step - loss: 44149.8672 - mse: 44149.8672 - val_loss: 49892.2344 - val_mse: 49892.2344\n",
            "Epoch 3/125\n",
            "\u001b[1m16/16\u001b[0m \u001b[32m━━━━━━━━━━━━━━━━━━━━\u001b[0m\u001b[37m\u001b[0m \u001b[1m0s\u001b[0m 7ms/step - loss: 41009.5430 - mse: 41009.5430 - val_loss: 42175.7656 - val_mse: 42175.7656\n",
            "Epoch 4/125\n",
            "\u001b[1m16/16\u001b[0m \u001b[32m━━━━━━━━━━━━━━━━━━━━\u001b[0m\u001b[37m\u001b[0m \u001b[1m0s\u001b[0m 6ms/step - loss: 31449.3926 - mse: 31449.3926 - val_loss: 24498.6895 - val_mse: 24498.6895\n",
            "Epoch 5/125\n",
            "\u001b[1m16/16\u001b[0m \u001b[32m━━━━━━━━━━━━━━━━━━━━\u001b[0m\u001b[37m\u001b[0m \u001b[1m0s\u001b[0m 6ms/step - loss: 15918.5234 - mse: 15918.5234 - val_loss: 16760.1621 - val_mse: 16760.1621\n",
            "Epoch 6/125\n",
            "\u001b[1m16/16\u001b[0m \u001b[32m━━━━━━━━━━━━━━━━━━━━\u001b[0m\u001b[37m\u001b[0m \u001b[1m0s\u001b[0m 7ms/step - loss: 12517.2432 - mse: 12517.2432 - val_loss: 15949.6211 - val_mse: 15949.6211\n",
            "Epoch 7/125\n",
            "\u001b[1m16/16\u001b[0m \u001b[32m━━━━━━━━━━━━━━━━━━━━\u001b[0m\u001b[37m\u001b[0m \u001b[1m0s\u001b[0m 7ms/step - loss: 11148.0439 - mse: 11148.0439 - val_loss: 15304.9297 - val_mse: 15304.9297\n",
            "Epoch 8/125\n",
            "\u001b[1m16/16\u001b[0m \u001b[32m━━━━━━━━━━━━━━━━━━━━\u001b[0m\u001b[37m\u001b[0m \u001b[1m0s\u001b[0m 7ms/step - loss: 10682.3223 - mse: 10682.3223 - val_loss: 15017.3857 - val_mse: 15017.3857\n",
            "Epoch 9/125\n",
            "\u001b[1m16/16\u001b[0m \u001b[32m━━━━━━━━━━━━━━━━━━━━\u001b[0m\u001b[37m\u001b[0m \u001b[1m0s\u001b[0m 7ms/step - loss: 10431.2275 - mse: 10431.2275 - val_loss: 14875.9697 - val_mse: 14875.9697\n",
            "Epoch 10/125\n",
            "\u001b[1m16/16\u001b[0m \u001b[32m━━━━━━━━━━━━━━━━━━━━\u001b[0m\u001b[37m\u001b[0m \u001b[1m0s\u001b[0m 4ms/step - loss: 10265.3057 - mse: 10265.3057 - val_loss: 14720.5645 - val_mse: 14720.5645\n",
            "Epoch 11/125\n",
            "\u001b[1m16/16\u001b[0m \u001b[32m━━━━━━━━━━━━━━━━━━━━\u001b[0m\u001b[37m\u001b[0m \u001b[1m0s\u001b[0m 5ms/step - loss: 10130.7129 - mse: 10130.7129 - val_loss: 14624.3691 - val_mse: 14624.3691\n",
            "Epoch 12/125\n",
            "\u001b[1m16/16\u001b[0m \u001b[32m━━━━━━━━━━━━━━━━━━━━\u001b[0m\u001b[37m\u001b[0m \u001b[1m0s\u001b[0m 4ms/step - loss: 10026.4268 - mse: 10026.4268 - val_loss: 14533.5322 - val_mse: 14533.5322\n",
            "Epoch 13/125\n",
            "\u001b[1m16/16\u001b[0m \u001b[32m━━━━━━━━━━━━━━━━━━━━\u001b[0m\u001b[37m\u001b[0m \u001b[1m0s\u001b[0m 6ms/step - loss: 9942.5400 - mse: 9942.5400 - val_loss: 14470.1338 - val_mse: 14470.1338\n",
            "Epoch 14/125\n",
            "\u001b[1m16/16\u001b[0m \u001b[32m━━━━━━━━━━━━━━━━━━━━\u001b[0m\u001b[37m\u001b[0m \u001b[1m0s\u001b[0m 5ms/step - loss: 9874.6494 - mse: 9874.6494 - val_loss: 14418.8320 - val_mse: 14418.8320\n",
            "Epoch 15/125\n",
            "\u001b[1m16/16\u001b[0m \u001b[32m━━━━━━━━━━━━━━━━━━━━\u001b[0m\u001b[37m\u001b[0m \u001b[1m0s\u001b[0m 4ms/step - loss: 9816.3428 - mse: 9816.3428 - val_loss: 14379.6309 - val_mse: 14379.6309\n",
            "Epoch 16/125\n",
            "\u001b[1m16/16\u001b[0m \u001b[32m━━━━━━━━━━━━━━━━━━━━\u001b[0m\u001b[37m\u001b[0m \u001b[1m0s\u001b[0m 4ms/step - loss: 9765.4326 - mse: 9765.4326 - val_loss: 14348.2949 - val_mse: 14348.2949\n",
            "Epoch 17/125\n",
            "\u001b[1m16/16\u001b[0m \u001b[32m━━━━━━━━━━━━━━━━━━━━\u001b[0m\u001b[37m\u001b[0m \u001b[1m0s\u001b[0m 5ms/step - loss: 9722.0830 - mse: 9722.0830 - val_loss: 14326.0400 - val_mse: 14326.0400\n",
            "Epoch 18/125\n",
            "\u001b[1m16/16\u001b[0m \u001b[32m━━━━━━━━━━━━━━━━━━━━\u001b[0m\u001b[37m\u001b[0m \u001b[1m0s\u001b[0m 4ms/step - loss: 9683.5801 - mse: 9683.5801 - val_loss: 14300.8447 - val_mse: 14300.8447\n",
            "Epoch 19/125\n",
            "\u001b[1m16/16\u001b[0m \u001b[32m━━━━━━━━━━━━━━━━━━━━\u001b[0m\u001b[37m\u001b[0m \u001b[1m0s\u001b[0m 4ms/step - loss: 9647.3896 - mse: 9647.3896 - val_loss: 14284.8438 - val_mse: 14284.8438\n",
            "Epoch 20/125\n",
            "\u001b[1m16/16\u001b[0m \u001b[32m━━━━━━━━━━━━━━━━━━━━\u001b[0m\u001b[37m\u001b[0m \u001b[1m0s\u001b[0m 4ms/step - loss: 9614.1836 - mse: 9614.1836 - val_loss: 14262.9277 - val_mse: 14262.9277\n",
            "Epoch 21/125\n",
            "\u001b[1m16/16\u001b[0m \u001b[32m━━━━━━━━━━━━━━━━━━━━\u001b[0m\u001b[37m\u001b[0m \u001b[1m0s\u001b[0m 5ms/step - loss: 9581.2588 - mse: 9581.2588 - val_loss: 14251.7090 - val_mse: 14251.7090\n",
            "Epoch 22/125\n",
            "\u001b[1m16/16\u001b[0m \u001b[32m━━━━━━━━━━━━━━━━━━━━\u001b[0m\u001b[37m\u001b[0m \u001b[1m0s\u001b[0m 7ms/step - loss: 9544.6445 - mse: 9544.6445 - val_loss: 14233.4971 - val_mse: 14233.4971\n",
            "Epoch 23/125\n",
            "\u001b[1m16/16\u001b[0m \u001b[32m━━━━━━━━━━━━━━━━━━━━\u001b[0m\u001b[37m\u001b[0m \u001b[1m0s\u001b[0m 4ms/step - loss: 9511.6113 - mse: 9511.6113 - val_loss: 14227.7676 - val_mse: 14227.7676\n",
            "Epoch 24/125\n",
            "\u001b[1m16/16\u001b[0m \u001b[32m━━━━━━━━━━━━━━━━━━━━\u001b[0m\u001b[37m\u001b[0m \u001b[1m0s\u001b[0m 5ms/step - loss: 9477.0908 - mse: 9477.0908 - val_loss: 14210.1914 - val_mse: 14210.1914\n",
            "Epoch 25/125\n",
            "\u001b[1m16/16\u001b[0m \u001b[32m━━━━━━━━━━━━━━━━━━━━\u001b[0m\u001b[37m\u001b[0m \u001b[1m0s\u001b[0m 5ms/step - loss: 9440.1484 - mse: 9440.1484 - val_loss: 14194.4834 - val_mse: 14194.4834\n",
            "Epoch 26/125\n",
            "\u001b[1m16/16\u001b[0m \u001b[32m━━━━━━━━━━━━━━━━━━━━\u001b[0m\u001b[37m\u001b[0m \u001b[1m0s\u001b[0m 5ms/step - loss: 9404.0254 - mse: 9404.0254 - val_loss: 14182.5801 - val_mse: 14182.5801\n",
            "Epoch 27/125\n",
            "\u001b[1m16/16\u001b[0m \u001b[32m━━━━━━━━━━━━━━━━━━━━\u001b[0m\u001b[37m\u001b[0m \u001b[1m0s\u001b[0m 5ms/step - loss: 9369.2188 - mse: 9369.2188 - val_loss: 14175.6475 - val_mse: 14175.6475\n",
            "Epoch 28/125\n",
            "\u001b[1m16/16\u001b[0m \u001b[32m━━━━━━━━━━━━━━━━━━━━\u001b[0m\u001b[37m\u001b[0m \u001b[1m0s\u001b[0m 4ms/step - loss: 9332.0469 - mse: 9332.0469 - val_loss: 14161.8164 - val_mse: 14161.8164\n",
            "Epoch 29/125\n",
            "\u001b[1m16/16\u001b[0m \u001b[32m━━━━━━━━━━━━━━━━━━━━\u001b[0m\u001b[37m\u001b[0m \u001b[1m0s\u001b[0m 4ms/step - loss: 9297.3369 - mse: 9297.3369 - val_loss: 14147.0898 - val_mse: 14147.0898\n",
            "Epoch 30/125\n",
            "\u001b[1m16/16\u001b[0m \u001b[32m━━━━━━━━━━━━━━━━━━━━\u001b[0m\u001b[37m\u001b[0m \u001b[1m0s\u001b[0m 4ms/step - loss: 9259.1650 - mse: 9259.1650 - val_loss: 14132.4961 - val_mse: 14132.4961\n",
            "Epoch 31/125\n",
            "\u001b[1m16/16\u001b[0m \u001b[32m━━━━━━━━━━━━━━━━━━━━\u001b[0m\u001b[37m\u001b[0m \u001b[1m0s\u001b[0m 5ms/step - loss: 9223.1514 - mse: 9223.1514 - val_loss: 14125.5762 - val_mse: 14125.5762\n",
            "Epoch 32/125\n",
            "\u001b[1m16/16\u001b[0m \u001b[32m━━━━━━━━━━━━━━━━━━━━\u001b[0m\u001b[37m\u001b[0m \u001b[1m0s\u001b[0m 4ms/step - loss: 9185.1045 - mse: 9185.1045 - val_loss: 14107.8691 - val_mse: 14107.8691\n",
            "Epoch 33/125\n",
            "\u001b[1m16/16\u001b[0m \u001b[32m━━━━━━━━━━━━━━━━━━━━\u001b[0m\u001b[37m\u001b[0m \u001b[1m0s\u001b[0m 4ms/step - loss: 9147.3398 - mse: 9147.3398 - val_loss: 14088.6230 - val_mse: 14088.6230\n",
            "Epoch 34/125\n",
            "\u001b[1m16/16\u001b[0m \u001b[32m━━━━━━━━━━━━━━━━━━━━\u001b[0m\u001b[37m\u001b[0m \u001b[1m0s\u001b[0m 4ms/step - loss: 9105.9629 - mse: 9105.9629 - val_loss: 14075.6875 - val_mse: 14075.6875\n",
            "Epoch 35/125\n",
            "\u001b[1m16/16\u001b[0m \u001b[32m━━━━━━━━━━━━━━━━━━━━\u001b[0m\u001b[37m\u001b[0m \u001b[1m0s\u001b[0m 4ms/step - loss: 9068.7734 - mse: 9068.7734 - val_loss: 14069.4463 - val_mse: 14069.4463\n",
            "Epoch 36/125\n",
            "\u001b[1m16/16\u001b[0m \u001b[32m━━━━━━━━━━━━━━━━━━━━\u001b[0m\u001b[37m\u001b[0m \u001b[1m0s\u001b[0m 5ms/step - loss: 9023.2490 - mse: 9023.2490 - val_loss: 14059.5283 - val_mse: 14059.5283\n",
            "Epoch 37/125\n",
            "\u001b[1m16/16\u001b[0m \u001b[32m━━━━━━━━━━━━━━━━━━━━\u001b[0m\u001b[37m\u001b[0m \u001b[1m0s\u001b[0m 5ms/step - loss: 8982.9580 - mse: 8982.9580 - val_loss: 14041.7617 - val_mse: 14041.7617\n",
            "Epoch 38/125\n",
            "\u001b[1m16/16\u001b[0m \u001b[32m━━━━━━━━━━━━━━━━━━━━\u001b[0m\u001b[37m\u001b[0m \u001b[1m0s\u001b[0m 5ms/step - loss: 8941.2480 - mse: 8941.2480 - val_loss: 14030.8086 - val_mse: 14030.8086\n",
            "Epoch 39/125\n",
            "\u001b[1m16/16\u001b[0m \u001b[32m━━━━━━━━━━━━━━━━━━━━\u001b[0m\u001b[37m\u001b[0m \u001b[1m0s\u001b[0m 5ms/step - loss: 8901.8750 - mse: 8901.8750 - val_loss: 14023.5322 - val_mse: 14023.5322\n",
            "Epoch 40/125\n",
            "\u001b[1m16/16\u001b[0m \u001b[32m━━━━━━━━━━━━━━━━━━━━\u001b[0m\u001b[37m\u001b[0m \u001b[1m0s\u001b[0m 4ms/step - loss: 8860.6436 - mse: 8860.6436 - val_loss: 14013.1064 - val_mse: 14013.1064\n",
            "Epoch 41/125\n",
            "\u001b[1m16/16\u001b[0m \u001b[32m━━━━━━━━━━━━━━━━━━━━\u001b[0m\u001b[37m\u001b[0m \u001b[1m0s\u001b[0m 4ms/step - loss: 8821.8477 - mse: 8821.8477 - val_loss: 13995.5732 - val_mse: 13995.5732\n",
            "Epoch 42/125\n",
            "\u001b[1m16/16\u001b[0m \u001b[32m━━━━━━━━━━━━━━━━━━━━\u001b[0m\u001b[37m\u001b[0m \u001b[1m0s\u001b[0m 4ms/step - loss: 8783.0352 - mse: 8783.0352 - val_loss: 13989.3828 - val_mse: 13989.3828\n",
            "Epoch 43/125\n",
            "\u001b[1m16/16\u001b[0m \u001b[32m━━━━━━━━━━━━━━━━━━━━\u001b[0m\u001b[37m\u001b[0m \u001b[1m0s\u001b[0m 4ms/step - loss: 8745.2373 - mse: 8745.2373 - val_loss: 13987.0381 - val_mse: 13987.0381\n",
            "Epoch 44/125\n",
            "\u001b[1m16/16\u001b[0m \u001b[32m━━━━━━━━━━━━━━━━━━━━\u001b[0m\u001b[37m\u001b[0m \u001b[1m0s\u001b[0m 5ms/step - loss: 8704.7041 - mse: 8704.7041 - val_loss: 13979.6152 - val_mse: 13979.6152\n",
            "Epoch 45/125\n",
            "\u001b[1m16/16\u001b[0m \u001b[32m━━━━━━━━━━━━━━━━━━━━\u001b[0m\u001b[37m\u001b[0m \u001b[1m0s\u001b[0m 4ms/step - loss: 8668.7754 - mse: 8668.7754 - val_loss: 13971.9473 - val_mse: 13971.9473\n",
            "Epoch 46/125\n",
            "\u001b[1m16/16\u001b[0m \u001b[32m━━━━━━━━━━━━━━━━━━━━\u001b[0m\u001b[37m\u001b[0m \u001b[1m0s\u001b[0m 4ms/step - loss: 8629.6562 - mse: 8629.6562 - val_loss: 13961.1533 - val_mse: 13961.1533\n",
            "Epoch 47/125\n",
            "\u001b[1m16/16\u001b[0m \u001b[32m━━━━━━━━━━━━━━━━━━━━\u001b[0m\u001b[37m\u001b[0m \u001b[1m0s\u001b[0m 5ms/step - loss: 8591.9189 - mse: 8591.9189 - val_loss: 13944.2832 - val_mse: 13944.2832\n",
            "Epoch 48/125\n",
            "\u001b[1m16/16\u001b[0m \u001b[32m━━━━━━━━━━━━━━━━━━━━\u001b[0m\u001b[37m\u001b[0m \u001b[1m0s\u001b[0m 5ms/step - loss: 8559.3721 - mse: 8559.3721 - val_loss: 13935.7158 - val_mse: 13935.7158\n",
            "Epoch 49/125\n",
            "\u001b[1m16/16\u001b[0m \u001b[32m━━━━━━━━━━━━━━━━━━━━\u001b[0m\u001b[37m\u001b[0m \u001b[1m0s\u001b[0m 5ms/step - loss: 8520.8848 - mse: 8520.8848 - val_loss: 13936.0566 - val_mse: 13936.0566\n",
            "Epoch 50/125\n",
            "\u001b[1m16/16\u001b[0m \u001b[32m━━━━━━━━━━━━━━━━━━━━\u001b[0m\u001b[37m\u001b[0m \u001b[1m0s\u001b[0m 5ms/step - loss: 8483.0898 - mse: 8483.0898 - val_loss: 13920.5361 - val_mse: 13920.5361\n",
            "Epoch 51/125\n",
            "\u001b[1m16/16\u001b[0m \u001b[32m━━━━━━━━━━━━━━━━━━━━\u001b[0m\u001b[37m\u001b[0m \u001b[1m0s\u001b[0m 4ms/step - loss: 8451.4365 - mse: 8451.4365 - val_loss: 13916.3389 - val_mse: 13916.3389\n",
            "Epoch 52/125\n",
            "\u001b[1m16/16\u001b[0m \u001b[32m━━━━━━━━━━━━━━━━━━━━\u001b[0m\u001b[37m\u001b[0m \u001b[1m0s\u001b[0m 5ms/step - loss: 8411.0410 - mse: 8411.0410 - val_loss: 13912.3408 - val_mse: 13912.3408\n",
            "Epoch 53/125\n",
            "\u001b[1m16/16\u001b[0m \u001b[32m━━━━━━━━━━━━━━━━━━━━\u001b[0m\u001b[37m\u001b[0m \u001b[1m0s\u001b[0m 6ms/step - loss: 8381.0742 - mse: 8381.0742 - val_loss: 13901.5508 - val_mse: 13901.5508\n",
            "Epoch 54/125\n",
            "\u001b[1m16/16\u001b[0m \u001b[32m━━━━━━━━━━━━━━━━━━━━\u001b[0m\u001b[37m\u001b[0m \u001b[1m0s\u001b[0m 4ms/step - loss: 8348.3105 - mse: 8348.3105 - val_loss: 13903.7275 - val_mse: 13903.7275\n",
            "Epoch 55/125\n",
            "\u001b[1m16/16\u001b[0m \u001b[32m━━━━━━━━━━━━━━━━━━━━\u001b[0m\u001b[37m\u001b[0m \u001b[1m0s\u001b[0m 4ms/step - loss: 8313.2158 - mse: 8313.2158 - val_loss: 13901.4160 - val_mse: 13901.4160\n",
            "Epoch 56/125\n",
            "\u001b[1m16/16\u001b[0m \u001b[32m━━━━━━━━━━━━━━━━━━━━\u001b[0m\u001b[37m\u001b[0m \u001b[1m0s\u001b[0m 6ms/step - loss: 8279.5410 - mse: 8279.5410 - val_loss: 13895.3350 - val_mse: 13895.3350\n",
            "Epoch 57/125\n",
            "\u001b[1m16/16\u001b[0m \u001b[32m━━━━━━━━━━━━━━━━━━━━\u001b[0m\u001b[37m\u001b[0m \u001b[1m0s\u001b[0m 5ms/step - loss: 8251.8623 - mse: 8251.8623 - val_loss: 13887.3252 - val_mse: 13887.3252\n",
            "Epoch 58/125\n",
            "\u001b[1m16/16\u001b[0m \u001b[32m━━━━━━━━━━━━━━━━━━━━\u001b[0m\u001b[37m\u001b[0m \u001b[1m0s\u001b[0m 4ms/step - loss: 8216.7236 - mse: 8216.7236 - val_loss: 13890.8994 - val_mse: 13890.8994\n",
            "Epoch 59/125\n",
            "\u001b[1m16/16\u001b[0m \u001b[32m━━━━━━━━━━━━━━━━━━━━\u001b[0m\u001b[37m\u001b[0m \u001b[1m0s\u001b[0m 4ms/step - loss: 8190.1411 - mse: 8190.1411 - val_loss: 13890.2646 - val_mse: 13890.2646\n",
            "Epoch 60/125\n",
            "\u001b[1m16/16\u001b[0m \u001b[32m━━━━━━━━━━━━━━━━━━━━\u001b[0m\u001b[37m\u001b[0m \u001b[1m0s\u001b[0m 4ms/step - loss: 8157.3560 - mse: 8157.3560 - val_loss: 13875.9854 - val_mse: 13875.9854\n",
            "Epoch 61/125\n",
            "\u001b[1m16/16\u001b[0m \u001b[32m━━━━━━━━━━━━━━━━━━━━\u001b[0m\u001b[37m\u001b[0m \u001b[1m0s\u001b[0m 4ms/step - loss: 8133.0640 - mse: 8133.0640 - val_loss: 13879.4697 - val_mse: 13879.4697\n",
            "Epoch 62/125\n",
            "\u001b[1m16/16\u001b[0m \u001b[32m━━━━━━━━━━━━━━━━━━━━\u001b[0m\u001b[37m\u001b[0m \u001b[1m0s\u001b[0m 5ms/step - loss: 8101.3911 - mse: 8101.3911 - val_loss: 13880.7598 - val_mse: 13880.7598\n",
            "Epoch 63/125\n",
            "\u001b[1m16/16\u001b[0m \u001b[32m━━━━━━━━━━━━━━━━━━━━\u001b[0m\u001b[37m\u001b[0m \u001b[1m0s\u001b[0m 4ms/step - loss: 8077.9424 - mse: 8077.9424 - val_loss: 13873.7168 - val_mse: 13873.7168\n",
            "Epoch 64/125\n",
            "\u001b[1m16/16\u001b[0m \u001b[32m━━━━━━━━━━━━━━━━━━━━\u001b[0m\u001b[37m\u001b[0m \u001b[1m0s\u001b[0m 5ms/step - loss: 8044.8853 - mse: 8044.8853 - val_loss: 13877.8154 - val_mse: 13877.8154\n",
            "Epoch 65/125\n",
            "\u001b[1m16/16\u001b[0m \u001b[32m━━━━━━━━━━━━━━━━━━━━\u001b[0m\u001b[37m\u001b[0m \u001b[1m0s\u001b[0m 5ms/step - loss: 8020.5664 - mse: 8020.5664 - val_loss: 13877.0801 - val_mse: 13877.0801\n",
            "Epoch 66/125\n",
            "\u001b[1m16/16\u001b[0m \u001b[32m━━━━━━━━━━━━━━━━━━━━\u001b[0m\u001b[37m\u001b[0m \u001b[1m0s\u001b[0m 4ms/step - loss: 7991.3540 - mse: 7991.3540 - val_loss: 13866.5947 - val_mse: 13866.5947\n",
            "Epoch 67/125\n",
            "\u001b[1m16/16\u001b[0m \u001b[32m━━━━━━━━━━━━━━━━━━━━\u001b[0m\u001b[37m\u001b[0m \u001b[1m0s\u001b[0m 4ms/step - loss: 7963.8271 - mse: 7963.8271 - val_loss: 13877.9814 - val_mse: 13877.9814\n",
            "Epoch 68/125\n",
            "\u001b[1m16/16\u001b[0m \u001b[32m━━━━━━━━━━━━━━━━━━━━\u001b[0m\u001b[37m\u001b[0m \u001b[1m0s\u001b[0m 4ms/step - loss: 7934.7329 - mse: 7934.7329 - val_loss: 13872.5967 - val_mse: 13872.5967\n",
            "Epoch 69/125\n",
            "\u001b[1m16/16\u001b[0m \u001b[32m━━━━━━━━━━━━━━━━━━━━\u001b[0m\u001b[37m\u001b[0m \u001b[1m0s\u001b[0m 4ms/step - loss: 7911.5254 - mse: 7911.5254 - val_loss: 13869.6387 - val_mse: 13869.6387\n",
            "Epoch 70/125\n",
            "\u001b[1m16/16\u001b[0m \u001b[32m━━━━━━━━━━━━━━━━━━━━\u001b[0m\u001b[37m\u001b[0m \u001b[1m0s\u001b[0m 4ms/step - loss: 7886.8403 - mse: 7886.8403 - val_loss: 13866.5928 - val_mse: 13866.5928\n",
            "Epoch 71/125\n",
            "\u001b[1m16/16\u001b[0m \u001b[32m━━━━━━━━━━━━━━━━━━━━\u001b[0m\u001b[37m\u001b[0m \u001b[1m0s\u001b[0m 4ms/step - loss: 7862.9800 - mse: 7862.9800 - val_loss: 13870.7217 - val_mse: 13870.7217\n",
            "Epoch 72/125\n",
            "\u001b[1m16/16\u001b[0m \u001b[32m━━━━━━━━━━━━━━━━━━━━\u001b[0m\u001b[37m\u001b[0m \u001b[1m0s\u001b[0m 5ms/step - loss: 7838.5874 - mse: 7838.5874 - val_loss: 13870.2285 - val_mse: 13870.2285\n",
            "Epoch 73/125\n",
            "\u001b[1m16/16\u001b[0m \u001b[32m━━━━━━━━━━━━━━━━━━━━\u001b[0m\u001b[37m\u001b[0m \u001b[1m0s\u001b[0m 4ms/step - loss: 7812.8994 - mse: 7812.8994 - val_loss: 13863.0732 - val_mse: 13863.0732\n",
            "Epoch 74/125\n",
            "\u001b[1m16/16\u001b[0m \u001b[32m━━━━━━━━━━━━━━━━━━━━\u001b[0m\u001b[37m\u001b[0m \u001b[1m0s\u001b[0m 5ms/step - loss: 7789.6851 - mse: 7789.6851 - val_loss: 13865.3115 - val_mse: 13865.3115\n",
            "Epoch 75/125\n",
            "\u001b[1m16/16\u001b[0m \u001b[32m━━━━━━━━━━━━━━━━━━━━\u001b[0m\u001b[37m\u001b[0m \u001b[1m0s\u001b[0m 6ms/step - loss: 7761.6416 - mse: 7761.6416 - val_loss: 13861.8164 - val_mse: 13861.8164\n",
            "Epoch 76/125\n",
            "\u001b[1m16/16\u001b[0m \u001b[32m━━━━━━━━━━━━━━━━━━━━\u001b[0m\u001b[37m\u001b[0m \u001b[1m0s\u001b[0m 4ms/step - loss: 7736.0703 - mse: 7736.0703 - val_loss: 13856.4482 - val_mse: 13856.4482\n",
            "Epoch 77/125\n",
            "\u001b[1m16/16\u001b[0m \u001b[32m━━━━━━━━━━━━━━━━━━━━\u001b[0m\u001b[37m\u001b[0m \u001b[1m0s\u001b[0m 4ms/step - loss: 7710.4844 - mse: 7710.4844 - val_loss: 13865.9336 - val_mse: 13865.9336\n",
            "Epoch 78/125\n",
            "\u001b[1m16/16\u001b[0m \u001b[32m━━━━━━━━━━━━━━━━━━━━\u001b[0m\u001b[37m\u001b[0m \u001b[1m0s\u001b[0m 4ms/step - loss: 7690.8779 - mse: 7690.8779 - val_loss: 13855.0596 - val_mse: 13855.0596\n",
            "Epoch 79/125\n",
            "\u001b[1m16/16\u001b[0m \u001b[32m━━━━━━━━━━━━━━━━━━━━\u001b[0m\u001b[37m\u001b[0m \u001b[1m0s\u001b[0m 5ms/step - loss: 7665.7959 - mse: 7665.7959 - val_loss: 13864.0078 - val_mse: 13864.0078\n",
            "Epoch 80/125\n",
            "\u001b[1m16/16\u001b[0m \u001b[32m━━━━━━━━━━━━━━━━━━━━\u001b[0m\u001b[37m\u001b[0m \u001b[1m0s\u001b[0m 4ms/step - loss: 7637.8218 - mse: 7637.8218 - val_loss: 13870.6846 - val_mse: 13870.6846\n",
            "Epoch 81/125\n",
            "\u001b[1m16/16\u001b[0m \u001b[32m━━━━━━━━━━━━━━━━━━━━\u001b[0m\u001b[37m\u001b[0m \u001b[1m0s\u001b[0m 5ms/step - loss: 7616.6440 - mse: 7616.6440 - val_loss: 13857.7422 - val_mse: 13857.7422\n",
            "Epoch 82/125\n",
            "\u001b[1m16/16\u001b[0m \u001b[32m━━━━━━━━━━━━━━━━━━━━\u001b[0m\u001b[37m\u001b[0m \u001b[1m0s\u001b[0m 4ms/step - loss: 7593.3374 - mse: 7593.3374 - val_loss: 13862.0361 - val_mse: 13862.0361\n",
            "Epoch 83/125\n",
            "\u001b[1m16/16\u001b[0m \u001b[32m━━━━━━━━━━━━━━━━━━━━\u001b[0m\u001b[37m\u001b[0m \u001b[1m0s\u001b[0m 5ms/step - loss: 7570.5234 - mse: 7570.5234 - val_loss: 13862.6113 - val_mse: 13862.6113\n",
            "Epoch 84/125\n",
            "\u001b[1m16/16\u001b[0m \u001b[32m━━━━━━━━━━━━━━━━━━━━\u001b[0m\u001b[37m\u001b[0m \u001b[1m0s\u001b[0m 6ms/step - loss: 7549.8271 - mse: 7549.8271 - val_loss: 13842.1045 - val_mse: 13842.1045\n",
            "Epoch 85/125\n",
            "\u001b[1m16/16\u001b[0m \u001b[32m━━━━━━━━━━━━━━━━━━━━\u001b[0m\u001b[37m\u001b[0m \u001b[1m0s\u001b[0m 4ms/step - loss: 7527.7227 - mse: 7527.7227 - val_loss: 13861.8945 - val_mse: 13861.8945\n",
            "Epoch 86/125\n",
            "\u001b[1m16/16\u001b[0m \u001b[32m━━━━━━━━━━━━━━━━━━━━\u001b[0m\u001b[37m\u001b[0m \u001b[1m0s\u001b[0m 5ms/step - loss: 7507.2280 - mse: 7507.2280 - val_loss: 13836.1191 - val_mse: 13836.1191\n",
            "Epoch 87/125\n",
            "\u001b[1m16/16\u001b[0m \u001b[32m━━━━━━━━━━━━━━━━━━━━\u001b[0m\u001b[37m\u001b[0m \u001b[1m0s\u001b[0m 4ms/step - loss: 7479.7495 - mse: 7479.7495 - val_loss: 13851.6855 - val_mse: 13851.6855\n",
            "Epoch 88/125\n",
            "\u001b[1m16/16\u001b[0m \u001b[32m━━━━━━━━━━━━━━━━━━━━\u001b[0m\u001b[37m\u001b[0m \u001b[1m0s\u001b[0m 4ms/step - loss: 7465.7681 - mse: 7465.7681 - val_loss: 13823.4414 - val_mse: 13823.4414\n",
            "Epoch 89/125\n",
            "\u001b[1m16/16\u001b[0m \u001b[32m━━━━━━━━━━━━━━━━━━━━\u001b[0m\u001b[37m\u001b[0m \u001b[1m0s\u001b[0m 4ms/step - loss: 7436.2661 - mse: 7436.2661 - val_loss: 13839.8525 - val_mse: 13839.8525\n",
            "Epoch 90/125\n",
            "\u001b[1m16/16\u001b[0m \u001b[32m━━━━━━━━━━━━━━━━━━━━\u001b[0m\u001b[37m\u001b[0m \u001b[1m0s\u001b[0m 6ms/step - loss: 7418.8442 - mse: 7418.8442 - val_loss: 13823.0762 - val_mse: 13823.0762\n",
            "Epoch 91/125\n",
            "\u001b[1m16/16\u001b[0m \u001b[32m━━━━━━━━━━━━━━━━━━━━\u001b[0m\u001b[37m\u001b[0m \u001b[1m0s\u001b[0m 4ms/step - loss: 7391.8271 - mse: 7391.8271 - val_loss: 13828.8867 - val_mse: 13828.8867\n",
            "Epoch 92/125\n",
            "\u001b[1m16/16\u001b[0m \u001b[32m━━━━━━━━━━━━━━━━━━━━\u001b[0m\u001b[37m\u001b[0m \u001b[1m0s\u001b[0m 6ms/step - loss: 7376.0767 - mse: 7376.0767 - val_loss: 13809.0947 - val_mse: 13809.0947\n",
            "Epoch 93/125\n",
            "\u001b[1m16/16\u001b[0m \u001b[32m━━━━━━━━━━━━━━━━━━━━\u001b[0m\u001b[37m\u001b[0m \u001b[1m0s\u001b[0m 5ms/step - loss: 7347.4165 - mse: 7347.4165 - val_loss: 13829.1768 - val_mse: 13829.1768\n",
            "Epoch 94/125\n",
            "\u001b[1m16/16\u001b[0m \u001b[32m━━━━━━━━━━━━━━━━━━━━\u001b[0m\u001b[37m\u001b[0m \u001b[1m0s\u001b[0m 6ms/step - loss: 7328.6514 - mse: 7328.6514 - val_loss: 13829.1865 - val_mse: 13829.1865\n",
            "Epoch 95/125\n",
            "\u001b[1m16/16\u001b[0m \u001b[32m━━━━━━━━━━━━━━━━━━━━\u001b[0m\u001b[37m\u001b[0m \u001b[1m0s\u001b[0m 6ms/step - loss: 7303.8955 - mse: 7303.8955 - val_loss: 13814.5820 - val_mse: 13814.5820\n",
            "Epoch 96/125\n",
            "\u001b[1m16/16\u001b[0m \u001b[32m━━━━━━━━━━━━━━━━━━━━\u001b[0m\u001b[37m\u001b[0m \u001b[1m0s\u001b[0m 6ms/step - loss: 7286.9199 - mse: 7286.9199 - val_loss: 13834.0166 - val_mse: 13834.0166\n",
            "Epoch 97/125\n",
            "\u001b[1m16/16\u001b[0m \u001b[32m━━━━━━━━━━━━━━━━━━━━\u001b[0m\u001b[37m\u001b[0m \u001b[1m0s\u001b[0m 6ms/step - loss: 7266.0332 - mse: 7266.0332 - val_loss: 13818.8086 - val_mse: 13818.8086\n",
            "Epoch 98/125\n",
            "\u001b[1m16/16\u001b[0m \u001b[32m━━━━━━━━━━━━━━━━━━━━\u001b[0m\u001b[37m\u001b[0m \u001b[1m0s\u001b[0m 5ms/step - loss: 7243.1401 - mse: 7243.1401 - val_loss: 13838.4678 - val_mse: 13838.4678\n",
            "Epoch 99/125\n",
            "\u001b[1m16/16\u001b[0m \u001b[32m━━━━━━━━━━━━━━━━━━━━\u001b[0m\u001b[37m\u001b[0m \u001b[1m0s\u001b[0m 6ms/step - loss: 7221.8789 - mse: 7221.8789 - val_loss: 13823.8975 - val_mse: 13823.8975\n",
            "Epoch 100/125\n",
            "\u001b[1m16/16\u001b[0m \u001b[32m━━━━━━━━━━━━━━━━━━━━\u001b[0m\u001b[37m\u001b[0m \u001b[1m0s\u001b[0m 5ms/step - loss: 7201.3794 - mse: 7201.3794 - val_loss: 13840.4229 - val_mse: 13840.4229\n",
            "Epoch 101/125\n",
            "\u001b[1m16/16\u001b[0m \u001b[32m━━━━━━━━━━━━━━━━━━━━\u001b[0m\u001b[37m\u001b[0m \u001b[1m0s\u001b[0m 7ms/step - loss: 7185.7734 - mse: 7185.7734 - val_loss: 13828.5176 - val_mse: 13828.5176\n",
            "Epoch 102/125\n",
            "\u001b[1m16/16\u001b[0m \u001b[32m━━━━━━━━━━━━━━━━━━━━\u001b[0m\u001b[37m\u001b[0m \u001b[1m0s\u001b[0m 8ms/step - loss: 7161.1895 - mse: 7161.1895 - val_loss: 13851.4863 - val_mse: 13851.4863\n",
            "Epoch 103/125\n",
            "\u001b[1m16/16\u001b[0m \u001b[32m━━━━━━━━━━━━━━━━━━━━\u001b[0m\u001b[37m\u001b[0m \u001b[1m0s\u001b[0m 6ms/step - loss: 7140.9893 - mse: 7140.9893 - val_loss: 13829.5625 - val_mse: 13829.5625\n",
            "Epoch 104/125\n",
            "\u001b[1m16/16\u001b[0m \u001b[32m━━━━━━━━━━━━━━━━━━━━\u001b[0m\u001b[37m\u001b[0m \u001b[1m0s\u001b[0m 6ms/step - loss: 7129.7715 - mse: 7129.7715 - val_loss: 13838.6221 - val_mse: 13838.6221\n",
            "Epoch 105/125\n",
            "\u001b[1m16/16\u001b[0m \u001b[32m━━━━━━━━━━━━━━━━━━━━\u001b[0m\u001b[37m\u001b[0m \u001b[1m0s\u001b[0m 6ms/step - loss: 7105.9600 - mse: 7105.9600 - val_loss: 13843.4268 - val_mse: 13843.4268\n",
            "Epoch 106/125\n",
            "\u001b[1m16/16\u001b[0m \u001b[32m━━━━━━━━━━━━━━━━━━━━\u001b[0m\u001b[37m\u001b[0m \u001b[1m0s\u001b[0m 5ms/step - loss: 7091.8203 - mse: 7091.8203 - val_loss: 13850.4570 - val_mse: 13850.4570\n",
            "Epoch 107/125\n",
            "\u001b[1m16/16\u001b[0m \u001b[32m━━━━━━━━━━━━━━━━━━━━\u001b[0m\u001b[37m\u001b[0m \u001b[1m0s\u001b[0m 7ms/step - loss: 7073.6011 - mse: 7073.6011 - val_loss: 13843.0645 - val_mse: 13843.0645\n",
            "Epoch 108/125\n",
            "\u001b[1m16/16\u001b[0m \u001b[32m━━━━━━━━━━━━━━━━━━━━\u001b[0m\u001b[37m\u001b[0m \u001b[1m0s\u001b[0m 5ms/step - loss: 7057.8213 - mse: 7057.8213 - val_loss: 13864.4355 - val_mse: 13864.4355\n",
            "Epoch 109/125\n",
            "\u001b[1m16/16\u001b[0m \u001b[32m━━━━━━━━━━━━━━━━━━━━\u001b[0m\u001b[37m\u001b[0m \u001b[1m0s\u001b[0m 7ms/step - loss: 7036.5986 - mse: 7036.5986 - val_loss: 13846.1230 - val_mse: 13846.1230\n",
            "Epoch 110/125\n",
            "\u001b[1m16/16\u001b[0m \u001b[32m━━━━━━━━━━━━━━━━━━━━\u001b[0m\u001b[37m\u001b[0m \u001b[1m0s\u001b[0m 6ms/step - loss: 7021.3330 - mse: 7021.3330 - val_loss: 13865.1797 - val_mse: 13865.1797\n",
            "Epoch 111/125\n",
            "\u001b[1m16/16\u001b[0m \u001b[32m━━━━━━━━━━━━━━━━━━━━\u001b[0m\u001b[37m\u001b[0m \u001b[1m0s\u001b[0m 8ms/step - loss: 7003.7778 - mse: 7003.7778 - val_loss: 13856.3369 - val_mse: 13856.3369\n",
            "Epoch 112/125\n",
            "\u001b[1m16/16\u001b[0m \u001b[32m━━━━━━━━━━━━━━━━━━━━\u001b[0m\u001b[37m\u001b[0m \u001b[1m0s\u001b[0m 6ms/step - loss: 6992.3789 - mse: 6992.3789 - val_loss: 13851.3477 - val_mse: 13851.3477\n",
            "Epoch 113/125\n",
            "\u001b[1m16/16\u001b[0m \u001b[32m━━━━━━━━━━━━━━━━━━━━\u001b[0m\u001b[37m\u001b[0m \u001b[1m0s\u001b[0m 7ms/step - loss: 6973.9653 - mse: 6973.9653 - val_loss: 13852.9600 - val_mse: 13852.9600\n",
            "Epoch 114/125\n",
            "\u001b[1m16/16\u001b[0m \u001b[32m━━━━━━━━━━━━━━━━━━━━\u001b[0m\u001b[37m\u001b[0m \u001b[1m0s\u001b[0m 8ms/step - loss: 6956.0581 - mse: 6956.0581 - val_loss: 13847.5352 - val_mse: 13847.5352\n",
            "Epoch 115/125\n",
            "\u001b[1m16/16\u001b[0m \u001b[32m━━━━━━━━━━━━━━━━━━━━\u001b[0m\u001b[37m\u001b[0m \u001b[1m0s\u001b[0m 5ms/step - loss: 6940.0796 - mse: 6940.0796 - val_loss: 13850.8818 - val_mse: 13850.8818\n",
            "Epoch 116/125\n",
            "\u001b[1m16/16\u001b[0m \u001b[32m━━━━━━━━━━━━━━━━━━━━\u001b[0m\u001b[37m\u001b[0m \u001b[1m0s\u001b[0m 4ms/step - loss: 6929.7202 - mse: 6929.7202 - val_loss: 13853.5166 - val_mse: 13853.5166\n",
            "Epoch 117/125\n",
            "\u001b[1m16/16\u001b[0m \u001b[32m━━━━━━━━━━━━━━━━━━━━\u001b[0m\u001b[37m\u001b[0m \u001b[1m0s\u001b[0m 4ms/step - loss: 6913.8730 - mse: 6913.8730 - val_loss: 13861.2100 - val_mse: 13861.2100\n",
            "Epoch 118/125\n",
            "\u001b[1m16/16\u001b[0m \u001b[32m━━━━━━━━━━━━━━━━━━━━\u001b[0m\u001b[37m\u001b[0m \u001b[1m0s\u001b[0m 4ms/step - loss: 6897.5396 - mse: 6897.5396 - val_loss: 13858.5488 - val_mse: 13858.5488\n",
            "Epoch 119/125\n",
            "\u001b[1m16/16\u001b[0m \u001b[32m━━━━━━━━━━━━━━━━━━━━\u001b[0m\u001b[37m\u001b[0m \u001b[1m0s\u001b[0m 4ms/step - loss: 6877.9810 - mse: 6877.9810 - val_loss: 13866.6553 - val_mse: 13866.6553\n",
            "Epoch 120/125\n",
            "\u001b[1m16/16\u001b[0m \u001b[32m━━━━━━━━━━━━━━━━━━━━\u001b[0m\u001b[37m\u001b[0m \u001b[1m0s\u001b[0m 5ms/step - loss: 6864.2324 - mse: 6864.2324 - val_loss: 13869.7803 - val_mse: 13869.7803\n",
            "Epoch 121/125\n",
            "\u001b[1m16/16\u001b[0m \u001b[32m━━━━━━━━━━━━━━━━━━━━\u001b[0m\u001b[37m\u001b[0m \u001b[1m0s\u001b[0m 5ms/step - loss: 6851.3799 - mse: 6851.3799 - val_loss: 13869.0527 - val_mse: 13869.0527\n",
            "Epoch 122/125\n",
            "\u001b[1m16/16\u001b[0m \u001b[32m━━━━━━━━━━━━━━━━━━━━\u001b[0m\u001b[37m\u001b[0m \u001b[1m0s\u001b[0m 5ms/step - loss: 6832.2876 - mse: 6832.2876 - val_loss: 13870.7510 - val_mse: 13870.7510\n",
            "Epoch 123/125\n",
            "\u001b[1m16/16\u001b[0m \u001b[32m━━━━━━━━━━━━━━━━━━━━\u001b[0m\u001b[37m\u001b[0m \u001b[1m0s\u001b[0m 5ms/step - loss: 6814.5493 - mse: 6814.5493 - val_loss: 13886.9365 - val_mse: 13886.9365\n",
            "Epoch 124/125\n",
            "\u001b[1m16/16\u001b[0m \u001b[32m━━━━━━━━━━━━━━━━━━━━\u001b[0m\u001b[37m\u001b[0m \u001b[1m0s\u001b[0m 4ms/step - loss: 6804.9180 - mse: 6804.9180 - val_loss: 13860.7275 - val_mse: 13860.7275\n",
            "Epoch 125/125\n",
            "\u001b[1m16/16\u001b[0m \u001b[32m━━━━━━━━━━━━━━━━━━━━\u001b[0m\u001b[37m\u001b[0m \u001b[1m0s\u001b[0m 4ms/step - loss: 6789.2827 - mse: 6789.2827 - val_loss: 13882.6309 - val_mse: 13882.6309\n"
          ]
        }
      ],
      "source": [
        "np.random.seed(11)\n",
        "tf.random.set_seed(11)\n",
        "\n",
        "# Hiper-parámetros de nuestra red\n",
        "lr = 0.001\n",
        "n_epochs = 125\n",
        "decay_rate = lr / n_epochs\n",
        "optimizer = Adam(learning_rate=lr, decay=decay_rate)\n",
        "\n",
        "# Implementamos la red empleando Keras\n",
        "tabular_model = Sequential()\n",
        "tabular_model.add(Dense(128, input_shape=(x_train2.shape[1],), activation=\"relu\"))\n",
        "model.add(Dropout(0.2))\n",
        "tabular_model.add(Dense(64, input_shape=(x_train2.shape[1],), activation=\"relu\"))\n",
        "model.add(Dropout(0.2))\n",
        "tabular_model.add(Dense(32, activation=\"relu\"))\n",
        "model.add(Dropout(0.2))\n",
        "tabular_model.add(Dense(16, activation=\"relu\"))\n",
        "tabular_model.add(Dense(8, activation=\"relu\"))\n",
        "tabular_model.add(Dense(1, activation=\"linear\"))\n",
        "\n",
        "\n",
        "# Compilamos y entrenamos el modelo SGD\n",
        "x_train = airbnb_data\n",
        "tabular_model.compile(loss=\"mean_squared_error\", optimizer=optimizer, metrics=[\"mse\"])\n",
        "H_tabular = tabular_model.fit(x_train2, y_train, validation_data=(x_val2, y_val), epochs=n_epochs, batch_size=batch_size)"
      ]
    },
    {
      "cell_type": "code",
      "execution_count": null,
      "metadata": {
        "colab": {
          "base_uri": "https://localhost:8080/"
        },
        "id": "8fNNCS_X2Kyl",
        "outputId": "522b182c-72fc-4b53-a0c2-31390927a21d"
      },
      "outputs": [
        {
          "name": "stdout",
          "output_type": "stream",
          "text": [
            "\u001b[1m5/5\u001b[0m \u001b[32m━━━━━━━━━━━━━━━━━━━━\u001b[0m\u001b[37m\u001b[0m \u001b[1m0s\u001b[0m 20ms/step\n",
            "Mean Squared Error: 10132.282078474387\n",
            "Mean Absolute Error: 68.13065834737593\n"
          ]
        }
      ],
      "source": [
        "from sklearn.metrics import mean_squared_error, mean_absolute_error\n",
        "\n",
        "predictions = tabular_model.predict(x_test2, batch_size=batch_size)\n",
        "\n",
        "# Evaluamos el modelo con métricas de regresión\n",
        "mse = mean_squared_error(y_test, predictions)\n",
        "print(f\"Mean Squared Error: {mse}\")\n",
        "print(f\"Mean Absolute Error: {mae}\")"
      ]
    },
    {
      "cell_type": "markdown",
      "metadata": {
        "id": "40opjeyycKwL"
      },
      "source": [
        "* Dibujamos el MSE durante el entrenamiento"
      ]
    },
    {
      "cell_type": "code",
      "execution_count": null,
      "metadata": {
        "colab": {
          "base_uri": "https://localhost:8080/",
          "height": 477
        },
        "id": "yPeWFxorB2tO",
        "outputId": "68d8cf41-8727-447a-f6c1-7002f249c4f3"
      },
      "outputs": [
        {
          "data": {
            "image/png": "[encoded data removed]",
            "text/plain": [
              "<Figure size 640x480 with 1 Axes>"
            ]
          },
          "metadata": {},
          "output_type": "display_data"
        }
      ],
      "source": [
        "plt.style.use(\"ggplot\")\n",
        "plt.figure()\n",
        "plt.plot(np.arange(0, n_epochs), H_tabular.history[\"mse\"], label=\"train_mse\")\n",
        "plt.plot(np.arange(0, n_epochs), H_tabular.history[\"val_mse\"], label=\"val_mse\")\n",
        "plt.title(\"Training and Validation MSE\")\n",
        "plt.xlabel(\"Epoch\")\n",
        "plt.ylabel(\"MSE\")\n",
        "plt.legend()\n",
        "plt.show()"
      ]
    },
    {
      "cell_type": "markdown",
      "source": [
        "Parece que la generalización del modelo ha mejorado, así como el MSE."
      ],
      "metadata": {
        "id": "FrZsJzS7cqRo"
      }
    },
    {
      "cell_type": "markdown",
      "metadata": {
        "id": "hsdW59GY4Mi3"
      },
      "source": [
        "## 3. MODELO DE DEEP LEARNING PARA DATOS 2D / IMÁGENES"
      ]
    },
    {
      "cell_type": "markdown",
      "metadata": {
        "id": "kgrM81QysuJs"
      },
      "source": [
        "* Normalización de los datos"
      ]
    },
    {
      "cell_type": "code",
      "execution_count": null,
      "metadata": {
        "id": "0_q__zXhr6fr"
      },
      "outputs": [],
      "source": [
        "imgs_train = imgs_train/255\n",
        "imgs_test = imgs_test/255\n",
        "imgs_val = imgs_val/255"
      ]
    },
    {
      "cell_type": "code",
      "execution_count": null,
      "metadata": {
        "id": "mkoMngfBscsL"
      },
      "outputs": [],
      "source": [
        "# Centramos los datos (le restamos la media)\n",
        "x_train_mean = np.mean(imgs_train, axis=0)\n",
        "x_train_cent = imgs_train - x_train_mean\n",
        "\n",
        "# Normalizamos\n",
        "x_train_std = np.std(imgs_train, axis=0)\n",
        "x_train_norm = x_train_cent / x_train_std"
      ]
    },
    {
      "cell_type": "code",
      "execution_count": null,
      "metadata": {
        "id": "cnFWwVW3s4KS"
      },
      "outputs": [],
      "source": [
        "x_test_norm = (imgs_test - x_train_mean) / x_train_std\n",
        "x_val_norm =  (imgs_val - x_train_mean) / x_train_std"
      ]
    },
    {
      "cell_type": "markdown",
      "metadata": {
        "id": "4R4xPdNh51Y7"
      },
      "source": [
        "## 3.1. CNN pre-entrenado: VGG16"
      ]
    },
    {
      "cell_type": "markdown",
      "metadata": {
        "id": "ITGjpYSUw16o"
      },
      "source": [
        "* En primer lugar, redimensionamos los datos para el modelo VGG16"
      ]
    },
    {
      "cell_type": "code",
      "execution_count": null,
      "metadata": {
        "colab": {
          "base_uri": "https://localhost:8080/"
        },
        "id": "BVp6rEEK5yq6",
        "outputId": "78cb3964-10f6-4ae2-8507-ccafe8941428"
      },
      "outputs": [
        {
          "name": "stdout",
          "output_type": "stream",
          "text": [
            "(1980, 48, 48, 3)\n",
            "(496, 48, 48, 3)\n",
            "(620, 48, 48, 3)\n"
          ]
        }
      ],
      "source": [
        "from tensorflow.keras import callbacks\n",
        "from tensorflow.keras import optimizers, Model\n",
        "from tensorflow.keras.layers import Dropout, Flatten, Dense\n",
        "from tensorflow.keras.optimizers import Adam\n",
        "from tensorflow.keras.applications import VGG16\n",
        "from tensorflow.keras.datasets import cifar10\n",
        "from tensorflow.keras.utils import to_categorical\n",
        "import numpy as np\n",
        "\n",
        "# Redimensionamos a las dimensiones mínimas permitidas por la VGG16\n",
        "\n",
        "input_shape = (48, 48, 3)\n",
        "\n",
        "# resize train set\n",
        "X_train_resized = []\n",
        "for img in x_train_norm:\n",
        "  X_train_resized.append(np.resize(img, input_shape))\n",
        "\n",
        "X_train_resized = np.array(X_train_resized)\n",
        "print(X_train_resized.shape)\n",
        "\n",
        "# resize val set\n",
        "X_val_resized = []\n",
        "for img in x_val_norm:\n",
        "  X_val_resized.append(np.resize(img, input_shape))\n",
        "\n",
        "X_val_resized = np.array(X_val_resized)\n",
        "print(X_val_resized.shape)\n",
        "\n",
        "# resize test set\n",
        "X_test_resized = []\n",
        "for img in x_test_norm:\n",
        "  X_test_resized.append(np.resize(img, input_shape))\n",
        "\n",
        "X_test_resized = np.array(X_test_resized)\n",
        "print(X_test_resized.shape)"
      ]
    },
    {
      "cell_type": "markdown",
      "metadata": {
        "id": "laoxKb1vwsfQ"
      },
      "source": [
        "* Construimos el modelo base"
      ]
    },
    {
      "cell_type": "code",
      "execution_count": null,
      "metadata": {
        "colab": {
          "base_uri": "https://localhost:8080/",
          "height": 782
        },
        "id": "GxmemEkA6_4Q",
        "outputId": "b66b6fe5-eda6-49a2-ce98-62424718ca7e"
      },
      "outputs": [
        {
          "data": {
            "text/html": [
              "<pre style=\"white-space:pre;overflow-x:auto;line-height:normal;font-family:Menlo,'DejaVu Sans Mono',consolas,'Courier New',monospace\"><span style=\"font-weight: bold\">Model: \"vgg16\"</span>\n",
              "</pre>\n"
            ],
            "text/plain": [
              "\u001b[1mModel: \"vgg16\"\u001b[0m\n"
            ]
          },
          "metadata": {},
          "output_type": "display_data"
        },
        {
          "data": {
            "text/html": [
              "<pre style=\"white-space:pre;overflow-x:auto;line-height:normal;font-family:Menlo,'DejaVu Sans Mono',consolas,'Courier New',monospace\">┏━━━━━━━━━━━━━━━━━━━━━━━━━━━━━━━━━━━━━━┳━━━━━━━━━━━━━━━━━━━━━━━━━━━━━┳━━━━━━━━━━━━━━━━━┓\n",
              "┃<span style=\"font-weight: bold\"> Layer (type)                         </span>┃<span style=\"font-weight: bold\"> Output Shape                </span>┃<span style=\"font-weight: bold\">         Param # </span>┃\n",
              "┡━━━━━━━━━━━━━━━━━━━━━━━━━━━━━━━━━━━━━━╇━━━━━━━━━━━━━━━━━━━━━━━━━━━━━╇━━━━━━━━━━━━━━━━━┩\n",
              "│ input_layer_2 (<span style=\"color: #0087ff; text-decoration-color: #0087ff\">InputLayer</span>)           │ (<span style=\"color: #00d7ff; text-decoration-color: #00d7ff\">None</span>, <span style=\"color: #00af00; text-decoration-color: #00af00\">48</span>, <span style=\"color: #00af00; text-decoration-color: #00af00\">48</span>, <span style=\"color: #00af00; text-decoration-color: #00af00\">3</span>)           │               <span style=\"color: #00af00; text-decoration-color: #00af00\">0</span> │\n",
              "├──────────────────────────────────────┼─────────────────────────────┼─────────────────┤\n",
              "│ block1_conv1 (<span style=\"color: #0087ff; text-decoration-color: #0087ff\">Conv2D</span>)                │ (<span style=\"color: #00d7ff; text-decoration-color: #00d7ff\">None</span>, <span style=\"color: #00af00; text-decoration-color: #00af00\">48</span>, <span style=\"color: #00af00; text-decoration-color: #00af00\">48</span>, <span style=\"color: #00af00; text-decoration-color: #00af00\">64</span>)          │           <span style=\"color: #00af00; text-decoration-color: #00af00\">1,792</span> │\n",
              "├──────────────────────────────────────┼─────────────────────────────┼─────────────────┤\n",
              "│ block1_conv2 (<span style=\"color: #0087ff; text-decoration-color: #0087ff\">Conv2D</span>)                │ (<span style=\"color: #00d7ff; text-decoration-color: #00d7ff\">None</span>, <span style=\"color: #00af00; text-decoration-color: #00af00\">48</span>, <span style=\"color: #00af00; text-decoration-color: #00af00\">48</span>, <span style=\"color: #00af00; text-decoration-color: #00af00\">64</span>)          │          <span style=\"color: #00af00; text-decoration-color: #00af00\">36,928</span> │\n",
              "├──────────────────────────────────────┼─────────────────────────────┼─────────────────┤\n",
              "│ block1_pool (<span style=\"color: #0087ff; text-decoration-color: #0087ff\">MaxPooling2D</span>)           │ (<span style=\"color: #00d7ff; text-decoration-color: #00d7ff\">None</span>, <span style=\"color: #00af00; text-decoration-color: #00af00\">24</span>, <span style=\"color: #00af00; text-decoration-color: #00af00\">24</span>, <span style=\"color: #00af00; text-decoration-color: #00af00\">64</span>)          │               <span style=\"color: #00af00; text-decoration-color: #00af00\">0</span> │\n",
              "├──────────────────────────────────────┼─────────────────────────────┼─────────────────┤\n",
              "│ block2_conv1 (<span style=\"color: #0087ff; text-decoration-color: #0087ff\">Conv2D</span>)                │ (<span style=\"color: #00d7ff; text-decoration-color: #00d7ff\">None</span>, <span style=\"color: #00af00; text-decoration-color: #00af00\">24</span>, <span style=\"color: #00af00; text-decoration-color: #00af00\">24</span>, <span style=\"color: #00af00; text-decoration-color: #00af00\">128</span>)         │          <span style=\"color: #00af00; text-decoration-color: #00af00\">73,856</span> │\n",
              "├──────────────────────────────────────┼─────────────────────────────┼─────────────────┤\n",
              "│ block2_conv2 (<span style=\"color: #0087ff; text-decoration-color: #0087ff\">Conv2D</span>)                │ (<span style=\"color: #00d7ff; text-decoration-color: #00d7ff\">None</span>, <span style=\"color: #00af00; text-decoration-color: #00af00\">24</span>, <span style=\"color: #00af00; text-decoration-color: #00af00\">24</span>, <span style=\"color: #00af00; text-decoration-color: #00af00\">128</span>)         │         <span style=\"color: #00af00; text-decoration-color: #00af00\">147,584</span> │\n",
              "├──────────────────────────────────────┼─────────────────────────────┼─────────────────┤\n",
              "│ block2_pool (<span style=\"color: #0087ff; text-decoration-color: #0087ff\">MaxPooling2D</span>)           │ (<span style=\"color: #00d7ff; text-decoration-color: #00d7ff\">None</span>, <span style=\"color: #00af00; text-decoration-color: #00af00\">12</span>, <span style=\"color: #00af00; text-decoration-color: #00af00\">12</span>, <span style=\"color: #00af00; text-decoration-color: #00af00\">128</span>)         │               <span style=\"color: #00af00; text-decoration-color: #00af00\">0</span> │\n",
              "├──────────────────────────────────────┼─────────────────────────────┼─────────────────┤\n",
              "│ block3_conv1 (<span style=\"color: #0087ff; text-decoration-color: #0087ff\">Conv2D</span>)                │ (<span style=\"color: #00d7ff; text-decoration-color: #00d7ff\">None</span>, <span style=\"color: #00af00; text-decoration-color: #00af00\">12</span>, <span style=\"color: #00af00; text-decoration-color: #00af00\">12</span>, <span style=\"color: #00af00; text-decoration-color: #00af00\">256</span>)         │         <span style=\"color: #00af00; text-decoration-color: #00af00\">295,168</span> │\n",
              "├──────────────────────────────────────┼─────────────────────────────┼─────────────────┤\n",
              "│ block3_conv2 (<span style=\"color: #0087ff; text-decoration-color: #0087ff\">Conv2D</span>)                │ (<span style=\"color: #00d7ff; text-decoration-color: #00d7ff\">None</span>, <span style=\"color: #00af00; text-decoration-color: #00af00\">12</span>, <span style=\"color: #00af00; text-decoration-color: #00af00\">12</span>, <span style=\"color: #00af00; text-decoration-color: #00af00\">256</span>)         │         <span style=\"color: #00af00; text-decoration-color: #00af00\">590,080</span> │\n",
              "├──────────────────────────────────────┼─────────────────────────────┼─────────────────┤\n",
              "│ block3_conv3 (<span style=\"color: #0087ff; text-decoration-color: #0087ff\">Conv2D</span>)                │ (<span style=\"color: #00d7ff; text-decoration-color: #00d7ff\">None</span>, <span style=\"color: #00af00; text-decoration-color: #00af00\">12</span>, <span style=\"color: #00af00; text-decoration-color: #00af00\">12</span>, <span style=\"color: #00af00; text-decoration-color: #00af00\">256</span>)         │         <span style=\"color: #00af00; text-decoration-color: #00af00\">590,080</span> │\n",
              "├──────────────────────────────────────┼─────────────────────────────┼─────────────────┤\n",
              "│ block3_pool (<span style=\"color: #0087ff; text-decoration-color: #0087ff\">MaxPooling2D</span>)           │ (<span style=\"color: #00d7ff; text-decoration-color: #00d7ff\">None</span>, <span style=\"color: #00af00; text-decoration-color: #00af00\">6</span>, <span style=\"color: #00af00; text-decoration-color: #00af00\">6</span>, <span style=\"color: #00af00; text-decoration-color: #00af00\">256</span>)           │               <span style=\"color: #00af00; text-decoration-color: #00af00\">0</span> │\n",
              "├──────────────────────────────────────┼─────────────────────────────┼─────────────────┤\n",
              "│ block4_conv1 (<span style=\"color: #0087ff; text-decoration-color: #0087ff\">Conv2D</span>)                │ (<span style=\"color: #00d7ff; text-decoration-color: #00d7ff\">None</span>, <span style=\"color: #00af00; text-decoration-color: #00af00\">6</span>, <span style=\"color: #00af00; text-decoration-color: #00af00\">6</span>, <span style=\"color: #00af00; text-decoration-color: #00af00\">512</span>)           │       <span style=\"color: #00af00; text-decoration-color: #00af00\">1,180,160</span> │\n",
              "├──────────────────────────────────────┼─────────────────────────────┼─────────────────┤\n",
              "│ block4_conv2 (<span style=\"color: #0087ff; text-decoration-color: #0087ff\">Conv2D</span>)                │ (<span style=\"color: #00d7ff; text-decoration-color: #00d7ff\">None</span>, <span style=\"color: #00af00; text-decoration-color: #00af00\">6</span>, <span style=\"color: #00af00; text-decoration-color: #00af00\">6</span>, <span style=\"color: #00af00; text-decoration-color: #00af00\">512</span>)           │       <span style=\"color: #00af00; text-decoration-color: #00af00\">2,359,808</span> │\n",
              "├──────────────────────────────────────┼─────────────────────────────┼─────────────────┤\n",
              "│ block4_conv3 (<span style=\"color: #0087ff; text-decoration-color: #0087ff\">Conv2D</span>)                │ (<span style=\"color: #00d7ff; text-decoration-color: #00d7ff\">None</span>, <span style=\"color: #00af00; text-decoration-color: #00af00\">6</span>, <span style=\"color: #00af00; text-decoration-color: #00af00\">6</span>, <span style=\"color: #00af00; text-decoration-color: #00af00\">512</span>)           │       <span style=\"color: #00af00; text-decoration-color: #00af00\">2,359,808</span> │\n",
              "├──────────────────────────────────────┼─────────────────────────────┼─────────────────┤\n",
              "│ block4_pool (<span style=\"color: #0087ff; text-decoration-color: #0087ff\">MaxPooling2D</span>)           │ (<span style=\"color: #00d7ff; text-decoration-color: #00d7ff\">None</span>, <span style=\"color: #00af00; text-decoration-color: #00af00\">3</span>, <span style=\"color: #00af00; text-decoration-color: #00af00\">3</span>, <span style=\"color: #00af00; text-decoration-color: #00af00\">512</span>)           │               <span style=\"color: #00af00; text-decoration-color: #00af00\">0</span> │\n",
              "├──────────────────────────────────────┼─────────────────────────────┼─────────────────┤\n",
              "│ block5_conv1 (<span style=\"color: #0087ff; text-decoration-color: #0087ff\">Conv2D</span>)                │ (<span style=\"color: #00d7ff; text-decoration-color: #00d7ff\">None</span>, <span style=\"color: #00af00; text-decoration-color: #00af00\">3</span>, <span style=\"color: #00af00; text-decoration-color: #00af00\">3</span>, <span style=\"color: #00af00; text-decoration-color: #00af00\">512</span>)           │       <span style=\"color: #00af00; text-decoration-color: #00af00\">2,359,808</span> │\n",
              "├──────────────────────────────────────┼─────────────────────────────┼─────────────────┤\n",
              "│ block5_conv2 (<span style=\"color: #0087ff; text-decoration-color: #0087ff\">Conv2D</span>)                │ (<span style=\"color: #00d7ff; text-decoration-color: #00d7ff\">None</span>, <span style=\"color: #00af00; text-decoration-color: #00af00\">3</span>, <span style=\"color: #00af00; text-decoration-color: #00af00\">3</span>, <span style=\"color: #00af00; text-decoration-color: #00af00\">512</span>)           │       <span style=\"color: #00af00; text-decoration-color: #00af00\">2,359,808</span> │\n",
              "├──────────────────────────────────────┼─────────────────────────────┼─────────────────┤\n",
              "│ block5_conv3 (<span style=\"color: #0087ff; text-decoration-color: #0087ff\">Conv2D</span>)                │ (<span style=\"color: #00d7ff; text-decoration-color: #00d7ff\">None</span>, <span style=\"color: #00af00; text-decoration-color: #00af00\">3</span>, <span style=\"color: #00af00; text-decoration-color: #00af00\">3</span>, <span style=\"color: #00af00; text-decoration-color: #00af00\">512</span>)           │       <span style=\"color: #00af00; text-decoration-color: #00af00\">2,359,808</span> │\n",
              "├──────────────────────────────────────┼─────────────────────────────┼─────────────────┤\n",
              "│ block5_pool (<span style=\"color: #0087ff; text-decoration-color: #0087ff\">MaxPooling2D</span>)           │ (<span style=\"color: #00d7ff; text-decoration-color: #00d7ff\">None</span>, <span style=\"color: #00af00; text-decoration-color: #00af00\">1</span>, <span style=\"color: #00af00; text-decoration-color: #00af00\">1</span>, <span style=\"color: #00af00; text-decoration-color: #00af00\">512</span>)           │               <span style=\"color: #00af00; text-decoration-color: #00af00\">0</span> │\n",
              "└──────────────────────────────────────┴─────────────────────────────┴─────────────────┘\n",
              "</pre>\n"
            ],
            "text/plain": [
              "┏━━━━━━━━━━━━━━━━━━━━━━━━━━━━━━━━━━━━━━┳━━━━━━━━━━━━━━━━━━━━━━━━━━━━━┳━━━━━━━━━━━━━━━━━┓\n",
              "┃\u001b[1m \u001b[0m\u001b[1mLayer (type)                        \u001b[0m\u001b[1m \u001b[0m┃\u001b[1m \u001b[0m\u001b[1mOutput Shape               \u001b[0m\u001b[1m \u001b[0m┃\u001b[1m \u001b[0m\u001b[1m        Param #\u001b[0m\u001b[1m \u001b[0m┃\n",
              "┡━━━━━━━━━━━━━━━━━━━━━━━━━━━━━━━━━━━━━━╇━━━━━━━━━━━━━━━━━━━━━━━━━━━━━╇━━━━━━━━━━━━━━━━━┩\n",
              "│ input_layer_2 (\u001b[38;5;33mInputLayer\u001b[0m)           │ (\u001b[38;5;45mNone\u001b[0m, \u001b[38;5;34m48\u001b[0m, \u001b[38;5;34m48\u001b[0m, \u001b[38;5;34m3\u001b[0m)           │               \u001b[38;5;34m0\u001b[0m │\n",
              "├──────────────────────────────────────┼─────────────────────────────┼─────────────────┤\n",
              "│ block1_conv1 (\u001b[38;5;33mConv2D\u001b[0m)                │ (\u001b[38;5;45mNone\u001b[0m, \u001b[38;5;34m48\u001b[0m, \u001b[38;5;34m48\u001b[0m, \u001b[38;5;34m64\u001b[0m)          │           \u001b[38;5;34m1,792\u001b[0m │\n",
              "├──────────────────────────────────────┼─────────────────────────────┼─────────────────┤\n",
              "│ block1_conv2 (\u001b[38;5;33mConv2D\u001b[0m)                │ (\u001b[38;5;45mNone\u001b[0m, \u001b[38;5;34m48\u001b[0m, \u001b[38;5;34m48\u001b[0m, \u001b[38;5;34m64\u001b[0m)          │          \u001b[38;5;34m36,928\u001b[0m │\n",
              "├──────────────────────────────────────┼─────────────────────────────┼─────────────────┤\n",
              "│ block1_pool (\u001b[38;5;33mMaxPooling2D\u001b[0m)           │ (\u001b[38;5;45mNone\u001b[0m, \u001b[38;5;34m24\u001b[0m, \u001b[38;5;34m24\u001b[0m, \u001b[38;5;34m64\u001b[0m)          │               \u001b[38;5;34m0\u001b[0m │\n",
              "├──────────────────────────────────────┼─────────────────────────────┼─────────────────┤\n",
              "│ block2_conv1 (\u001b[38;5;33mConv2D\u001b[0m)                │ (\u001b[38;5;45mNone\u001b[0m, \u001b[38;5;34m24\u001b[0m, \u001b[38;5;34m24\u001b[0m, \u001b[38;5;34m128\u001b[0m)         │          \u001b[38;5;34m73,856\u001b[0m │\n",
              "├──────────────────────────────────────┼─────────────────────────────┼─────────────────┤\n",
              "│ block2_conv2 (\u001b[38;5;33mConv2D\u001b[0m)                │ (\u001b[38;5;45mNone\u001b[0m, \u001b[38;5;34m24\u001b[0m, \u001b[38;5;34m24\u001b[0m, \u001b[38;5;34m128\u001b[0m)         │         \u001b[38;5;34m147,584\u001b[0m │\n",
              "├──────────────────────────────────────┼─────────────────────────────┼─────────────────┤\n",
              "│ block2_pool (\u001b[38;5;33mMaxPooling2D\u001b[0m)           │ (\u001b[38;5;45mNone\u001b[0m, \u001b[38;5;34m12\u001b[0m, \u001b[38;5;34m12\u001b[0m, \u001b[38;5;34m128\u001b[0m)         │               \u001b[38;5;34m0\u001b[0m │\n",
              "├──────────────────────────────────────┼─────────────────────────────┼─────────────────┤\n",
              "│ block3_conv1 (\u001b[38;5;33mConv2D\u001b[0m)                │ (\u001b[38;5;45mNone\u001b[0m, \u001b[38;5;34m12\u001b[0m, \u001b[38;5;34m12\u001b[0m, \u001b[38;5;34m256\u001b[0m)         │         \u001b[38;5;34m295,168\u001b[0m │\n",
              "├──────────────────────────────────────┼─────────────────────────────┼─────────────────┤\n",
              "│ block3_conv2 (\u001b[38;5;33mConv2D\u001b[0m)                │ (\u001b[38;5;45mNone\u001b[0m, \u001b[38;5;34m12\u001b[0m, \u001b[38;5;34m12\u001b[0m, \u001b[38;5;34m256\u001b[0m)         │         \u001b[38;5;34m590,080\u001b[0m │\n",
              "├──────────────────────────────────────┼─────────────────────────────┼─────────────────┤\n",
              "│ block3_conv3 (\u001b[38;5;33mConv2D\u001b[0m)                │ (\u001b[38;5;45mNone\u001b[0m, \u001b[38;5;34m12\u001b[0m, \u001b[38;5;34m12\u001b[0m, \u001b[38;5;34m256\u001b[0m)         │         \u001b[38;5;34m590,080\u001b[0m │\n",
              "├──────────────────────────────────────┼─────────────────────────────┼─────────────────┤\n",
              "│ block3_pool (\u001b[38;5;33mMaxPooling2D\u001b[0m)           │ (\u001b[38;5;45mNone\u001b[0m, \u001b[38;5;34m6\u001b[0m, \u001b[38;5;34m6\u001b[0m, \u001b[38;5;34m256\u001b[0m)           │               \u001b[38;5;34m0\u001b[0m │\n",
              "├──────────────────────────────────────┼─────────────────────────────┼─────────────────┤\n",
              "│ block4_conv1 (\u001b[38;5;33mConv2D\u001b[0m)                │ (\u001b[38;5;45mNone\u001b[0m, \u001b[38;5;34m6\u001b[0m, \u001b[38;5;34m6\u001b[0m, \u001b[38;5;34m512\u001b[0m)           │       \u001b[38;5;34m1,180,160\u001b[0m │\n",
              "├──────────────────────────────────────┼─────────────────────────────┼─────────────────┤\n",
              "│ block4_conv2 (\u001b[38;5;33mConv2D\u001b[0m)                │ (\u001b[38;5;45mNone\u001b[0m, \u001b[38;5;34m6\u001b[0m, \u001b[38;5;34m6\u001b[0m, \u001b[38;5;34m512\u001b[0m)           │       \u001b[38;5;34m2,359,808\u001b[0m │\n",
              "├──────────────────────────────────────┼─────────────────────────────┼─────────────────┤\n",
              "│ block4_conv3 (\u001b[38;5;33mConv2D\u001b[0m)                │ (\u001b[38;5;45mNone\u001b[0m, \u001b[38;5;34m6\u001b[0m, \u001b[38;5;34m6\u001b[0m, \u001b[38;5;34m512\u001b[0m)           │       \u001b[38;5;34m2,359,808\u001b[0m │\n",
              "├──────────────────────────────────────┼─────────────────────────────┼─────────────────┤\n",
              "│ block4_pool (\u001b[38;5;33mMaxPooling2D\u001b[0m)           │ (\u001b[38;5;45mNone\u001b[0m, \u001b[38;5;34m3\u001b[0m, \u001b[38;5;34m3\u001b[0m, \u001b[38;5;34m512\u001b[0m)           │               \u001b[38;5;34m0\u001b[0m │\n",
              "├──────────────────────────────────────┼─────────────────────────────┼─────────────────┤\n",
              "│ block5_conv1 (\u001b[38;5;33mConv2D\u001b[0m)                │ (\u001b[38;5;45mNone\u001b[0m, \u001b[38;5;34m3\u001b[0m, \u001b[38;5;34m3\u001b[0m, \u001b[38;5;34m512\u001b[0m)           │       \u001b[38;5;34m2,359,808\u001b[0m │\n",
              "├──────────────────────────────────────┼─────────────────────────────┼─────────────────┤\n",
              "│ block5_conv2 (\u001b[38;5;33mConv2D\u001b[0m)                │ (\u001b[38;5;45mNone\u001b[0m, \u001b[38;5;34m3\u001b[0m, \u001b[38;5;34m3\u001b[0m, \u001b[38;5;34m512\u001b[0m)           │       \u001b[38;5;34m2,359,808\u001b[0m │\n",
              "├──────────────────────────────────────┼─────────────────────────────┼─────────────────┤\n",
              "│ block5_conv3 (\u001b[38;5;33mConv2D\u001b[0m)                │ (\u001b[38;5;45mNone\u001b[0m, \u001b[38;5;34m3\u001b[0m, \u001b[38;5;34m3\u001b[0m, \u001b[38;5;34m512\u001b[0m)           │       \u001b[38;5;34m2,359,808\u001b[0m │\n",
              "├──────────────────────────────────────┼─────────────────────────────┼─────────────────┤\n",
              "│ block5_pool (\u001b[38;5;33mMaxPooling2D\u001b[0m)           │ (\u001b[38;5;45mNone\u001b[0m, \u001b[38;5;34m1\u001b[0m, \u001b[38;5;34m1\u001b[0m, \u001b[38;5;34m512\u001b[0m)           │               \u001b[38;5;34m0\u001b[0m │\n",
              "└──────────────────────────────────────┴─────────────────────────────┴─────────────────┘\n"
            ]
          },
          "metadata": {},
          "output_type": "display_data"
        },
        {
          "data": {
            "text/html": [
              "<pre style=\"white-space:pre;overflow-x:auto;line-height:normal;font-family:Menlo,'DejaVu Sans Mono',consolas,'Courier New',monospace\"><span style=\"font-weight: bold\"> Total params: </span><span style=\"color: #00af00; text-decoration-color: #00af00\">14,714,688</span> (56.13 MB)\n",
              "</pre>\n"
            ],
            "text/plain": [
              "\u001b[1m Total params: \u001b[0m\u001b[38;5;34m14,714,688\u001b[0m (56.13 MB)\n"
            ]
          },
          "metadata": {},
          "output_type": "display_data"
        },
        {
          "data": {
            "text/html": [
              "<pre style=\"white-space:pre;overflow-x:auto;line-height:normal;font-family:Menlo,'DejaVu Sans Mono',consolas,'Courier New',monospace\"><span style=\"font-weight: bold\"> Trainable params: </span><span style=\"color: #00af00; text-decoration-color: #00af00\">14,714,688</span> (56.13 MB)\n",
              "</pre>\n"
            ],
            "text/plain": [
              "\u001b[1m Trainable params: \u001b[0m\u001b[38;5;34m14,714,688\u001b[0m (56.13 MB)\n"
            ]
          },
          "metadata": {},
          "output_type": "display_data"
        },
        {
          "data": {
            "text/html": [
              "<pre style=\"white-space:pre;overflow-x:auto;line-height:normal;font-family:Menlo,'DejaVu Sans Mono',consolas,'Courier New',monospace\"><span style=\"font-weight: bold\"> Non-trainable params: </span><span style=\"color: #00af00; text-decoration-color: #00af00\">0</span> (0.00 B)\n",
              "</pre>\n"
            ],
            "text/plain": [
              "\u001b[1m Non-trainable params: \u001b[0m\u001b[38;5;34m0\u001b[0m (0.00 B)\n"
            ]
          },
          "metadata": {},
          "output_type": "display_data"
        }
      ],
      "source": [
        "base_model = VGG16(weights=\"imagenet\", include_top=False, input_shape=input_shape)\n",
        "base_model.summary()"
      ]
    },
    {
      "cell_type": "markdown",
      "metadata": {
        "id": "5x90v-RHvpTI"
      },
      "source": [
        "## 3.2. TRANSFER LEARNING"
      ]
    },
    {
      "cell_type": "markdown",
      "metadata": {
        "id": "Y1d6toTLxM1n"
      },
      "source": [
        "* Congelamos todas las capas de nuestro modelo base para que no se entrenen y añadimos un Dropout y una capa de regresión"
      ]
    },
    {
      "cell_type": "code",
      "execution_count": null,
      "metadata": {
        "colab": {
          "base_uri": "https://localhost:8080/",
          "height": 918
        },
        "id": "f_hX4gSW7c6G",
        "outputId": "af287ea3-906f-4cd8-f0fd-202c49200e6d"
      },
      "outputs": [
        {
          "data": {
            "text/html": [
              "<pre style=\"white-space:pre;overflow-x:auto;line-height:normal;font-family:Menlo,'DejaVu Sans Mono',consolas,'Courier New',monospace\"><span style=\"font-weight: bold\">Model: \"functional_14\"</span>\n",
              "</pre>\n"
            ],
            "text/plain": [
              "\u001b[1mModel: \"functional_14\"\u001b[0m\n"
            ]
          },
          "metadata": {},
          "output_type": "display_data"
        },
        {
          "data": {
            "text/html": [
              "<pre style=\"white-space:pre;overflow-x:auto;line-height:normal;font-family:Menlo,'DejaVu Sans Mono',consolas,'Courier New',monospace\">┏━━━━━━━━━━━━━━━━━━━━━━━━━━━━━━━━━━━━━━┳━━━━━━━━━━━━━━━━━━━━━━━━━━━━━┳━━━━━━━━━━━━━━━━━┓\n",
              "┃<span style=\"font-weight: bold\"> Layer (type)                         </span>┃<span style=\"font-weight: bold\"> Output Shape                </span>┃<span style=\"font-weight: bold\">         Param # </span>┃\n",
              "┡━━━━━━━━━━━━━━━━━━━━━━━━━━━━━━━━━━━━━━╇━━━━━━━━━━━━━━━━━━━━━━━━━━━━━╇━━━━━━━━━━━━━━━━━┩\n",
              "│ input_layer_2 (<span style=\"color: #0087ff; text-decoration-color: #0087ff\">InputLayer</span>)           │ (<span style=\"color: #00d7ff; text-decoration-color: #00d7ff\">None</span>, <span style=\"color: #00af00; text-decoration-color: #00af00\">48</span>, <span style=\"color: #00af00; text-decoration-color: #00af00\">48</span>, <span style=\"color: #00af00; text-decoration-color: #00af00\">3</span>)           │               <span style=\"color: #00af00; text-decoration-color: #00af00\">0</span> │\n",
              "├──────────────────────────────────────┼─────────────────────────────┼─────────────────┤\n",
              "│ block1_conv1 (<span style=\"color: #0087ff; text-decoration-color: #0087ff\">Conv2D</span>)                │ (<span style=\"color: #00d7ff; text-decoration-color: #00d7ff\">None</span>, <span style=\"color: #00af00; text-decoration-color: #00af00\">48</span>, <span style=\"color: #00af00; text-decoration-color: #00af00\">48</span>, <span style=\"color: #00af00; text-decoration-color: #00af00\">64</span>)          │           <span style=\"color: #00af00; text-decoration-color: #00af00\">1,792</span> │\n",
              "├──────────────────────────────────────┼─────────────────────────────┼─────────────────┤\n",
              "│ block1_conv2 (<span style=\"color: #0087ff; text-decoration-color: #0087ff\">Conv2D</span>)                │ (<span style=\"color: #00d7ff; text-decoration-color: #00d7ff\">None</span>, <span style=\"color: #00af00; text-decoration-color: #00af00\">48</span>, <span style=\"color: #00af00; text-decoration-color: #00af00\">48</span>, <span style=\"color: #00af00; text-decoration-color: #00af00\">64</span>)          │          <span style=\"color: #00af00; text-decoration-color: #00af00\">36,928</span> │\n",
              "├──────────────────────────────────────┼─────────────────────────────┼─────────────────┤\n",
              "│ block1_pool (<span style=\"color: #0087ff; text-decoration-color: #0087ff\">MaxPooling2D</span>)           │ (<span style=\"color: #00d7ff; text-decoration-color: #00d7ff\">None</span>, <span style=\"color: #00af00; text-decoration-color: #00af00\">24</span>, <span style=\"color: #00af00; text-decoration-color: #00af00\">24</span>, <span style=\"color: #00af00; text-decoration-color: #00af00\">64</span>)          │               <span style=\"color: #00af00; text-decoration-color: #00af00\">0</span> │\n",
              "├──────────────────────────────────────┼─────────────────────────────┼─────────────────┤\n",
              "│ block2_conv1 (<span style=\"color: #0087ff; text-decoration-color: #0087ff\">Conv2D</span>)                │ (<span style=\"color: #00d7ff; text-decoration-color: #00d7ff\">None</span>, <span style=\"color: #00af00; text-decoration-color: #00af00\">24</span>, <span style=\"color: #00af00; text-decoration-color: #00af00\">24</span>, <span style=\"color: #00af00; text-decoration-color: #00af00\">128</span>)         │          <span style=\"color: #00af00; text-decoration-color: #00af00\">73,856</span> │\n",
              "├──────────────────────────────────────┼─────────────────────────────┼─────────────────┤\n",
              "│ block2_conv2 (<span style=\"color: #0087ff; text-decoration-color: #0087ff\">Conv2D</span>)                │ (<span style=\"color: #00d7ff; text-decoration-color: #00d7ff\">None</span>, <span style=\"color: #00af00; text-decoration-color: #00af00\">24</span>, <span style=\"color: #00af00; text-decoration-color: #00af00\">24</span>, <span style=\"color: #00af00; text-decoration-color: #00af00\">128</span>)         │         <span style=\"color: #00af00; text-decoration-color: #00af00\">147,584</span> │\n",
              "├──────────────────────────────────────┼─────────────────────────────┼─────────────────┤\n",
              "│ block2_pool (<span style=\"color: #0087ff; text-decoration-color: #0087ff\">MaxPooling2D</span>)           │ (<span style=\"color: #00d7ff; text-decoration-color: #00d7ff\">None</span>, <span style=\"color: #00af00; text-decoration-color: #00af00\">12</span>, <span style=\"color: #00af00; text-decoration-color: #00af00\">12</span>, <span style=\"color: #00af00; text-decoration-color: #00af00\">128</span>)         │               <span style=\"color: #00af00; text-decoration-color: #00af00\">0</span> │\n",
              "├──────────────────────────────────────┼─────────────────────────────┼─────────────────┤\n",
              "│ block3_conv1 (<span style=\"color: #0087ff; text-decoration-color: #0087ff\">Conv2D</span>)                │ (<span style=\"color: #00d7ff; text-decoration-color: #00d7ff\">None</span>, <span style=\"color: #00af00; text-decoration-color: #00af00\">12</span>, <span style=\"color: #00af00; text-decoration-color: #00af00\">12</span>, <span style=\"color: #00af00; text-decoration-color: #00af00\">256</span>)         │         <span style=\"color: #00af00; text-decoration-color: #00af00\">295,168</span> │\n",
              "├──────────────────────────────────────┼─────────────────────────────┼─────────────────┤\n",
              "│ block3_conv2 (<span style=\"color: #0087ff; text-decoration-color: #0087ff\">Conv2D</span>)                │ (<span style=\"color: #00d7ff; text-decoration-color: #00d7ff\">None</span>, <span style=\"color: #00af00; text-decoration-color: #00af00\">12</span>, <span style=\"color: #00af00; text-decoration-color: #00af00\">12</span>, <span style=\"color: #00af00; text-decoration-color: #00af00\">256</span>)         │         <span style=\"color: #00af00; text-decoration-color: #00af00\">590,080</span> │\n",
              "├──────────────────────────────────────┼─────────────────────────────┼─────────────────┤\n",
              "│ block3_conv3 (<span style=\"color: #0087ff; text-decoration-color: #0087ff\">Conv2D</span>)                │ (<span style=\"color: #00d7ff; text-decoration-color: #00d7ff\">None</span>, <span style=\"color: #00af00; text-decoration-color: #00af00\">12</span>, <span style=\"color: #00af00; text-decoration-color: #00af00\">12</span>, <span style=\"color: #00af00; text-decoration-color: #00af00\">256</span>)         │         <span style=\"color: #00af00; text-decoration-color: #00af00\">590,080</span> │\n",
              "├──────────────────────────────────────┼─────────────────────────────┼─────────────────┤\n",
              "│ block3_pool (<span style=\"color: #0087ff; text-decoration-color: #0087ff\">MaxPooling2D</span>)           │ (<span style=\"color: #00d7ff; text-decoration-color: #00d7ff\">None</span>, <span style=\"color: #00af00; text-decoration-color: #00af00\">6</span>, <span style=\"color: #00af00; text-decoration-color: #00af00\">6</span>, <span style=\"color: #00af00; text-decoration-color: #00af00\">256</span>)           │               <span style=\"color: #00af00; text-decoration-color: #00af00\">0</span> │\n",
              "├──────────────────────────────────────┼─────────────────────────────┼─────────────────┤\n",
              "│ block4_conv1 (<span style=\"color: #0087ff; text-decoration-color: #0087ff\">Conv2D</span>)                │ (<span style=\"color: #00d7ff; text-decoration-color: #00d7ff\">None</span>, <span style=\"color: #00af00; text-decoration-color: #00af00\">6</span>, <span style=\"color: #00af00; text-decoration-color: #00af00\">6</span>, <span style=\"color: #00af00; text-decoration-color: #00af00\">512</span>)           │       <span style=\"color: #00af00; text-decoration-color: #00af00\">1,180,160</span> │\n",
              "├──────────────────────────────────────┼─────────────────────────────┼─────────────────┤\n",
              "│ block4_conv2 (<span style=\"color: #0087ff; text-decoration-color: #0087ff\">Conv2D</span>)                │ (<span style=\"color: #00d7ff; text-decoration-color: #00d7ff\">None</span>, <span style=\"color: #00af00; text-decoration-color: #00af00\">6</span>, <span style=\"color: #00af00; text-decoration-color: #00af00\">6</span>, <span style=\"color: #00af00; text-decoration-color: #00af00\">512</span>)           │       <span style=\"color: #00af00; text-decoration-color: #00af00\">2,359,808</span> │\n",
              "├──────────────────────────────────────┼─────────────────────────────┼─────────────────┤\n",
              "│ block4_conv3 (<span style=\"color: #0087ff; text-decoration-color: #0087ff\">Conv2D</span>)                │ (<span style=\"color: #00d7ff; text-decoration-color: #00d7ff\">None</span>, <span style=\"color: #00af00; text-decoration-color: #00af00\">6</span>, <span style=\"color: #00af00; text-decoration-color: #00af00\">6</span>, <span style=\"color: #00af00; text-decoration-color: #00af00\">512</span>)           │       <span style=\"color: #00af00; text-decoration-color: #00af00\">2,359,808</span> │\n",
              "├──────────────────────────────────────┼─────────────────────────────┼─────────────────┤\n",
              "│ block4_pool (<span style=\"color: #0087ff; text-decoration-color: #0087ff\">MaxPooling2D</span>)           │ (<span style=\"color: #00d7ff; text-decoration-color: #00d7ff\">None</span>, <span style=\"color: #00af00; text-decoration-color: #00af00\">3</span>, <span style=\"color: #00af00; text-decoration-color: #00af00\">3</span>, <span style=\"color: #00af00; text-decoration-color: #00af00\">512</span>)           │               <span style=\"color: #00af00; text-decoration-color: #00af00\">0</span> │\n",
              "├──────────────────────────────────────┼─────────────────────────────┼─────────────────┤\n",
              "│ block5_conv1 (<span style=\"color: #0087ff; text-decoration-color: #0087ff\">Conv2D</span>)                │ (<span style=\"color: #00d7ff; text-decoration-color: #00d7ff\">None</span>, <span style=\"color: #00af00; text-decoration-color: #00af00\">3</span>, <span style=\"color: #00af00; text-decoration-color: #00af00\">3</span>, <span style=\"color: #00af00; text-decoration-color: #00af00\">512</span>)           │       <span style=\"color: #00af00; text-decoration-color: #00af00\">2,359,808</span> │\n",
              "├──────────────────────────────────────┼─────────────────────────────┼─────────────────┤\n",
              "│ block5_conv2 (<span style=\"color: #0087ff; text-decoration-color: #0087ff\">Conv2D</span>)                │ (<span style=\"color: #00d7ff; text-decoration-color: #00d7ff\">None</span>, <span style=\"color: #00af00; text-decoration-color: #00af00\">3</span>, <span style=\"color: #00af00; text-decoration-color: #00af00\">3</span>, <span style=\"color: #00af00; text-decoration-color: #00af00\">512</span>)           │       <span style=\"color: #00af00; text-decoration-color: #00af00\">2,359,808</span> │\n",
              "├──────────────────────────────────────┼─────────────────────────────┼─────────────────┤\n",
              "│ block5_conv3 (<span style=\"color: #0087ff; text-decoration-color: #0087ff\">Conv2D</span>)                │ (<span style=\"color: #00d7ff; text-decoration-color: #00d7ff\">None</span>, <span style=\"color: #00af00; text-decoration-color: #00af00\">3</span>, <span style=\"color: #00af00; text-decoration-color: #00af00\">3</span>, <span style=\"color: #00af00; text-decoration-color: #00af00\">512</span>)           │       <span style=\"color: #00af00; text-decoration-color: #00af00\">2,359,808</span> │\n",
              "├──────────────────────────────────────┼─────────────────────────────┼─────────────────┤\n",
              "│ block5_pool (<span style=\"color: #0087ff; text-decoration-color: #0087ff\">MaxPooling2D</span>)           │ (<span style=\"color: #00d7ff; text-decoration-color: #00d7ff\">None</span>, <span style=\"color: #00af00; text-decoration-color: #00af00\">1</span>, <span style=\"color: #00af00; text-decoration-color: #00af00\">1</span>, <span style=\"color: #00af00; text-decoration-color: #00af00\">512</span>)           │               <span style=\"color: #00af00; text-decoration-color: #00af00\">0</span> │\n",
              "├──────────────────────────────────────┼─────────────────────────────┼─────────────────┤\n",
              "│ flatten (<span style=\"color: #0087ff; text-decoration-color: #0087ff\">Flatten</span>)                    │ (<span style=\"color: #00d7ff; text-decoration-color: #00d7ff\">None</span>, <span style=\"color: #00af00; text-decoration-color: #00af00\">512</span>)                 │               <span style=\"color: #00af00; text-decoration-color: #00af00\">0</span> │\n",
              "├──────────────────────────────────────┼─────────────────────────────┼─────────────────┤\n",
              "│ fc1 (<span style=\"color: #0087ff; text-decoration-color: #0087ff\">Dense</span>)                          │ (<span style=\"color: #00d7ff; text-decoration-color: #00d7ff\">None</span>, <span style=\"color: #00af00; text-decoration-color: #00af00\">1024</span>)                │         <span style=\"color: #00af00; text-decoration-color: #00af00\">525,312</span> │\n",
              "├──────────────────────────────────────┼─────────────────────────────┼─────────────────┤\n",
              "│ dropout_3 (<span style=\"color: #0087ff; text-decoration-color: #0087ff\">Dropout</span>)                  │ (<span style=\"color: #00d7ff; text-decoration-color: #00d7ff\">None</span>, <span style=\"color: #00af00; text-decoration-color: #00af00\">1024</span>)                │               <span style=\"color: #00af00; text-decoration-color: #00af00\">0</span> │\n",
              "├──────────────────────────────────────┼─────────────────────────────┼─────────────────┤\n",
              "│ predictions (<span style=\"color: #0087ff; text-decoration-color: #0087ff\">Dense</span>)                  │ (<span style=\"color: #00d7ff; text-decoration-color: #00d7ff\">None</span>, <span style=\"color: #00af00; text-decoration-color: #00af00\">10</span>)                  │          <span style=\"color: #00af00; text-decoration-color: #00af00\">10,250</span> │\n",
              "└──────────────────────────────────────┴─────────────────────────────┴─────────────────┘\n",
              "</pre>\n"
            ],
            "text/plain": [
              "┏━━━━━━━━━━━━━━━━━━━━━━━━━━━━━━━━━━━━━━┳━━━━━━━━━━━━━━━━━━━━━━━━━━━━━┳━━━━━━━━━━━━━━━━━┓\n",
              "┃\u001b[1m \u001b[0m\u001b[1mLayer (type)                        \u001b[0m\u001b[1m \u001b[0m┃\u001b[1m \u001b[0m\u001b[1mOutput Shape               \u001b[0m\u001b[1m \u001b[0m┃\u001b[1m \u001b[0m\u001b[1m        Param #\u001b[0m\u001b[1m \u001b[0m┃\n",
              "┡━━━━━━━━━━━━━━━━━━━━━━━━━━━━━━━━━━━━━━╇━━━━━━━━━━━━━━━━━━━━━━━━━━━━━╇━━━━━━━━━━━━━━━━━┩\n",
              "│ input_layer_2 (\u001b[38;5;33mInputLayer\u001b[0m)           │ (\u001b[38;5;45mNone\u001b[0m, \u001b[38;5;34m48\u001b[0m, \u001b[38;5;34m48\u001b[0m, \u001b[38;5;34m3\u001b[0m)           │               \u001b[38;5;34m0\u001b[0m │\n",
              "├──────────────────────────────────────┼─────────────────────────────┼─────────────────┤\n",
              "│ block1_conv1 (\u001b[38;5;33mConv2D\u001b[0m)                │ (\u001b[38;5;45mNone\u001b[0m, \u001b[38;5;34m48\u001b[0m, \u001b[38;5;34m48\u001b[0m, \u001b[38;5;34m64\u001b[0m)          │           \u001b[38;5;34m1,792\u001b[0m │\n",
              "├──────────────────────────────────────┼─────────────────────────────┼─────────────────┤\n",
              "│ block1_conv2 (\u001b[38;5;33mConv2D\u001b[0m)                │ (\u001b[38;5;45mNone\u001b[0m, \u001b[38;5;34m48\u001b[0m, \u001b[38;5;34m48\u001b[0m, \u001b[38;5;34m64\u001b[0m)          │          \u001b[38;5;34m36,928\u001b[0m │\n",
              "├──────────────────────────────────────┼─────────────────────────────┼─────────────────┤\n",
              "│ block1_pool (\u001b[38;5;33mMaxPooling2D\u001b[0m)           │ (\u001b[38;5;45mNone\u001b[0m, \u001b[38;5;34m24\u001b[0m, \u001b[38;5;34m24\u001b[0m, \u001b[38;5;34m64\u001b[0m)          │               \u001b[38;5;34m0\u001b[0m │\n",
              "├──────────────────────────────────────┼─────────────────────────────┼─────────────────┤\n",
              "│ block2_conv1 (\u001b[38;5;33mConv2D\u001b[0m)                │ (\u001b[38;5;45mNone\u001b[0m, \u001b[38;5;34m24\u001b[0m, \u001b[38;5;34m24\u001b[0m, \u001b[38;5;34m128\u001b[0m)         │          \u001b[38;5;34m73,856\u001b[0m │\n",
              "├──────────────────────────────────────┼─────────────────────────────┼─────────────────┤\n",
              "│ block2_conv2 (\u001b[38;5;33mConv2D\u001b[0m)                │ (\u001b[38;5;45mNone\u001b[0m, \u001b[38;5;34m24\u001b[0m, \u001b[38;5;34m24\u001b[0m, \u001b[38;5;34m128\u001b[0m)         │         \u001b[38;5;34m147,584\u001b[0m │\n",
              "├──────────────────────────────────────┼─────────────────────────────┼─────────────────┤\n",
              "│ block2_pool (\u001b[38;5;33mMaxPooling2D\u001b[0m)           │ (\u001b[38;5;45mNone\u001b[0m, \u001b[38;5;34m12\u001b[0m, \u001b[38;5;34m12\u001b[0m, \u001b[38;5;34m128\u001b[0m)         │               \u001b[38;5;34m0\u001b[0m │\n",
              "├──────────────────────────────────────┼─────────────────────────────┼─────────────────┤\n",
              "│ block3_conv1 (\u001b[38;5;33mConv2D\u001b[0m)                │ (\u001b[38;5;45mNone\u001b[0m, \u001b[38;5;34m12\u001b[0m, \u001b[38;5;34m12\u001b[0m, \u001b[38;5;34m256\u001b[0m)         │         \u001b[38;5;34m295,168\u001b[0m │\n",
              "├──────────────────────────────────────┼─────────────────────────────┼─────────────────┤\n",
              "│ block3_conv2 (\u001b[38;5;33mConv2D\u001b[0m)                │ (\u001b[38;5;45mNone\u001b[0m, \u001b[38;5;34m12\u001b[0m, \u001b[38;5;34m12\u001b[0m, \u001b[38;5;34m256\u001b[0m)         │         \u001b[38;5;34m590,080\u001b[0m │\n",
              "├──────────────────────────────────────┼─────────────────────────────┼─────────────────┤\n",
              "│ block3_conv3 (\u001b[38;5;33mConv2D\u001b[0m)                │ (\u001b[38;5;45mNone\u001b[0m, \u001b[38;5;34m12\u001b[0m, \u001b[38;5;34m12\u001b[0m, \u001b[38;5;34m256\u001b[0m)         │         \u001b[38;5;34m590,080\u001b[0m │\n",
              "├──────────────────────────────────────┼─────────────────────────────┼─────────────────┤\n",
              "│ block3_pool (\u001b[38;5;33mMaxPooling2D\u001b[0m)           │ (\u001b[38;5;45mNone\u001b[0m, \u001b[38;5;34m6\u001b[0m, \u001b[38;5;34m6\u001b[0m, \u001b[38;5;34m256\u001b[0m)           │               \u001b[38;5;34m0\u001b[0m │\n",
              "├──────────────────────────────────────┼─────────────────────────────┼─────────────────┤\n",
              "│ block4_conv1 (\u001b[38;5;33mConv2D\u001b[0m)                │ (\u001b[38;5;45mNone\u001b[0m, \u001b[38;5;34m6\u001b[0m, \u001b[38;5;34m6\u001b[0m, \u001b[38;5;34m512\u001b[0m)           │       \u001b[38;5;34m1,180,160\u001b[0m │\n",
              "├──────────────────────────────────────┼─────────────────────────────┼─────────────────┤\n",
              "│ block4_conv2 (\u001b[38;5;33mConv2D\u001b[0m)                │ (\u001b[38;5;45mNone\u001b[0m, \u001b[38;5;34m6\u001b[0m, \u001b[38;5;34m6\u001b[0m, \u001b[38;5;34m512\u001b[0m)           │       \u001b[38;5;34m2,359,808\u001b[0m │\n",
              "├──────────────────────────────────────┼─────────────────────────────┼─────────────────┤\n",
              "│ block4_conv3 (\u001b[38;5;33mConv2D\u001b[0m)                │ (\u001b[38;5;45mNone\u001b[0m, \u001b[38;5;34m6\u001b[0m, \u001b[38;5;34m6\u001b[0m, \u001b[38;5;34m512\u001b[0m)           │       \u001b[38;5;34m2,359,808\u001b[0m │\n",
              "├──────────────────────────────────────┼─────────────────────────────┼─────────────────┤\n",
              "│ block4_pool (\u001b[38;5;33mMaxPooling2D\u001b[0m)           │ (\u001b[38;5;45mNone\u001b[0m, \u001b[38;5;34m3\u001b[0m, \u001b[38;5;34m3\u001b[0m, \u001b[38;5;34m512\u001b[0m)           │               \u001b[38;5;34m0\u001b[0m │\n",
              "├──────────────────────────────────────┼─────────────────────────────┼─────────────────┤\n",
              "│ block5_conv1 (\u001b[38;5;33mConv2D\u001b[0m)                │ (\u001b[38;5;45mNone\u001b[0m, \u001b[38;5;34m3\u001b[0m, \u001b[38;5;34m3\u001b[0m, \u001b[38;5;34m512\u001b[0m)           │       \u001b[38;5;34m2,359,808\u001b[0m │\n",
              "├──────────────────────────────────────┼─────────────────────────────┼─────────────────┤\n",
              "│ block5_conv2 (\u001b[38;5;33mConv2D\u001b[0m)                │ (\u001b[38;5;45mNone\u001b[0m, \u001b[38;5;34m3\u001b[0m, \u001b[38;5;34m3\u001b[0m, \u001b[38;5;34m512\u001b[0m)           │       \u001b[38;5;34m2,359,808\u001b[0m │\n",
              "├──────────────────────────────────────┼─────────────────────────────┼─────────────────┤\n",
              "│ block5_conv3 (\u001b[38;5;33mConv2D\u001b[0m)                │ (\u001b[38;5;45mNone\u001b[0m, \u001b[38;5;34m3\u001b[0m, \u001b[38;5;34m3\u001b[0m, \u001b[38;5;34m512\u001b[0m)           │       \u001b[38;5;34m2,359,808\u001b[0m │\n",
              "├──────────────────────────────────────┼─────────────────────────────┼─────────────────┤\n",
              "│ block5_pool (\u001b[38;5;33mMaxPooling2D\u001b[0m)           │ (\u001b[38;5;45mNone\u001b[0m, \u001b[38;5;34m1\u001b[0m, \u001b[38;5;34m1\u001b[0m, \u001b[38;5;34m512\u001b[0m)           │               \u001b[38;5;34m0\u001b[0m │\n",
              "├──────────────────────────────────────┼─────────────────────────────┼─────────────────┤\n",
              "│ flatten (\u001b[38;5;33mFlatten\u001b[0m)                    │ (\u001b[38;5;45mNone\u001b[0m, \u001b[38;5;34m512\u001b[0m)                 │               \u001b[38;5;34m0\u001b[0m │\n",
              "├──────────────────────────────────────┼─────────────────────────────┼─────────────────┤\n",
              "│ fc1 (\u001b[38;5;33mDense\u001b[0m)                          │ (\u001b[38;5;45mNone\u001b[0m, \u001b[38;5;34m1024\u001b[0m)                │         \u001b[38;5;34m525,312\u001b[0m │\n",
              "├──────────────────────────────────────┼─────────────────────────────┼─────────────────┤\n",
              "│ dropout_3 (\u001b[38;5;33mDropout\u001b[0m)                  │ (\u001b[38;5;45mNone\u001b[0m, \u001b[38;5;34m1024\u001b[0m)                │               \u001b[38;5;34m0\u001b[0m │\n",
              "├──────────────────────────────────────┼─────────────────────────────┼─────────────────┤\n",
              "│ predictions (\u001b[38;5;33mDense\u001b[0m)                  │ (\u001b[38;5;45mNone\u001b[0m, \u001b[38;5;34m10\u001b[0m)                  │          \u001b[38;5;34m10,250\u001b[0m │\n",
              "└──────────────────────────────────────┴─────────────────────────────┴─────────────────┘\n"
            ]
          },
          "metadata": {},
          "output_type": "display_data"
        },
        {
          "data": {
            "text/html": [
              "<pre style=\"white-space:pre;overflow-x:auto;line-height:normal;font-family:Menlo,'DejaVu Sans Mono',consolas,'Courier New',monospace\"><span style=\"font-weight: bold\"> Total params: </span><span style=\"color: #00af00; text-decoration-color: #00af00\">15,250,250</span> (58.18 MB)\n",
              "</pre>\n"
            ],
            "text/plain": [
              "\u001b[1m Total params: \u001b[0m\u001b[38;5;34m15,250,250\u001b[0m (58.18 MB)\n"
            ]
          },
          "metadata": {},
          "output_type": "display_data"
        },
        {
          "data": {
            "text/html": [
              "<pre style=\"white-space:pre;overflow-x:auto;line-height:normal;font-family:Menlo,'DejaVu Sans Mono',consolas,'Courier New',monospace\"><span style=\"font-weight: bold\"> Trainable params: </span><span style=\"color: #00af00; text-decoration-color: #00af00\">535,562</span> (2.04 MB)\n",
              "</pre>\n"
            ],
            "text/plain": [
              "\u001b[1m Trainable params: \u001b[0m\u001b[38;5;34m535,562\u001b[0m (2.04 MB)\n"
            ]
          },
          "metadata": {},
          "output_type": "display_data"
        },
        {
          "data": {
            "text/html": [
              "<pre style=\"white-space:pre;overflow-x:auto;line-height:normal;font-family:Menlo,'DejaVu Sans Mono',consolas,'Courier New',monospace\"><span style=\"font-weight: bold\"> Non-trainable params: </span><span style=\"color: #00af00; text-decoration-color: #00af00\">14,714,688</span> (56.13 MB)\n",
              "</pre>\n"
            ],
            "text/plain": [
              "\u001b[1m Non-trainable params: \u001b[0m\u001b[38;5;34m14,714,688\u001b[0m (56.13 MB)\n"
            ]
          },
          "metadata": {},
          "output_type": "display_data"
        }
      ],
      "source": [
        "for layer in base_model.layers:\n",
        "  layer.trainable = False\n",
        "\n",
        "last = base_model.layers[-1].output\n",
        "x = Flatten()(last)\n",
        "x = Dense(1024, activation=\"relu\", name=\"fc1\")(x)\n",
        "x = Dropout(0.5)(x)\n",
        "x = Dense(10, activation=\"linear\", name=\"predictions\")(x)\n",
        "cnn_model = Model(base_model.input, x)\n",
        "\n",
        "# compilamos el modelo\n",
        "cnn_model.compile(loss=\"mean_squared_error\", optimizer=Adam(0.001), metrics=[\"mse\"])\n",
        "\n",
        "# vemos la estructura del modelo\n",
        "cnn_model.summary()"
      ]
    },
    {
      "cell_type": "markdown",
      "metadata": {
        "id": "ADaIieSpxVdE"
      },
      "source": [
        "* Entrenamos el modelo pre-entrenado con Transfer Learning"
      ]
    },
    {
      "cell_type": "code",
      "execution_count": null,
      "metadata": {
        "colab": {
          "base_uri": "https://localhost:8080/"
        },
        "id": "jXMdsYv08AMe",
        "outputId": "14bc215a-680a-456b-ffbb-2ef1d017c940"
      },
      "outputs": [
        {
          "name": "stdout",
          "output_type": "stream",
          "text": [
            "Epoch 1/20\n",
            "\u001b[1m4/4\u001b[0m \u001b[32m━━━━━━━━━━━━━━━━━━━━\u001b[0m\u001b[37m\u001b[0m \u001b[1m66s\u001b[0m 17s/step - loss: 45357.8320 - mse: 45357.8320 - val_loss: 51869.4922 - val_mse: 51869.4922\n",
            "Epoch 2/20\n",
            "\u001b[1m4/4\u001b[0m \u001b[32m━━━━━━━━━━━━━━━━━━━━\u001b[0m\u001b[37m\u001b[0m \u001b[1m80s\u001b[0m 17s/step - loss: 44458.3398 - mse: 44458.3398 - val_loss: 50696.8555 - val_mse: 50696.8555\n",
            "Epoch 3/20\n",
            "\u001b[1m4/4\u001b[0m \u001b[32m━━━━━━━━━━━━━━━━━━━━\u001b[0m\u001b[37m\u001b[0m \u001b[1m63s\u001b[0m 16s/step - loss: 43311.5195 - mse: 43311.5195 - val_loss: 49124.1367 - val_mse: 49124.1367\n",
            "Epoch 4/20\n",
            "\u001b[1m4/4\u001b[0m \u001b[32m━━━━━━━━━━━━━━━━━━━━\u001b[0m\u001b[37m\u001b[0m \u001b[1m82s\u001b[0m 16s/step - loss: 41800.7539 - mse: 41800.7539 - val_loss: 47086.7266 - val_mse: 47086.7266\n",
            "Epoch 5/20\n",
            "\u001b[1m4/4\u001b[0m \u001b[32m━━━━━━━━━━━━━━━━━━━━\u001b[0m\u001b[37m\u001b[0m \u001b[1m62s\u001b[0m 17s/step - loss: 39851.5039 - mse: 39851.5039 - val_loss: 44581.2070 - val_mse: 44581.2070\n",
            "Epoch 6/20\n",
            "\u001b[1m4/4\u001b[0m \u001b[32m━━━━━━━━━━━━━━━━━━━━\u001b[0m\u001b[37m\u001b[0m \u001b[1m70s\u001b[0m 19s/step - loss: 37503.3359 - mse: 37503.3359 - val_loss: 41653.3789 - val_mse: 41653.3789\n",
            "Epoch 7/20\n",
            "\u001b[1m4/4\u001b[0m \u001b[32m━━━━━━━━━━━━━━━━━━━━\u001b[0m\u001b[37m\u001b[0m \u001b[1m74s\u001b[0m 17s/step - loss: 34747.8906 - mse: 34747.8906 - val_loss: 38400.6055 - val_mse: 38400.6055\n",
            "Epoch 8/20\n",
            "\u001b[1m4/4\u001b[0m \u001b[32m━━━━━━━━━━━━━━━━━━━━\u001b[0m\u001b[37m\u001b[0m \u001b[1m82s\u001b[0m 16s/step - loss: 31823.3906 - mse: 31823.3906 - val_loss: 34983.8555 - val_mse: 34983.8555\n",
            "Epoch 9/20\n",
            "\u001b[1m4/4\u001b[0m \u001b[32m━━━━━━━━━━━━━━━━━━━━\u001b[0m\u001b[37m\u001b[0m \u001b[1m92s\u001b[0m 20s/step - loss: 28820.9297 - mse: 28820.9297 - val_loss: 31620.0391 - val_mse: 31620.0391\n",
            "Epoch 10/20\n",
            "\u001b[1m4/4\u001b[0m \u001b[32m━━━━━━━━━━━━━━━━━━━━\u001b[0m\u001b[37m\u001b[0m \u001b[1m72s\u001b[0m 16s/step - loss: 25910.1582 - mse: 25910.1582 - val_loss: 28564.8984 - val_mse: 28564.8984\n",
            "Epoch 11/20\n",
            "\u001b[1m4/4\u001b[0m \u001b[32m━━━━━━━━━━━━━━━━━━━━\u001b[0m\u001b[37m\u001b[0m \u001b[1m82s\u001b[0m 16s/step - loss: 23325.9238 - mse: 23325.9238 - val_loss: 26075.5410 - val_mse: 26075.5410\n",
            "Epoch 12/20\n",
            "\u001b[1m4/4\u001b[0m \u001b[32m━━━━━━━━━━━━━━━━━━━━\u001b[0m\u001b[37m\u001b[0m \u001b[1m82s\u001b[0m 17s/step - loss: 21456.6035 - mse: 21456.6035 - val_loss: 24342.3594 - val_mse: 24342.3594\n",
            "Epoch 13/20\n",
            "\u001b[1m4/4\u001b[0m \u001b[32m━━━━━━━━━━━━━━━━━━━━\u001b[0m\u001b[37m\u001b[0m \u001b[1m63s\u001b[0m 16s/step - loss: 20344.4883 - mse: 20344.4883 - val_loss: 23401.9453 - val_mse: 23401.9453\n",
            "Epoch 14/20\n",
            "\u001b[1m4/4\u001b[0m \u001b[32m━━━━━━━━━━━━━━━━━━━━\u001b[0m\u001b[37m\u001b[0m \u001b[1m81s\u001b[0m 16s/step - loss: 19812.6621 - mse: 19812.6621 - val_loss: 23077.5000 - val_mse: 23077.5000\n",
            "Epoch 15/20\n",
            "\u001b[1m4/4\u001b[0m \u001b[32m━━━━━━━━━━━━━━━━━━━━\u001b[0m\u001b[37m\u001b[0m \u001b[1m83s\u001b[0m 17s/step - loss: 19798.3262 - mse: 19798.3262 - val_loss: 23053.8301 - val_mse: 23053.8301\n",
            "Epoch 16/20\n",
            "\u001b[1m4/4\u001b[0m \u001b[32m━━━━━━━━━━━━━━━━━━━━\u001b[0m\u001b[37m\u001b[0m \u001b[1m83s\u001b[0m 17s/step - loss: 19929.7461 - mse: 19929.7461 - val_loss: 23064.4121 - val_mse: 23064.4121\n",
            "Epoch 17/20\n",
            "\u001b[1m4/4\u001b[0m \u001b[32m━━━━━━━━━━━━━━━━━━━━\u001b[0m\u001b[37m\u001b[0m \u001b[1m81s\u001b[0m 17s/step - loss: 19898.3086 - mse: 19898.3086 - val_loss: 23024.5879 - val_mse: 23024.5879\n",
            "Epoch 18/20\n",
            "\u001b[1m4/4\u001b[0m \u001b[32m━━━━━━━━━━━━━━━━━━━━\u001b[0m\u001b[37m\u001b[0m \u001b[1m63s\u001b[0m 17s/step - loss: 19815.1289 - mse: 19815.1289 - val_loss: 22973.3027 - val_mse: 22973.3027\n",
            "Epoch 19/20\n",
            "\u001b[1m4/4\u001b[0m \u001b[32m━━━━━━━━━━━━━━━━━━━━\u001b[0m\u001b[37m\u001b[0m \u001b[1m63s\u001b[0m 17s/step - loss: 19752.2617 - mse: 19752.2617 - val_loss: 22961.4199 - val_mse: 22961.4199\n",
            "Epoch 20/20\n",
            "\u001b[1m4/4\u001b[0m \u001b[32m━━━━━━━━━━━━━━━━━━━━\u001b[0m\u001b[37m\u001b[0m \u001b[1m81s\u001b[0m 16s/step - loss: 19650.2461 - mse: 19650.2461 - val_loss: 22995.5332 - val_mse: 22995.5332\n"
          ]
        }
      ],
      "source": [
        "epochs = 20\n",
        "batch_size = 512\n",
        "\n",
        "H_cnn = cnn_model.fit(X_train_resized, y_train,\n",
        "          batch_size=batch_size,\n",
        "          validation_data=(X_val_resized, y_val),\n",
        "          epochs=epochs)"
      ]
    },
    {
      "cell_type": "markdown",
      "metadata": {
        "id": "_pgm7xj_xfOO"
      },
      "source": [
        "* Evaluamos el modelo"
      ]
    },
    {
      "cell_type": "code",
      "execution_count": null,
      "metadata": {
        "colab": {
          "base_uri": "https://localhost:8080/"
        },
        "id": "UzLPL9Euyvgl",
        "outputId": "cb440558-2769-487f-d9ec-af029e9557f7"
      },
      "outputs": [
        {
          "name": "stdout",
          "output_type": "stream",
          "text": [
            "\u001b[1m20/20\u001b[0m \u001b[32m━━━━━━━━━━━━━━━━━━━━\u001b[0m\u001b[37m\u001b[0m \u001b[1m15s\u001b[0m 771ms/step - loss: 18704.8184 - mse: 18704.8184\n",
            "MSE: 17428.406\n"
          ]
        }
      ],
      "source": [
        "scores = cnn_model.evaluate(X_test_resized, y_test)\n",
        "\n",
        "print('MSE: %.3f' % scores[1])"
      ]
    },
    {
      "cell_type": "markdown",
      "metadata": {
        "id": "Q5jB0TMAcGzL"
      },
      "source": [
        "* Dibujamos el MSE durante el entrenamiento"
      ]
    },
    {
      "cell_type": "code",
      "execution_count": null,
      "metadata": {
        "colab": {
          "base_uri": "https://localhost:8080/",
          "height": 477
        },
        "id": "GYZFhFlkavIO",
        "outputId": "8d1d37dd-f680-4d22-a0d8-c5e21361dc13"
      },
      "outputs": [
        {
          "data": {
            "image/png": "[encoded data removed]",
            "text/plain": [
              "<Figure size 640x480 with 1 Axes>"
            ]
          },
          "metadata": {},
          "output_type": "display_data"
        }
      ],
      "source": [
        "plt.style.use(\"ggplot\")\n",
        "plt.figure()\n",
        "plt.plot(np.arange(0, epochs), H_cnn.history[\"mse\"], label=\"train_mse\")\n",
        "plt.plot(np.arange(0, epochs), H_cnn.history[\"val_mse\"], label=\"val_mse\")\n",
        "plt.title(\"Training and Validation MSE\")\n",
        "plt.xlabel(\"Epoch\")\n",
        "plt.ylabel(\"MSE\")\n",
        "plt.legend()\n",
        "plt.show()"
      ]
    },
    {
      "cell_type": "markdown",
      "source": [
        "Los resultados obtenidos son peores que con el modelo tabular, lo cual no sorprende, ya que tratar de predecir el precio de alquiler de una vivienda con las fotos resulta mucho menos intuitivo que hacerlo a través de las características de la propia vivienda."
      ],
      "metadata": {
        "id": "qV1k3bIfcymp"
      }
    },
    {
      "cell_type": "markdown",
      "metadata": {
        "id": "yvx5V9icvr_s"
      },
      "source": [
        "## 3.3. FINE TUNING"
      ]
    },
    {
      "cell_type": "markdown",
      "metadata": {
        "id": "i6p8vW-_4tLK"
      },
      "source": [
        "* Además de la etapa de regresión, también vamos a entrenar el último bloque convolucional"
      ]
    },
    {
      "cell_type": "code",
      "execution_count": null,
      "metadata": {
        "colab": {
          "base_uri": "https://localhost:8080/",
          "height": 918
        },
        "id": "ylmcsPYwvw0b",
        "outputId": "bfef8508-9a10-4ba1-bffe-cd3ec9cd9b1a"
      },
      "outputs": [
        {
          "data": {
            "text/html": [
              "<pre style=\"white-space:pre;overflow-x:auto;line-height:normal;font-family:Menlo,'DejaVu Sans Mono',consolas,'Courier New',monospace\"><span style=\"font-weight: bold\">Model: \"functional_15\"</span>\n",
              "</pre>\n"
            ],
            "text/plain": [
              "\u001b[1mModel: \"functional_15\"\u001b[0m\n"
            ]
          },
          "metadata": {},
          "output_type": "display_data"
        },
        {
          "data": {
            "text/html": [
              "<pre style=\"white-space:pre;overflow-x:auto;line-height:normal;font-family:Menlo,'DejaVu Sans Mono',consolas,'Courier New',monospace\">┏━━━━━━━━━━━━━━━━━━━━━━━━━━━━━━━━━━━━━━┳━━━━━━━━━━━━━━━━━━━━━━━━━━━━━┳━━━━━━━━━━━━━━━━━┓\n",
              "┃<span style=\"font-weight: bold\"> Layer (type)                         </span>┃<span style=\"font-weight: bold\"> Output Shape                </span>┃<span style=\"font-weight: bold\">         Param # </span>┃\n",
              "┡━━━━━━━━━━━━━━━━━━━━━━━━━━━━━━━━━━━━━━╇━━━━━━━━━━━━━━━━━━━━━━━━━━━━━╇━━━━━━━━━━━━━━━━━┩\n",
              "│ input_layer_2 (<span style=\"color: #0087ff; text-decoration-color: #0087ff\">InputLayer</span>)           │ (<span style=\"color: #00d7ff; text-decoration-color: #00d7ff\">None</span>, <span style=\"color: #00af00; text-decoration-color: #00af00\">48</span>, <span style=\"color: #00af00; text-decoration-color: #00af00\">48</span>, <span style=\"color: #00af00; text-decoration-color: #00af00\">3</span>)           │               <span style=\"color: #00af00; text-decoration-color: #00af00\">0</span> │\n",
              "├──────────────────────────────────────┼─────────────────────────────┼─────────────────┤\n",
              "│ block1_conv1 (<span style=\"color: #0087ff; text-decoration-color: #0087ff\">Conv2D</span>)                │ (<span style=\"color: #00d7ff; text-decoration-color: #00d7ff\">None</span>, <span style=\"color: #00af00; text-decoration-color: #00af00\">48</span>, <span style=\"color: #00af00; text-decoration-color: #00af00\">48</span>, <span style=\"color: #00af00; text-decoration-color: #00af00\">64</span>)          │           <span style=\"color: #00af00; text-decoration-color: #00af00\">1,792</span> │\n",
              "├──────────────────────────────────────┼─────────────────────────────┼─────────────────┤\n",
              "│ block1_conv2 (<span style=\"color: #0087ff; text-decoration-color: #0087ff\">Conv2D</span>)                │ (<span style=\"color: #00d7ff; text-decoration-color: #00d7ff\">None</span>, <span style=\"color: #00af00; text-decoration-color: #00af00\">48</span>, <span style=\"color: #00af00; text-decoration-color: #00af00\">48</span>, <span style=\"color: #00af00; text-decoration-color: #00af00\">64</span>)          │          <span style=\"color: #00af00; text-decoration-color: #00af00\">36,928</span> │\n",
              "├──────────────────────────────────────┼─────────────────────────────┼─────────────────┤\n",
              "│ block1_pool (<span style=\"color: #0087ff; text-decoration-color: #0087ff\">MaxPooling2D</span>)           │ (<span style=\"color: #00d7ff; text-decoration-color: #00d7ff\">None</span>, <span style=\"color: #00af00; text-decoration-color: #00af00\">24</span>, <span style=\"color: #00af00; text-decoration-color: #00af00\">24</span>, <span style=\"color: #00af00; text-decoration-color: #00af00\">64</span>)          │               <span style=\"color: #00af00; text-decoration-color: #00af00\">0</span> │\n",
              "├──────────────────────────────────────┼─────────────────────────────┼─────────────────┤\n",
              "│ block2_conv1 (<span style=\"color: #0087ff; text-decoration-color: #0087ff\">Conv2D</span>)                │ (<span style=\"color: #00d7ff; text-decoration-color: #00d7ff\">None</span>, <span style=\"color: #00af00; text-decoration-color: #00af00\">24</span>, <span style=\"color: #00af00; text-decoration-color: #00af00\">24</span>, <span style=\"color: #00af00; text-decoration-color: #00af00\">128</span>)         │          <span style=\"color: #00af00; text-decoration-color: #00af00\">73,856</span> │\n",
              "├──────────────────────────────────────┼─────────────────────────────┼─────────────────┤\n",
              "│ block2_conv2 (<span style=\"color: #0087ff; text-decoration-color: #0087ff\">Conv2D</span>)                │ (<span style=\"color: #00d7ff; text-decoration-color: #00d7ff\">None</span>, <span style=\"color: #00af00; text-decoration-color: #00af00\">24</span>, <span style=\"color: #00af00; text-decoration-color: #00af00\">24</span>, <span style=\"color: #00af00; text-decoration-color: #00af00\">128</span>)         │         <span style=\"color: #00af00; text-decoration-color: #00af00\">147,584</span> │\n",
              "├──────────────────────────────────────┼─────────────────────────────┼─────────────────┤\n",
              "│ block2_pool (<span style=\"color: #0087ff; text-decoration-color: #0087ff\">MaxPooling2D</span>)           │ (<span style=\"color: #00d7ff; text-decoration-color: #00d7ff\">None</span>, <span style=\"color: #00af00; text-decoration-color: #00af00\">12</span>, <span style=\"color: #00af00; text-decoration-color: #00af00\">12</span>, <span style=\"color: #00af00; text-decoration-color: #00af00\">128</span>)         │               <span style=\"color: #00af00; text-decoration-color: #00af00\">0</span> │\n",
              "├──────────────────────────────────────┼─────────────────────────────┼─────────────────┤\n",
              "│ block3_conv1 (<span style=\"color: #0087ff; text-decoration-color: #0087ff\">Conv2D</span>)                │ (<span style=\"color: #00d7ff; text-decoration-color: #00d7ff\">None</span>, <span style=\"color: #00af00; text-decoration-color: #00af00\">12</span>, <span style=\"color: #00af00; text-decoration-color: #00af00\">12</span>, <span style=\"color: #00af00; text-decoration-color: #00af00\">256</span>)         │         <span style=\"color: #00af00; text-decoration-color: #00af00\">295,168</span> │\n",
              "├──────────────────────────────────────┼─────────────────────────────┼─────────────────┤\n",
              "│ block3_conv2 (<span style=\"color: #0087ff; text-decoration-color: #0087ff\">Conv2D</span>)                │ (<span style=\"color: #00d7ff; text-decoration-color: #00d7ff\">None</span>, <span style=\"color: #00af00; text-decoration-color: #00af00\">12</span>, <span style=\"color: #00af00; text-decoration-color: #00af00\">12</span>, <span style=\"color: #00af00; text-decoration-color: #00af00\">256</span>)         │         <span style=\"color: #00af00; text-decoration-color: #00af00\">590,080</span> │\n",
              "├──────────────────────────────────────┼─────────────────────────────┼─────────────────┤\n",
              "│ block3_conv3 (<span style=\"color: #0087ff; text-decoration-color: #0087ff\">Conv2D</span>)                │ (<span style=\"color: #00d7ff; text-decoration-color: #00d7ff\">None</span>, <span style=\"color: #00af00; text-decoration-color: #00af00\">12</span>, <span style=\"color: #00af00; text-decoration-color: #00af00\">12</span>, <span style=\"color: #00af00; text-decoration-color: #00af00\">256</span>)         │         <span style=\"color: #00af00; text-decoration-color: #00af00\">590,080</span> │\n",
              "├──────────────────────────────────────┼─────────────────────────────┼─────────────────┤\n",
              "│ block3_pool (<span style=\"color: #0087ff; text-decoration-color: #0087ff\">MaxPooling2D</span>)           │ (<span style=\"color: #00d7ff; text-decoration-color: #00d7ff\">None</span>, <span style=\"color: #00af00; text-decoration-color: #00af00\">6</span>, <span style=\"color: #00af00; text-decoration-color: #00af00\">6</span>, <span style=\"color: #00af00; text-decoration-color: #00af00\">256</span>)           │               <span style=\"color: #00af00; text-decoration-color: #00af00\">0</span> │\n",
              "├──────────────────────────────────────┼─────────────────────────────┼─────────────────┤\n",
              "│ block4_conv1 (<span style=\"color: #0087ff; text-decoration-color: #0087ff\">Conv2D</span>)                │ (<span style=\"color: #00d7ff; text-decoration-color: #00d7ff\">None</span>, <span style=\"color: #00af00; text-decoration-color: #00af00\">6</span>, <span style=\"color: #00af00; text-decoration-color: #00af00\">6</span>, <span style=\"color: #00af00; text-decoration-color: #00af00\">512</span>)           │       <span style=\"color: #00af00; text-decoration-color: #00af00\">1,180,160</span> │\n",
              "├──────────────────────────────────────┼─────────────────────────────┼─────────────────┤\n",
              "│ block4_conv2 (<span style=\"color: #0087ff; text-decoration-color: #0087ff\">Conv2D</span>)                │ (<span style=\"color: #00d7ff; text-decoration-color: #00d7ff\">None</span>, <span style=\"color: #00af00; text-decoration-color: #00af00\">6</span>, <span style=\"color: #00af00; text-decoration-color: #00af00\">6</span>, <span style=\"color: #00af00; text-decoration-color: #00af00\">512</span>)           │       <span style=\"color: #00af00; text-decoration-color: #00af00\">2,359,808</span> │\n",
              "├──────────────────────────────────────┼─────────────────────────────┼─────────────────┤\n",
              "│ block4_conv3 (<span style=\"color: #0087ff; text-decoration-color: #0087ff\">Conv2D</span>)                │ (<span style=\"color: #00d7ff; text-decoration-color: #00d7ff\">None</span>, <span style=\"color: #00af00; text-decoration-color: #00af00\">6</span>, <span style=\"color: #00af00; text-decoration-color: #00af00\">6</span>, <span style=\"color: #00af00; text-decoration-color: #00af00\">512</span>)           │       <span style=\"color: #00af00; text-decoration-color: #00af00\">2,359,808</span> │\n",
              "├──────────────────────────────────────┼─────────────────────────────┼─────────────────┤\n",
              "│ block4_pool (<span style=\"color: #0087ff; text-decoration-color: #0087ff\">MaxPooling2D</span>)           │ (<span style=\"color: #00d7ff; text-decoration-color: #00d7ff\">None</span>, <span style=\"color: #00af00; text-decoration-color: #00af00\">3</span>, <span style=\"color: #00af00; text-decoration-color: #00af00\">3</span>, <span style=\"color: #00af00; text-decoration-color: #00af00\">512</span>)           │               <span style=\"color: #00af00; text-decoration-color: #00af00\">0</span> │\n",
              "├──────────────────────────────────────┼─────────────────────────────┼─────────────────┤\n",
              "│ block5_conv1 (<span style=\"color: #0087ff; text-decoration-color: #0087ff\">Conv2D</span>)                │ (<span style=\"color: #00d7ff; text-decoration-color: #00d7ff\">None</span>, <span style=\"color: #00af00; text-decoration-color: #00af00\">3</span>, <span style=\"color: #00af00; text-decoration-color: #00af00\">3</span>, <span style=\"color: #00af00; text-decoration-color: #00af00\">512</span>)           │       <span style=\"color: #00af00; text-decoration-color: #00af00\">2,359,808</span> │\n",
              "├──────────────────────────────────────┼─────────────────────────────┼─────────────────┤\n",
              "│ block5_conv2 (<span style=\"color: #0087ff; text-decoration-color: #0087ff\">Conv2D</span>)                │ (<span style=\"color: #00d7ff; text-decoration-color: #00d7ff\">None</span>, <span style=\"color: #00af00; text-decoration-color: #00af00\">3</span>, <span style=\"color: #00af00; text-decoration-color: #00af00\">3</span>, <span style=\"color: #00af00; text-decoration-color: #00af00\">512</span>)           │       <span style=\"color: #00af00; text-decoration-color: #00af00\">2,359,808</span> │\n",
              "├──────────────────────────────────────┼─────────────────────────────┼─────────────────┤\n",
              "│ block5_conv3 (<span style=\"color: #0087ff; text-decoration-color: #0087ff\">Conv2D</span>)                │ (<span style=\"color: #00d7ff; text-decoration-color: #00d7ff\">None</span>, <span style=\"color: #00af00; text-decoration-color: #00af00\">3</span>, <span style=\"color: #00af00; text-decoration-color: #00af00\">3</span>, <span style=\"color: #00af00; text-decoration-color: #00af00\">512</span>)           │       <span style=\"color: #00af00; text-decoration-color: #00af00\">2,359,808</span> │\n",
              "├──────────────────────────────────────┼─────────────────────────────┼─────────────────┤\n",
              "│ block5_pool (<span style=\"color: #0087ff; text-decoration-color: #0087ff\">MaxPooling2D</span>)           │ (<span style=\"color: #00d7ff; text-decoration-color: #00d7ff\">None</span>, <span style=\"color: #00af00; text-decoration-color: #00af00\">1</span>, <span style=\"color: #00af00; text-decoration-color: #00af00\">1</span>, <span style=\"color: #00af00; text-decoration-color: #00af00\">512</span>)           │               <span style=\"color: #00af00; text-decoration-color: #00af00\">0</span> │\n",
              "├──────────────────────────────────────┼─────────────────────────────┼─────────────────┤\n",
              "│ flatten_1 (<span style=\"color: #0087ff; text-decoration-color: #0087ff\">Flatten</span>)                  │ (<span style=\"color: #00d7ff; text-decoration-color: #00d7ff\">None</span>, <span style=\"color: #00af00; text-decoration-color: #00af00\">512</span>)                 │               <span style=\"color: #00af00; text-decoration-color: #00af00\">0</span> │\n",
              "├──────────────────────────────────────┼─────────────────────────────┼─────────────────┤\n",
              "│ fc1 (<span style=\"color: #0087ff; text-decoration-color: #0087ff\">Dense</span>)                          │ (<span style=\"color: #00d7ff; text-decoration-color: #00d7ff\">None</span>, <span style=\"color: #00af00; text-decoration-color: #00af00\">1024</span>)                │         <span style=\"color: #00af00; text-decoration-color: #00af00\">525,312</span> │\n",
              "├──────────────────────────────────────┼─────────────────────────────┼─────────────────┤\n",
              "│ dropout_4 (<span style=\"color: #0087ff; text-decoration-color: #0087ff\">Dropout</span>)                  │ (<span style=\"color: #00d7ff; text-decoration-color: #00d7ff\">None</span>, <span style=\"color: #00af00; text-decoration-color: #00af00\">1024</span>)                │               <span style=\"color: #00af00; text-decoration-color: #00af00\">0</span> │\n",
              "├──────────────────────────────────────┼─────────────────────────────┼─────────────────┤\n",
              "│ predictions (<span style=\"color: #0087ff; text-decoration-color: #0087ff\">Dense</span>)                  │ (<span style=\"color: #00d7ff; text-decoration-color: #00d7ff\">None</span>, <span style=\"color: #00af00; text-decoration-color: #00af00\">10</span>)                  │          <span style=\"color: #00af00; text-decoration-color: #00af00\">10,250</span> │\n",
              "└──────────────────────────────────────┴─────────────────────────────┴─────────────────┘\n",
              "</pre>\n"
            ],
            "text/plain": [
              "┏━━━━━━━━━━━━━━━━━━━━━━━━━━━━━━━━━━━━━━┳━━━━━━━━━━━━━━━━━━━━━━━━━━━━━┳━━━━━━━━━━━━━━━━━┓\n",
              "┃\u001b[1m \u001b[0m\u001b[1mLayer (type)                        \u001b[0m\u001b[1m \u001b[0m┃\u001b[1m \u001b[0m\u001b[1mOutput Shape               \u001b[0m\u001b[1m \u001b[0m┃\u001b[1m \u001b[0m\u001b[1m        Param #\u001b[0m\u001b[1m \u001b[0m┃\n",
              "┡━━━━━━━━━━━━━━━━━━━━━━━━━━━━━━━━━━━━━━╇━━━━━━━━━━━━━━━━━━━━━━━━━━━━━╇━━━━━━━━━━━━━━━━━┩\n",
              "│ input_layer_2 (\u001b[38;5;33mInputLayer\u001b[0m)           │ (\u001b[38;5;45mNone\u001b[0m, \u001b[38;5;34m48\u001b[0m, \u001b[38;5;34m48\u001b[0m, \u001b[38;5;34m3\u001b[0m)           │               \u001b[38;5;34m0\u001b[0m │\n",
              "├──────────────────────────────────────┼─────────────────────────────┼─────────────────┤\n",
              "│ block1_conv1 (\u001b[38;5;33mConv2D\u001b[0m)                │ (\u001b[38;5;45mNone\u001b[0m, \u001b[38;5;34m48\u001b[0m, \u001b[38;5;34m48\u001b[0m, \u001b[38;5;34m64\u001b[0m)          │           \u001b[38;5;34m1,792\u001b[0m │\n",
              "├──────────────────────────────────────┼─────────────────────────────┼─────────────────┤\n",
              "│ block1_conv2 (\u001b[38;5;33mConv2D\u001b[0m)                │ (\u001b[38;5;45mNone\u001b[0m, \u001b[38;5;34m48\u001b[0m, \u001b[38;5;34m48\u001b[0m, \u001b[38;5;34m64\u001b[0m)          │          \u001b[38;5;34m36,928\u001b[0m │\n",
              "├──────────────────────────────────────┼─────────────────────────────┼─────────────────┤\n",
              "│ block1_pool (\u001b[38;5;33mMaxPooling2D\u001b[0m)           │ (\u001b[38;5;45mNone\u001b[0m, \u001b[38;5;34m24\u001b[0m, \u001b[38;5;34m24\u001b[0m, \u001b[38;5;34m64\u001b[0m)          │               \u001b[38;5;34m0\u001b[0m │\n",
              "├──────────────────────────────────────┼─────────────────────────────┼─────────────────┤\n",
              "│ block2_conv1 (\u001b[38;5;33mConv2D\u001b[0m)                │ (\u001b[38;5;45mNone\u001b[0m, \u001b[38;5;34m24\u001b[0m, \u001b[38;5;34m24\u001b[0m, \u001b[38;5;34m128\u001b[0m)         │          \u001b[38;5;34m73,856\u001b[0m │\n",
              "├──────────────────────────────────────┼─────────────────────────────┼─────────────────┤\n",
              "│ block2_conv2 (\u001b[38;5;33mConv2D\u001b[0m)                │ (\u001b[38;5;45mNone\u001b[0m, \u001b[38;5;34m24\u001b[0m, \u001b[38;5;34m24\u001b[0m, \u001b[38;5;34m128\u001b[0m)         │         \u001b[38;5;34m147,584\u001b[0m │\n",
              "├──────────────────────────────────────┼─────────────────────────────┼─────────────────┤\n",
              "│ block2_pool (\u001b[38;5;33mMaxPooling2D\u001b[0m)           │ (\u001b[38;5;45mNone\u001b[0m, \u001b[38;5;34m12\u001b[0m, \u001b[38;5;34m12\u001b[0m, \u001b[38;5;34m128\u001b[0m)         │               \u001b[38;5;34m0\u001b[0m │\n",
              "├──────────────────────────────────────┼─────────────────────────────┼─────────────────┤\n",
              "│ block3_conv1 (\u001b[38;5;33mConv2D\u001b[0m)                │ (\u001b[38;5;45mNone\u001b[0m, \u001b[38;5;34m12\u001b[0m, \u001b[38;5;34m12\u001b[0m, \u001b[38;5;34m256\u001b[0m)         │         \u001b[38;5;34m295,168\u001b[0m │\n",
              "├──────────────────────────────────────┼─────────────────────────────┼─────────────────┤\n",
              "│ block3_conv2 (\u001b[38;5;33mConv2D\u001b[0m)                │ (\u001b[38;5;45mNone\u001b[0m, \u001b[38;5;34m12\u001b[0m, \u001b[38;5;34m12\u001b[0m, \u001b[38;5;34m256\u001b[0m)         │         \u001b[38;5;34m590,080\u001b[0m │\n",
              "├──────────────────────────────────────┼─────────────────────────────┼─────────────────┤\n",
              "│ block3_conv3 (\u001b[38;5;33mConv2D\u001b[0m)                │ (\u001b[38;5;45mNone\u001b[0m, \u001b[38;5;34m12\u001b[0m, \u001b[38;5;34m12\u001b[0m, \u001b[38;5;34m256\u001b[0m)         │         \u001b[38;5;34m590,080\u001b[0m │\n",
              "├──────────────────────────────────────┼─────────────────────────────┼─────────────────┤\n",
              "│ block3_pool (\u001b[38;5;33mMaxPooling2D\u001b[0m)           │ (\u001b[38;5;45mNone\u001b[0m, \u001b[38;5;34m6\u001b[0m, \u001b[38;5;34m6\u001b[0m, \u001b[38;5;34m256\u001b[0m)           │               \u001b[38;5;34m0\u001b[0m │\n",
              "├──────────────────────────────────────┼─────────────────────────────┼─────────────────┤\n",
              "│ block4_conv1 (\u001b[38;5;33mConv2D\u001b[0m)                │ (\u001b[38;5;45mNone\u001b[0m, \u001b[38;5;34m6\u001b[0m, \u001b[38;5;34m6\u001b[0m, \u001b[38;5;34m512\u001b[0m)           │       \u001b[38;5;34m1,180,160\u001b[0m │\n",
              "├──────────────────────────────────────┼─────────────────────────────┼─────────────────┤\n",
              "│ block4_conv2 (\u001b[38;5;33mConv2D\u001b[0m)                │ (\u001b[38;5;45mNone\u001b[0m, \u001b[38;5;34m6\u001b[0m, \u001b[38;5;34m6\u001b[0m, \u001b[38;5;34m512\u001b[0m)           │       \u001b[38;5;34m2,359,808\u001b[0m │\n",
              "├──────────────────────────────────────┼─────────────────────────────┼─────────────────┤\n",
              "│ block4_conv3 (\u001b[38;5;33mConv2D\u001b[0m)                │ (\u001b[38;5;45mNone\u001b[0m, \u001b[38;5;34m6\u001b[0m, \u001b[38;5;34m6\u001b[0m, \u001b[38;5;34m512\u001b[0m)           │       \u001b[38;5;34m2,359,808\u001b[0m │\n",
              "├──────────────────────────────────────┼─────────────────────────────┼─────────────────┤\n",
              "│ block4_pool (\u001b[38;5;33mMaxPooling2D\u001b[0m)           │ (\u001b[38;5;45mNone\u001b[0m, \u001b[38;5;34m3\u001b[0m, \u001b[38;5;34m3\u001b[0m, \u001b[38;5;34m512\u001b[0m)           │               \u001b[38;5;34m0\u001b[0m │\n",
              "├──────────────────────────────────────┼─────────────────────────────┼─────────────────┤\n",
              "│ block5_conv1 (\u001b[38;5;33mConv2D\u001b[0m)                │ (\u001b[38;5;45mNone\u001b[0m, \u001b[38;5;34m3\u001b[0m, \u001b[38;5;34m3\u001b[0m, \u001b[38;5;34m512\u001b[0m)           │       \u001b[38;5;34m2,359,808\u001b[0m │\n",
              "├──────────────────────────────────────┼─────────────────────────────┼─────────────────┤\n",
              "│ block5_conv2 (\u001b[38;5;33mConv2D\u001b[0m)                │ (\u001b[38;5;45mNone\u001b[0m, \u001b[38;5;34m3\u001b[0m, \u001b[38;5;34m3\u001b[0m, \u001b[38;5;34m512\u001b[0m)           │       \u001b[38;5;34m2,359,808\u001b[0m │\n",
              "├──────────────────────────────────────┼─────────────────────────────┼─────────────────┤\n",
              "│ block5_conv3 (\u001b[38;5;33mConv2D\u001b[0m)                │ (\u001b[38;5;45mNone\u001b[0m, \u001b[38;5;34m3\u001b[0m, \u001b[38;5;34m3\u001b[0m, \u001b[38;5;34m512\u001b[0m)           │       \u001b[38;5;34m2,359,808\u001b[0m │\n",
              "├──────────────────────────────────────┼─────────────────────────────┼─────────────────┤\n",
              "│ block5_pool (\u001b[38;5;33mMaxPooling2D\u001b[0m)           │ (\u001b[38;5;45mNone\u001b[0m, \u001b[38;5;34m1\u001b[0m, \u001b[38;5;34m1\u001b[0m, \u001b[38;5;34m512\u001b[0m)           │               \u001b[38;5;34m0\u001b[0m │\n",
              "├──────────────────────────────────────┼─────────────────────────────┼─────────────────┤\n",
              "│ flatten_1 (\u001b[38;5;33mFlatten\u001b[0m)                  │ (\u001b[38;5;45mNone\u001b[0m, \u001b[38;5;34m512\u001b[0m)                 │               \u001b[38;5;34m0\u001b[0m │\n",
              "├──────────────────────────────────────┼─────────────────────────────┼─────────────────┤\n",
              "│ fc1 (\u001b[38;5;33mDense\u001b[0m)                          │ (\u001b[38;5;45mNone\u001b[0m, \u001b[38;5;34m1024\u001b[0m)                │         \u001b[38;5;34m525,312\u001b[0m │\n",
              "├──────────────────────────────────────┼─────────────────────────────┼─────────────────┤\n",
              "│ dropout_4 (\u001b[38;5;33mDropout\u001b[0m)                  │ (\u001b[38;5;45mNone\u001b[0m, \u001b[38;5;34m1024\u001b[0m)                │               \u001b[38;5;34m0\u001b[0m │\n",
              "├──────────────────────────────────────┼─────────────────────────────┼─────────────────┤\n",
              "│ predictions (\u001b[38;5;33mDense\u001b[0m)                  │ (\u001b[38;5;45mNone\u001b[0m, \u001b[38;5;34m10\u001b[0m)                  │          \u001b[38;5;34m10,250\u001b[0m │\n",
              "└──────────────────────────────────────┴─────────────────────────────┴─────────────────┘\n"
            ]
          },
          "metadata": {},
          "output_type": "display_data"
        },
        {
          "data": {
            "text/html": [
              "<pre style=\"white-space:pre;overflow-x:auto;line-height:normal;font-family:Menlo,'DejaVu Sans Mono',consolas,'Courier New',monospace\"><span style=\"font-weight: bold\"> Total params: </span><span style=\"color: #00af00; text-decoration-color: #00af00\">15,250,250</span> (58.18 MB)\n",
              "</pre>\n"
            ],
            "text/plain": [
              "\u001b[1m Total params: \u001b[0m\u001b[38;5;34m15,250,250\u001b[0m (58.18 MB)\n"
            ]
          },
          "metadata": {},
          "output_type": "display_data"
        },
        {
          "data": {
            "text/html": [
              "<pre style=\"white-space:pre;overflow-x:auto;line-height:normal;font-family:Menlo,'DejaVu Sans Mono',consolas,'Courier New',monospace\"><span style=\"font-weight: bold\"> Trainable params: </span><span style=\"color: #00af00; text-decoration-color: #00af00\">2,895,370</span> (11.04 MB)\n",
              "</pre>\n"
            ],
            "text/plain": [
              "\u001b[1m Trainable params: \u001b[0m\u001b[38;5;34m2,895,370\u001b[0m (11.04 MB)\n"
            ]
          },
          "metadata": {},
          "output_type": "display_data"
        },
        {
          "data": {
            "text/html": [
              "<pre style=\"white-space:pre;overflow-x:auto;line-height:normal;font-family:Menlo,'DejaVu Sans Mono',consolas,'Courier New',monospace\"><span style=\"font-weight: bold\"> Non-trainable params: </span><span style=\"color: #00af00; text-decoration-color: #00af00\">12,354,880</span> (47.13 MB)\n",
              "</pre>\n"
            ],
            "text/plain": [
              "\u001b[1m Non-trainable params: \u001b[0m\u001b[38;5;34m12,354,880\u001b[0m (47.13 MB)\n"
            ]
          },
          "metadata": {},
          "output_type": "display_data"
        }
      ],
      "source": [
        "import tensorflow as tf\n",
        "from tensorflow.keras.preprocessing.image import ImageDataGenerator\n",
        "\n",
        "for layer in base_model.layers:\n",
        "  layer.trainable = False\n",
        "  if layer.name == \"block5_conv3\":\n",
        "    layer.trainable = True\n",
        "\n",
        "last = base_model.layers[-1].output\n",
        "x = Flatten()(last)\n",
        "x = Dense(1024, activation=\"relu\", name=\"fc1\")(x)\n",
        "x = Dropout(0.5)(x)\n",
        "x = Dense(10, activation=\"linear\", name=\"predictions\")(x)\n",
        "cnn_model = Model(base_model.input, x)\n",
        "\n",
        "# compilamos el modelo\n",
        "cnn_model.compile(loss=\"mean_squared_error\", optimizer=Adam(0.001), metrics=[\"mse\"])\n",
        "# vemos la nueva estructura del modelo\n",
        "cnn_model.summary()\n",
        "\n",
        "\n"
      ]
    },
    {
      "cell_type": "markdown",
      "metadata": {
        "id": "0lbIFsDW5hz_"
      },
      "source": [
        "* Entrenamos el modelo pre-entrenado con Fine Tuning"
      ]
    },
    {
      "cell_type": "code",
      "execution_count": null,
      "metadata": {
        "colab": {
          "base_uri": "https://localhost:8080/"
        },
        "id": "q6xljBTN7AA1",
        "outputId": "3b4f3db1-7a0e-495a-de59-0156f6780e7a"
      },
      "outputs": [
        {
          "name": "stdout",
          "output_type": "stream",
          "text": [
            "Epoch 1/20\n",
            "\u001b[1m4/4\u001b[0m \u001b[32m━━━━━━━━━━━━━━━━━━━━\u001b[0m\u001b[37m\u001b[0m \u001b[1m75s\u001b[0m 20s/step - loss: 44658.5234 - mse: 44658.5234 - val_loss: 44687.5508 - val_mse: 44687.5508\n",
            "Epoch 2/20\n",
            "\u001b[1m4/4\u001b[0m \u001b[32m━━━━━━━━━━━━━━━━━━━━\u001b[0m\u001b[37m\u001b[0m \u001b[1m80s\u001b[0m 19s/step - loss: 33992.8125 - mse: 33992.8125 - val_loss: 24501.1738 - val_mse: 24501.1738\n",
            "Epoch 3/20\n",
            "\u001b[1m4/4\u001b[0m \u001b[32m━━━━━━━━━━━━━━━━━━━━\u001b[0m\u001b[37m\u001b[0m \u001b[1m72s\u001b[0m 19s/step - loss: 21768.2227 - mse: 21768.2227 - val_loss: 26233.6816 - val_mse: 26233.6816\n",
            "Epoch 4/20\n",
            "\u001b[1m4/4\u001b[0m \u001b[32m━━━━━━━━━━━━━━━━━━━━\u001b[0m\u001b[37m\u001b[0m \u001b[1m75s\u001b[0m 17s/step - loss: 22671.5391 - mse: 22671.5391 - val_loss: 24145.7168 - val_mse: 24145.7168\n",
            "Epoch 5/20\n",
            "\u001b[1m4/4\u001b[0m \u001b[32m━━━━━━━━━━━━━━━━━━━━\u001b[0m\u001b[37m\u001b[0m \u001b[1m65s\u001b[0m 17s/step - loss: 20978.7617 - mse: 20978.7617 - val_loss: 26299.6328 - val_mse: 26299.6328\n",
            "Epoch 6/20\n",
            "\u001b[1m4/4\u001b[0m \u001b[32m━━━━━━━━━━━━━━━━━━━━\u001b[0m\u001b[37m\u001b[0m \u001b[1m92s\u001b[0m 20s/step - loss: 21537.2305 - mse: 21537.2305 - val_loss: 23825.9727 - val_mse: 23825.9727\n",
            "Epoch 7/20\n",
            "\u001b[1m4/4\u001b[0m \u001b[32m━━━━━━━━━━━━━━━━━━━━\u001b[0m\u001b[37m\u001b[0m \u001b[1m73s\u001b[0m 17s/step - loss: 20014.4668 - mse: 20014.4668 - val_loss: 23233.7832 - val_mse: 23233.7832\n",
            "Epoch 8/20\n",
            "\u001b[1m4/4\u001b[0m \u001b[32m━━━━━━━━━━━━━━━━━━━━\u001b[0m\u001b[37m\u001b[0m \u001b[1m81s\u001b[0m 17s/step - loss: 20505.4570 - mse: 20505.4570 - val_loss: 23066.1484 - val_mse: 23066.1484\n",
            "Epoch 9/20\n",
            "\u001b[1m4/4\u001b[0m \u001b[32m━━━━━━━━━━━━━━━━━━━━\u001b[0m\u001b[37m\u001b[0m \u001b[1m75s\u001b[0m 20s/step - loss: 19846.1777 - mse: 19846.1777 - val_loss: 23810.8965 - val_mse: 23810.8965\n",
            "Epoch 10/20\n",
            "\u001b[1m4/4\u001b[0m \u001b[32m━━━━━━━━━━━━━━━━━━━━\u001b[0m\u001b[37m\u001b[0m \u001b[1m79s\u001b[0m 19s/step - loss: 19957.9219 - mse: 19957.9219 - val_loss: 23655.5527 - val_mse: 23655.5527\n",
            "Epoch 11/20\n",
            "\u001b[1m4/4\u001b[0m \u001b[32m━━━━━━━━━━━━━━━━━━━━\u001b[0m\u001b[37m\u001b[0m \u001b[1m75s\u001b[0m 17s/step - loss: 19802.9824 - mse: 19802.9824 - val_loss: 23067.3145 - val_mse: 23067.3145\n",
            "Epoch 12/20\n",
            "\u001b[1m4/4\u001b[0m \u001b[32m━━━━━━━━━━━━━━━━━━━━\u001b[0m\u001b[37m\u001b[0m \u001b[1m82s\u001b[0m 17s/step - loss: 19634.0234 - mse: 19634.0234 - val_loss: 23043.7676 - val_mse: 23043.7676\n",
            "Epoch 13/20\n",
            "\u001b[1m4/4\u001b[0m \u001b[32m━━━━━━━━━━━━━━━━━━━━\u001b[0m\u001b[37m\u001b[0m \u001b[1m82s\u001b[0m 17s/step - loss: 19613.8242 - mse: 19613.8242 - val_loss: 23332.0234 - val_mse: 23332.0234\n",
            "Epoch 14/20\n",
            "\u001b[1m4/4\u001b[0m \u001b[32m━━━━━━━━━━━━━━━━━━━━\u001b[0m\u001b[37m\u001b[0m \u001b[1m81s\u001b[0m 17s/step - loss: 19569.7812 - mse: 19569.7812 - val_loss: 23353.1250 - val_mse: 23353.1250\n",
            "Epoch 15/20\n",
            "\u001b[1m4/4\u001b[0m \u001b[32m━━━━━━━━━━━━━━━━━━━━\u001b[0m\u001b[37m\u001b[0m \u001b[1m65s\u001b[0m 17s/step - loss: 19346.2773 - mse: 19346.2773 - val_loss: 23109.7695 - val_mse: 23109.7695\n",
            "Epoch 16/20\n",
            "\u001b[1m4/4\u001b[0m \u001b[32m━━━━━━━━━━━━━━━━━━━━\u001b[0m\u001b[37m\u001b[0m \u001b[1m64s\u001b[0m 17s/step - loss: 19345.3945 - mse: 19345.3945 - val_loss: 23130.8672 - val_mse: 23130.8672\n",
            "Epoch 17/20\n",
            "\u001b[1m4/4\u001b[0m \u001b[32m━━━━━━━━━━━━━━━━━━━━\u001b[0m\u001b[37m\u001b[0m \u001b[1m93s\u001b[0m 20s/step - loss: 19461.2969 - mse: 19461.2988 - val_loss: 23292.1855 - val_mse: 23292.1855\n",
            "Epoch 18/20\n",
            "\u001b[1m4/4\u001b[0m \u001b[32m━━━━━━━━━━━━━━━━━━━━\u001b[0m\u001b[37m\u001b[0m \u001b[1m71s\u001b[0m 17s/step - loss: 19359.1621 - mse: 19359.1621 - val_loss: 23241.2734 - val_mse: 23241.2734\n",
            "Epoch 19/20\n",
            "\u001b[1m4/4\u001b[0m \u001b[32m━━━━━━━━━━━━━━━━━━━━\u001b[0m\u001b[37m\u001b[0m \u001b[1m65s\u001b[0m 17s/step - loss: 19135.4727 - mse: 19135.4727 - val_loss: 23168.5488 - val_mse: 23168.5488\n",
            "Epoch 20/20\n",
            "\u001b[1m4/4\u001b[0m \u001b[32m━━━━━━━━━━━━━━━━━━━━\u001b[0m\u001b[37m\u001b[0m \u001b[1m83s\u001b[0m 17s/step - loss: 19131.3477 - mse: 19131.3477 - val_loss: 23253.6777 - val_mse: 23253.6777\n"
          ]
        }
      ],
      "source": [
        "epochs = 20\n",
        "batch_size = 512\n",
        "\n",
        "H_cnn = cnn_model.fit(X_train_resized, y_train,\n",
        "          batch_size=batch_size,\n",
        "          validation_data=(X_val_resized, y_val),\n",
        "          epochs=epochs)"
      ]
    },
    {
      "cell_type": "markdown",
      "metadata": {
        "id": "OkoB4u4n5bH6"
      },
      "source": [
        "* Evaluamos el modelo"
      ]
    },
    {
      "cell_type": "code",
      "execution_count": null,
      "metadata": {
        "colab": {
          "base_uri": "https://localhost:8080/"
        },
        "id": "2wQNTbokDZ1t",
        "outputId": "00a44a5c-bc7f-493b-a96d-34d93de80d98"
      },
      "outputs": [
        {
          "name": "stdout",
          "output_type": "stream",
          "text": [
            "\u001b[1m20/20\u001b[0m \u001b[32m━━━━━━━━━━━━━━━━━━━━\u001b[0m\u001b[37m\u001b[0m \u001b[1m15s\u001b[0m 770ms/step - loss: 18266.3125 - mse: 18266.3125\n",
            "Test MSE: 16999.6015625\n"
          ]
        }
      ],
      "source": [
        "scores = cnn_model.evaluate(X_test_resized, y_test, verbose=1)\n",
        "print('Test MSE:', scores[1])"
      ]
    },
    {
      "cell_type": "markdown",
      "metadata": {
        "id": "UaX1k80rb33n"
      },
      "source": [
        "* Dibujamos el MSE durante el entrenamiento"
      ]
    },
    {
      "cell_type": "code",
      "execution_count": null,
      "metadata": {
        "colab": {
          "base_uri": "https://localhost:8080/",
          "height": 477
        },
        "id": "bj28jhpdb1k8",
        "outputId": "ca747294-be90-4044-caf7-d67ca1055920"
      },
      "outputs": [
        {
          "data": {
            "image/png": "[encoded data removed]",
            "text/plain": [
              "<Figure size 640x480 with 1 Axes>"
            ]
          },
          "metadata": {},
          "output_type": "display_data"
        }
      ],
      "source": [
        "plt.style.use(\"ggplot\")\n",
        "plt.figure()\n",
        "plt.plot(np.arange(0, epochs), H_cnn.history[\"mse\"], label=\"train_mse\")\n",
        "plt.plot(np.arange(0, epochs), H_cnn.history[\"val_mse\"], label=\"val_mse\")\n",
        "plt.title(\"Training and Validation MSE\")\n",
        "plt.xlabel(\"Epoch\")\n",
        "plt.ylabel(\"MSE\")\n",
        "plt.legend()\n",
        "plt.show()"
      ]
    },
    {
      "cell_type": "markdown",
      "source": [
        "Como podemos observar, el modelo ha empeorado. A pesar de mejorar el MSE del modelo, en este caso está sufriendo un claro overfitting, y la generalización del modelo ha disminuido."
      ],
      "metadata": {
        "id": "NXai1Irdc5Y1"
      }
    },
    {
      "cell_type": "markdown",
      "metadata": {
        "id": "-xgdiqxjbKTQ"
      },
      "source": [
        "## 3.4. LATE FUSION"
      ]
    },
    {
      "cell_type": "code",
      "execution_count": null,
      "metadata": {
        "colab": {
          "base_uri": "https://localhost:8080/"
        },
        "id": "J4U9uiAGROhh",
        "outputId": "c18e59d7-93d4-4977-9e26-24c08c3503f0"
      },
      "outputs": [
        {
          "name": "stdout",
          "output_type": "stream",
          "text": [
            "\u001b[1m2/2\u001b[0m \u001b[32m━━━━━━━━━━━━━━━━━━━━\u001b[0m\u001b[37m\u001b[0m \u001b[1m0s\u001b[0m 6ms/step \n"
          ]
        },
        {
          "name": "stderr",
          "output_type": "stream",
          "text": [
            "WARNING:tensorflow:5 out of the last 13 calls to <function TensorFlowTrainer.make_predict_function.<locals>.one_step_on_data_distributed at 0x78f1c8def250> triggered tf.function retracing. Tracing is expensive and the excessive number of tracings could be due to (1) creating @tf.function repeatedly in a loop, (2) passing tensors with different shapes, (3) passing Python objects instead of tensors. For (1), please define your @tf.function outside of the loop. For (2), @tf.function has reduce_retracing=True option that can avoid unnecessary retracing. For (3), please refer to https://www.tensorflow.org/guide/function#controlling_retracing and https://www.tensorflow.org/api_docs/python/tf/function for  more details.\n"
          ]
        },
        {
          "name": "stdout",
          "output_type": "stream",
          "text": [
            "\r\u001b[1m1/2\u001b[0m \u001b[32m━━━━━━━━━━\u001b[0m\u001b[37m━━━━━━━━━━\u001b[0m \u001b[1m13s\u001b[0m 14s/step"
          ]
        },
        {
          "name": "stderr",
          "output_type": "stream",
          "text": [
            "WARNING:tensorflow:6 out of the last 14 calls to <function TensorFlowTrainer.make_predict_function.<locals>.one_step_on_data_distributed at 0x78f1c8def250> triggered tf.function retracing. Tracing is expensive and the excessive number of tracings could be due to (1) creating @tf.function repeatedly in a loop, (2) passing tensors with different shapes, (3) passing Python objects instead of tensors. For (1), please define your @tf.function outside of the loop. For (2), @tf.function has reduce_retracing=True option that can avoid unnecessary retracing. For (3), please refer to https://www.tensorflow.org/guide/function#controlling_retracing and https://www.tensorflow.org/api_docs/python/tf/function for  more details.\n"
          ]
        },
        {
          "name": "stdout",
          "output_type": "stream",
          "text": [
            "\u001b[1m2/2\u001b[0m \u001b[32m━━━━━━━━━━━━━━━━━━━━\u001b[0m\u001b[37m\u001b[0m \u001b[1m16s\u001b[0m 2s/step\n",
            "Late Fusion MSE: 9153.832604539299\n"
          ]
        }
      ],
      "source": [
        "from tensorflow.keras.layers import Concatenate, Dense, Input\n",
        "from tensorflow.keras.models import Model\n",
        "from tensorflow.keras.layers import Input\n",
        "from sklearn.linear_model import LinearRegression\n",
        "\n",
        "\n",
        "tabular_predictions = tabular_model.predict(x_test2, batch_size=batch_size)\n",
        "cnn_predictions = cnn_model.predict(X_test_resized, batch_size=batch_size)\n",
        "\n",
        "fused_predictions = np.concatenate([tabular_predictions, cnn_predictions], axis=1)\n",
        "\n",
        "fusion_model = LinearRegression()\n",
        "fusion_model.fit(fused_predictions, y_test)\n",
        "\n",
        "final_predictions = fusion_model.predict(fused_predictions)\n",
        "mse = mean_squared_error(y_test, final_predictions)\n",
        "print(f\"Late Fusion MSE: {mse}\")\n"
      ]
    },
    {
      "cell_type": "markdown",
      "metadata": {
        "id": "Opv5NbHKdkYa"
      },
      "source": [
        "* Evaluamos el modelo"
      ]
    },
    {
      "cell_type": "code",
      "execution_count": null,
      "metadata": {
        "colab": {
          "base_uri": "https://localhost:8080/"
        },
        "id": "6OEbgAxYqOej",
        "outputId": "b0205b78-4e70-40fe-fae8-a471bf9b7eb2"
      },
      "outputs": [
        {
          "name": "stdout",
          "output_type": "stream",
          "text": [
            "Late Fusion - Test MSE: 9153.832604539299\n",
            "Late Fusion - Test MAE: 62.196851767263105\n"
          ]
        }
      ],
      "source": [
        "# Evaluamos las predicciones finales\n",
        "mse = mean_squared_error(y_test, final_predictions)\n",
        "mae = mean_absolute_error(y_test, final_predictions)\n",
        "\n",
        "print(f\"Late Fusion - Test MSE: {mse}\")\n",
        "print(f\"Late Fusion - Test MAE: {mae}\")"
      ]
    },
    {
      "cell_type": "markdown",
      "metadata": {
        "id": "ezO0RQ2hbYtV"
      },
      "source": [
        "## 3.5. EARLY FUSION"
      ]
    },
    {
      "cell_type": "code",
      "execution_count": null,
      "metadata": {
        "id": "Oedxlr6ya5PW"
      },
      "outputs": [],
      "source": [
        "from tensorflow.keras.layers import Input, Dense, Concatenate, Flatten\n",
        "from tensorflow.keras.models import Model\n",
        "from tensorflow.keras.applications import VGG16\n",
        "from tensorflow.keras.optimizers import Adam\n",
        "\n",
        "# Entrada para datos tabulares\n",
        "tabular_input = Input(shape=(x_train2.shape[1],), name=\"tabular_input\")\n",
        "x_tabular = Dense(128, activation=\"relu\")(tabular_input)\n",
        "x_tabular = Dropout(0.2)(x_tabular)\n",
        "x_tabular = Dense(64, activation=\"relu\")(x_tabular)\n",
        "\n",
        "# Entrada para imágenes\n",
        "image_input = base_model.input\n",
        "x_image = base_model.output\n",
        "x_image = Flatten()(x_image)\n",
        "x_image = Dense(1024, activation=\"relu\")(x_image)\n",
        "x_image = Dropout(0.5)(x_image)\n",
        "\n",
        "# Fusionamos ambas ramas\n",
        "merged = Concatenate()([x_tabular, x_image])\n",
        "x = Dense(64, activation=\"relu\")(merged)\n",
        "x = Dropout(0.5)(x)\n",
        "x = Dense(1, activation=\"linear\")(x)\n",
        "\n",
        "# Modelo Early Fusion\n",
        "early_fusion_model = Model(inputs=[tabular_input, image_input], outputs=x)\n",
        "\n",
        "early_fusion_model.compile(optimizer=Adam(0.001), loss=\"mean_squared_error\", metrics=[\"mse\"])"
      ]
    },
    {
      "cell_type": "markdown",
      "metadata": {
        "id": "JkKX0njEJ495"
      },
      "source": [
        "* Entrenamos el modelo"
      ]
    },
    {
      "cell_type": "code",
      "execution_count": null,
      "metadata": {
        "colab": {
          "background_save": true,
          "base_uri": "https://localhost:8080/"
        },
        "id": "RLnaeIL5J2j6",
        "outputId": "7a0b50e0-8671-459f-c079-eee243bb929d"
      },
      "outputs": [
        {
          "name": "stdout",
          "output_type": "stream",
          "text": [
            "Epoch 1/20\n",
            "\u001b[1m4/4\u001b[0m \u001b[32m━━━━━━━━━━━━━━━━━━━━\u001b[0m\u001b[37m\u001b[0m \u001b[1m229s\u001b[0m 56s/step - loss: 95901.9688 - mse: 95901.9688 - val_loss: 52376.3945 - val_mse: 52376.3945\n",
            "Epoch 2/20\n",
            "\u001b[1m4/4\u001b[0m \u001b[32m━━━━━━━━━━━━━━━━━━━━\u001b[0m\u001b[37m\u001b[0m \u001b[1m221s\u001b[0m 56s/step - loss: 45269.6289 - mse: 45269.6289 - val_loss: 52786.3242 - val_mse: 52786.3242\n",
            "Epoch 3/20\n",
            "\u001b[1m4/4\u001b[0m \u001b[32m━━━━━━━━━━━━━━━━━━━━\u001b[0m\u001b[37m\u001b[0m \u001b[1m260s\u001b[0m 55s/step - loss: 45478.6367 - mse: 45478.6367 - val_loss: 52536.4648 - val_mse: 52536.4648\n",
            "Epoch 4/20\n",
            "\u001b[1m4/4\u001b[0m \u001b[32m━━━━━━━━━━━━━━━━━━━━\u001b[0m\u001b[37m\u001b[0m \u001b[1m263s\u001b[0m 55s/step - loss: 44966.3945 - mse: 44966.3945 - val_loss: 50052.3555 - val_mse: 50052.3555\n",
            "Epoch 5/20\n",
            "\u001b[1m4/4\u001b[0m \u001b[32m━━━━━━━━━━━━━━━━━━━━\u001b[0m\u001b[37m\u001b[0m \u001b[1m262s\u001b[0m 55s/step - loss: 40373.2148 - mse: 40373.2148 - val_loss: 30606.2773 - val_mse: 30606.2773\n",
            "Epoch 6/20\n",
            "\u001b[1m4/4\u001b[0m \u001b[32m━━━━━━━━━━━━━━━━━━━━\u001b[0m\u001b[37m\u001b[0m \u001b[1m260s\u001b[0m 55s/step - loss: 32428.3984 - mse: 32428.3984 - val_loss: 48294.4688 - val_mse: 48294.4688\n",
            "Epoch 7/20\n",
            "\u001b[1m4/4\u001b[0m \u001b[32m━━━━━━━━━━━━━━━━━━━━\u001b[0m\u001b[37m\u001b[0m \u001b[1m264s\u001b[0m 56s/step - loss: 41380.0781 - mse: 41380.0781 - val_loss: 48559.7461 - val_mse: 48559.7461\n",
            "Epoch 8/20\n",
            "\u001b[1m4/4\u001b[0m \u001b[32m━━━━━━━━━━━━━━━━━━━━\u001b[0m\u001b[37m\u001b[0m \u001b[1m220s\u001b[0m 56s/step - loss: 40408.5078 - mse: 40408.5078 - val_loss: 38234.6172 - val_mse: 38234.6172\n",
            "Epoch 9/20\n",
            "\u001b[1m4/4\u001b[0m \u001b[32m━━━━━━━━━━━━━━━━━━━━\u001b[0m\u001b[37m\u001b[0m \u001b[1m261s\u001b[0m 56s/step - loss: 30771.4531 - mse: 30771.4531 - val_loss: 31306.0703 - val_mse: 31306.0703\n",
            "Epoch 10/20\n",
            "\u001b[1m4/4\u001b[0m \u001b[32m━━━━━━━━━━━━━━━━━━━━\u001b[0m\u001b[37m\u001b[0m \u001b[1m261s\u001b[0m 55s/step - loss: 28599.0703 - mse: 28599.0703 - val_loss: 33498.4609 - val_mse: 33498.4609\n",
            "Epoch 11/20\n",
            "\u001b[1m4/4\u001b[0m \u001b[32m━━━━━━━━━━━━━━━━━━━━\u001b[0m\u001b[37m\u001b[0m \u001b[1m270s\u001b[0m 58s/step - loss: 26749.7754 - mse: 26749.7754 - val_loss: 24498.1094 - val_mse: 24498.1094\n",
            "Epoch 12/20\n",
            "\u001b[1m4/4\u001b[0m \u001b[32m━━━━━━━━━━━━━━━━━━━━\u001b[0m\u001b[37m\u001b[0m \u001b[1m256s\u001b[0m 56s/step - loss: 25119.2793 - mse: 25119.2793 - val_loss: 28666.9277 - val_mse: 28666.9277\n",
            "Epoch 13/20\n",
            "\u001b[1m4/4\u001b[0m \u001b[32m━━━━━━━━━━━━━━━━━━━━\u001b[0m\u001b[37m\u001b[0m \u001b[1m261s\u001b[0m 55s/step - loss: 23819.4570 - mse: 23819.4570 - val_loss: 23116.5820 - val_mse: 23116.5820\n",
            "Epoch 14/20\n",
            "\u001b[1m4/4\u001b[0m \u001b[32m━━━━━━━━━━━━━━━━━━━━\u001b[0m\u001b[37m\u001b[0m \u001b[1m263s\u001b[0m 56s/step - loss: 22746.9883 - mse: 22746.9883 - val_loss: 26103.8066 - val_mse: 26103.8066\n",
            "Epoch 15/20\n",
            "\u001b[1m4/4\u001b[0m \u001b[32m━━━━━━━━━━━━━━━━━━━━\u001b[0m\u001b[37m\u001b[0m \u001b[1m260s\u001b[0m 55s/step - loss: 22215.7480 - mse: 22215.7480 - val_loss: 22419.8359 - val_mse: 22419.8359\n",
            "Epoch 16/20\n",
            "\u001b[1m4/4\u001b[0m \u001b[32m━━━━━━━━━━━━━━━━━━━━\u001b[0m\u001b[37m\u001b[0m \u001b[1m262s\u001b[0m 55s/step - loss: 21577.8242 - mse: 21577.8242 - val_loss: 24489.4277 - val_mse: 24489.4277\n",
            "Epoch 17/20\n",
            "\u001b[1m4/4\u001b[0m \u001b[32m━━━━━━━━━━━━━━━━━━━━\u001b[0m\u001b[37m\u001b[0m \u001b[1m271s\u001b[0m 58s/step - loss: 20851.3340 - mse: 20851.3340 - val_loss: 21720.5488 - val_mse: 21720.5488\n",
            "Epoch 18/20\n",
            "\u001b[1m4/4\u001b[0m \u001b[32m━━━━━━━━━━━━━━━━━━━━\u001b[0m\u001b[37m\u001b[0m \u001b[1m252s\u001b[0m 55s/step - loss: 20009.8105 - mse: 20009.8105 - val_loss: 22251.2480 - val_mse: 22251.2480\n",
            "Epoch 19/20\n",
            "\u001b[1m4/4\u001b[0m \u001b[32m━━━━━━━━━━━━━━━━━━━━\u001b[0m\u001b[37m\u001b[0m \u001b[1m263s\u001b[0m 55s/step - loss: 19251.2715 - mse: 19251.2715 - val_loss: 20768.0547 - val_mse: 20768.0547\n",
            "Epoch 20/20\n",
            "\u001b[1m4/4\u001b[0m \u001b[32m━━━━━━━━━━━━━━━━━━━━\u001b[0m\u001b[37m\u001b[0m \u001b[1m262s\u001b[0m 54s/step - loss: 18813.3281 - mse: 18813.3281 - val_loss: 20740.0000 - val_mse: 20740.0000\n"
          ]
        }
      ],
      "source": [
        "H_early = early_fusion_model.fit(\n",
        "    [x_train2, X_train_resized], y_train,\n",
        "    validation_data=([x_val2, X_val_resized], y_val),\n",
        "    epochs=20,\n",
        "    batch_size=512\n",
        ")\n"
      ]
    },
    {
      "cell_type": "markdown",
      "metadata": {
        "id": "gLPIv_EPJ7H-"
      },
      "source": [
        "* Evaluamos el modelo"
      ]
    },
    {
      "cell_type": "code",
      "execution_count": null,
      "metadata": {
        "colab": {
          "background_save": true
        },
        "id": "7engDYT9J0xk",
        "outputId": "8ad38c6b-5445-4815-d372-435388d9517b"
      },
      "outputs": [
        {
          "name": "stdout",
          "output_type": "stream",
          "text": [
            "\u001b[1m20/20\u001b[0m \u001b[32m━━━━━━━━━━━━━━━━━━━━\u001b[0m\u001b[37m\u001b[0m \u001b[1m15s\u001b[0m 746ms/step - loss: 15628.2988 - mse: 15628.2988\n",
            "Early Fusion Test MSE: 14441.6787109375\n"
          ]
        }
      ],
      "source": [
        "scores = early_fusion_model.evaluate([x_test2, X_test_resized], y_test, verbose=1)\n",
        "print(f\"Early Fusion Test MSE: {scores[1]}\")"
      ]
    },
    {
      "cell_type": "markdown",
      "source": [
        "## 4. CONCLUSIÓN"
      ],
      "metadata": {
        "id": "gHIxANMwdDGL"
      }
    },
    {
      "cell_type": "markdown",
      "source": [
        "En definitiva, este proyecto no ha tenido como finalidad la creación de un modelo con un alto porcentaje de acierto, sino la comparación de diferentes modelos para una misma aplicación con el fin de comprobar el comportamiento de cada uno de ellos para una misma base de datos."
      ],
      "metadata": {
        "id": "66Z8sOCodgvn"
      }
    },
    {
      "cell_type": "markdown",
      "source": [
        "Hemos podido comprobar cómo los datos tabulares han sido más relevantes de cara a la predicción del precio objetivo, lo cual es totalmente razonable, ya que predecir el precio de alquiler de una vivienda vacacional únicamente a través de imágenes es bastante incongruente."
      ],
      "metadata": {
        "id": "WjjwdLnneoBy"
      }
    },
    {
      "cell_type": "markdown",
      "source": [
        "Además, hemos tenido que afrontar en varias ocasiones problemas de overfitting, los cuales han sido solucionados con una disminución de características, el uso de dropout, variaciones en el learning rate, batch size, épocas, etc.\n"
      ],
      "metadata": {
        "id": "S3yoNxbWepyd"
      }
    },
    {
      "cell_type": "markdown",
      "source": [
        "Tal y como ya se mencionó, al cambiar de datos tabulares de una dimensión a datos de dos dimensiones mediante imágenes, las métricas de pérdida (en este caso el MSE y MAE) se han disparado y han aumentado considerablemente."
      ],
      "metadata": {
        "id": "-kjhn_Uke7hH"
      }
    },
    {
      "cell_type": "markdown",
      "source": [
        "No obstante, al implementar los modelos de fusión que concatenan ambos resultados del modelo tabular y del modelo CNN, se han llegado a mejorar las métricas notablemente. Concretamente con el modelo de Late Fusion se ha obtenido el menor MSE con una diferencia importante respecto del resto de modelos."
      ],
      "metadata": {
        "id": "WLk79VX_fJKl"
      }
    },
    {
      "cell_type": "markdown",
      "source": [
        "En conclusión, no podemos afirmar haber obtenido un modelo efectivo, pero sí se puede deducir que de cara a afrontar el problema en cuestión, la predicción mediante datos tabulares es más efectiva. Sin embargo, la complementación con imágenes en los modelos de Late Fusion y Early Fusion han contribuido drásticamente en la disminución del MSE y MAE durante la predicción de precios de alquiler en viviendas vacacionales."
      ],
      "metadata": {
        "id": "POQxdQIkerMR"
      }
    }
  ],
  "metadata": {
    "colab": {
      "provenance": []
    },
    "kernelspec": {
      "display_name": "Python 3",
      "name": "python3"
    },
    "language_info": {
      "name": "python"
    }
  },
  "nbformat": 4,
  "nbformat_minor": 0
}
